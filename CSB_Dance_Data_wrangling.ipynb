{
  "nbformat": 4,
  "nbformat_minor": 0,
  "metadata": {
    "colab": {
      "provenance": [],
      "authorship_tag": "ABX9TyMAdKn7bXDSIfnl+bgu+3dg",
      "include_colab_link": true
    },
    "kernelspec": {
      "name": "python3",
      "display_name": "Python 3"
    },
    "language_info": {
      "name": "python"
    }
  },
  "cells": [
    {
      "cell_type": "markdown",
      "metadata": {
        "id": "view-in-github",
        "colab_type": "text"
      },
      "source": [
        "<a href=\"https://colab.research.google.com/github/KoreTane/Preparing-ML/blob/main/CSB_Dance_Data_wrangling.ipynb\" target=\"_parent\"><img src=\"https://colab.research.google.com/assets/colab-badge.svg\" alt=\"Open In Colab\"/></a>"
      ]
    },
    {
      "cell_type": "code",
      "source": [
        "#!pip install xlsxwriter\n",
        "#!pip install pandas-profiling==3.3.0\n",
        "#!pip install fuzzywuzzy\n",
        "#!pip install tabula-py\n",
        "#!pip install datetime"
      ],
      "metadata": {
        "id": "hjHKS54BnRBC"
      },
      "execution_count": 1,
      "outputs": []
    },
    {
      "cell_type": "code",
      "execution_count": 2,
      "metadata": {
        "id": "q9MCTYoC4Fw_",
        "colab": {
          "base_uri": "https://localhost:8080/"
        },
        "outputId": "518e437b-7293-4650-fe3f-ea130b9b56ce"
      },
      "outputs": [
        {
          "output_type": "stream",
          "name": "stderr",
          "text": [
            "/usr/local/lib/python3.10/dist-packages/numba/core/decorators.py:262: NumbaDeprecationWarning: numba.generated_jit is deprecated. Please see the documentation at: https://numba.readthedocs.io/en/stable/reference/deprecation.html#deprecation-of-generated-jit for more information and advice on a suitable replacement.\n",
            "  warnings.warn(msg, NumbaDeprecationWarning)\n",
            "/usr/local/lib/python3.10/dist-packages/visions/backends/shared/nan_handling.py:51: NumbaDeprecationWarning: The 'nopython' keyword argument was not supplied to the 'numba.jit' decorator. The implicit default value for this argument is currently False, but it will be changed to True in Numba 0.59.0. See https://numba.readthedocs.io/en/stable/reference/deprecation.html#deprecation-of-object-mode-fall-back-behaviour-when-using-jit for details.\n",
            "  def hasna(x: np.ndarray) -> bool:\n",
            "/usr/local/lib/python3.10/dist-packages/fuzzywuzzy/fuzz.py:11: UserWarning: Using slow pure-python SequenceMatcher. Install python-Levenshtein to remove this warning\n",
            "  warnings.warn('Using slow pure-python SequenceMatcher. Install python-Levenshtein to remove this warning')\n"
          ]
        }
      ],
      "source": [
        "import pandas as pd  # Manipulação de dados em formato de tabela\n",
        "import numpy as np  # Para operações numéricas\n",
        "from scipy import stats  # Para estatística e análise de dados\n",
        "import xlsxwriter  # Criar e manipular arquivos Excel\n",
        "import matplotlib.pyplot as plt  # Biblioteca para criação de gráficos\n",
        "import seaborn as sns  # Biblioteca para visualização de dados\n",
        "from scipy.stats import chi2_contingency  # Função para calcular a estatística de qui-quadrado\n",
        "import math  # Operações matemáticas\n",
        "from pandas_profiling import ProfileReport  # Biblioteca para geração de relatórios de perfil de dados\n",
        "from fuzzywuzzy import fuzz\n",
        "from fuzzywuzzy import process\n",
        "import tabula\n",
        "import datetime"
      ]
    },
    {
      "cell_type": "code",
      "source": [
        "df = pd.read_excel('CBS_CRM.xlsx', skiprows=1)"
      ],
      "metadata": {
        "id": "N7xDgQTv4sHK"
      },
      "execution_count": 3,
      "outputs": []
    },
    {
      "cell_type": "code",
      "source": [
        "# Definir tema global para os gráficos\n",
        "sns.set_theme(\n",
        "    context='talk',\n",
        "    style='ticks',\n",
        "    font_scale=.8,\n",
        "    rc={\n",
        "        'figure.figsize': (12,8)\n",
        "    }\n",
        ")"
      ],
      "metadata": {
        "id": "yxx6BAa31pBa"
      },
      "execution_count": 4,
      "outputs": []
    },
    {
      "cell_type": "code",
      "source": [
        "# Listar os atributos e funções de um objeto, excluindo os que começam com _\n",
        "def list_attributes(obj):\n",
        "  return [attr for attr in obj.__dir__() if not attr.startswith('_')]"
      ],
      "metadata": {
        "id": "nq7ca4Li1yM8"
      },
      "execution_count": 5,
      "outputs": []
    },
    {
      "cell_type": "markdown",
      "source": [
        "<h1><font size=\"5\" color=\"#FF69B4\">Exploração e tratamento de dados</font></h1>\n",
        "\n",
        "<p><font size=\"4\">Nesta seção, vamos explorar e tratar os dados para prepará-los para a análise. Isso inclui:\n",
        "\n",
        "* Visualização dos dados para entender a distribuição e a estrutura\n",
        "* Tratamento de valores ausentes e outliers\n",
        "* Transformação de variáveis para melhorar a análise.</font></p>"
      ],
      "metadata": {
        "id": "BWY7_XJlRk9_"
      }
    },
    {
      "cell_type": "code",
      "source": [
        "df.drop('Unnamed: 15', axis=1, inplace=True)"
      ],
      "metadata": {
        "id": "8H9Hlzkh1nZo"
      },
      "execution_count": 6,
      "outputs": []
    },
    {
      "cell_type": "code",
      "source": [
        "# Fornece uma visão geral rápida e fácil de entender dos dados, incluindo informações sobre valores ausentes, registros duplicados, variáveis categóricas e numéricas, correlações e histogramas.\n",
        "#df.profile_report()"
      ],
      "metadata": {
        "id": "jUe2_05j-HcI"
      },
      "execution_count": 7,
      "outputs": []
    },
    {
      "cell_type": "code",
      "source": [
        "df.info()"
      ],
      "metadata": {
        "colab": {
          "base_uri": "https://localhost:8080/"
        },
        "id": "WayqZK0SLgaB",
        "outputId": "28403e14-5516-4365-8072-c5f49b6d95f3"
      },
      "execution_count": 8,
      "outputs": [
        {
          "output_type": "stream",
          "name": "stdout",
          "text": [
            "<class 'pandas.core.frame.DataFrame'>\n",
            "RangeIndex: 1674 entries, 0 to 1673\n",
            "Data columns (total 15 columns):\n",
            " #   Column            Non-Null Count  Dtype         \n",
            "---  ------            --------------  -----         \n",
            " 0   QTDE              204 non-null    float64       \n",
            " 1   DATA 1º CONTATO   1672 non-null   object        \n",
            " 2   NOME COMPLETO     1670 non-null   object        \n",
            " 3   IDADE             1428 non-null   object        \n",
            " 4   TELEFONE          1591 non-null   object        \n",
            " 5   STATUS            1668 non-null   object        \n",
            " 6   VIA               1668 non-null   object        \n",
            " 7   ESTILOS           1664 non-null   object        \n",
            " 8   DATA AGENDAMENTO  223 non-null    datetime64[ns]\n",
            " 9   HORÁRIO           1301 non-null   object        \n",
            " 10  PROFESSOR         1373 non-null   object        \n",
            " 11  COMPARECEU        1650 non-null   object        \n",
            " 12  REAGENDAMENTO     37 non-null     object        \n",
            " 13  SITUAÇÃO          1640 non-null   object        \n",
            " 14  OBSERVAÇÕES       838 non-null    object        \n",
            "dtypes: datetime64[ns](1), float64(1), object(13)\n",
            "memory usage: 196.3+ KB\n"
          ]
        }
      ]
    },
    {
      "cell_type": "code",
      "source": [
        "# Identificar e mostrar valores nulos\n",
        "df_missing = (\n",
        "  df.isna().sum()\n",
        "  .to_frame('missing_count')\n",
        "  .join((df.isna().sum() / df.shape[0]).to_frame('missing_pct'))# shape retorna tupla, com quantidade de linha e colunas\n",
        "  .sort_values('missing_count', ascending=False)\n",
        ")\n",
        "# Formatando para duas casas decimais (convertendo em porcentagem, normal seria 2f)\n",
        "df_missing.style.format('{:.2%}', subset=['missing_pct'])\n",
        "# Somente formatando o missing_pct"
      ],
      "metadata": {
        "id": "2l42tJL72Aks",
        "outputId": "94a1f54e-37bc-485f-a107-a98f8b66fd8c",
        "colab": {
          "base_uri": "https://localhost:8080/",
          "height": 520
        }
      },
      "execution_count": 9,
      "outputs": [
        {
          "output_type": "execute_result",
          "data": {
            "text/plain": [
              "<pandas.io.formats.style.Styler at 0x7f7304a56950>"
            ],
            "text/html": [
              "<style type=\"text/css\">\n",
              "</style>\n",
              "<table id=\"T_53f73\" class=\"dataframe\">\n",
              "  <thead>\n",
              "    <tr>\n",
              "      <th class=\"blank level0\" >&nbsp;</th>\n",
              "      <th id=\"T_53f73_level0_col0\" class=\"col_heading level0 col0\" >missing_count</th>\n",
              "      <th id=\"T_53f73_level0_col1\" class=\"col_heading level0 col1\" >missing_pct</th>\n",
              "    </tr>\n",
              "  </thead>\n",
              "  <tbody>\n",
              "    <tr>\n",
              "      <th id=\"T_53f73_level0_row0\" class=\"row_heading level0 row0\" >REAGENDAMENTO</th>\n",
              "      <td id=\"T_53f73_row0_col0\" class=\"data row0 col0\" >1637</td>\n",
              "      <td id=\"T_53f73_row0_col1\" class=\"data row0 col1\" >97.79%</td>\n",
              "    </tr>\n",
              "    <tr>\n",
              "      <th id=\"T_53f73_level0_row1\" class=\"row_heading level0 row1\" >QTDE</th>\n",
              "      <td id=\"T_53f73_row1_col0\" class=\"data row1 col0\" >1470</td>\n",
              "      <td id=\"T_53f73_row1_col1\" class=\"data row1 col1\" >87.81%</td>\n",
              "    </tr>\n",
              "    <tr>\n",
              "      <th id=\"T_53f73_level0_row2\" class=\"row_heading level0 row2\" >DATA AGENDAMENTO</th>\n",
              "      <td id=\"T_53f73_row2_col0\" class=\"data row2 col0\" >1451</td>\n",
              "      <td id=\"T_53f73_row2_col1\" class=\"data row2 col1\" >86.68%</td>\n",
              "    </tr>\n",
              "    <tr>\n",
              "      <th id=\"T_53f73_level0_row3\" class=\"row_heading level0 row3\" >OBSERVAÇÕES</th>\n",
              "      <td id=\"T_53f73_row3_col0\" class=\"data row3 col0\" >836</td>\n",
              "      <td id=\"T_53f73_row3_col1\" class=\"data row3 col1\" >49.94%</td>\n",
              "    </tr>\n",
              "    <tr>\n",
              "      <th id=\"T_53f73_level0_row4\" class=\"row_heading level0 row4\" >HORÁRIO</th>\n",
              "      <td id=\"T_53f73_row4_col0\" class=\"data row4 col0\" >373</td>\n",
              "      <td id=\"T_53f73_row4_col1\" class=\"data row4 col1\" >22.28%</td>\n",
              "    </tr>\n",
              "    <tr>\n",
              "      <th id=\"T_53f73_level0_row5\" class=\"row_heading level0 row5\" >PROFESSOR</th>\n",
              "      <td id=\"T_53f73_row5_col0\" class=\"data row5 col0\" >301</td>\n",
              "      <td id=\"T_53f73_row5_col1\" class=\"data row5 col1\" >17.98%</td>\n",
              "    </tr>\n",
              "    <tr>\n",
              "      <th id=\"T_53f73_level0_row6\" class=\"row_heading level0 row6\" >IDADE</th>\n",
              "      <td id=\"T_53f73_row6_col0\" class=\"data row6 col0\" >246</td>\n",
              "      <td id=\"T_53f73_row6_col1\" class=\"data row6 col1\" >14.70%</td>\n",
              "    </tr>\n",
              "    <tr>\n",
              "      <th id=\"T_53f73_level0_row7\" class=\"row_heading level0 row7\" >TELEFONE</th>\n",
              "      <td id=\"T_53f73_row7_col0\" class=\"data row7 col0\" >83</td>\n",
              "      <td id=\"T_53f73_row7_col1\" class=\"data row7 col1\" >4.96%</td>\n",
              "    </tr>\n",
              "    <tr>\n",
              "      <th id=\"T_53f73_level0_row8\" class=\"row_heading level0 row8\" >SITUAÇÃO</th>\n",
              "      <td id=\"T_53f73_row8_col0\" class=\"data row8 col0\" >34</td>\n",
              "      <td id=\"T_53f73_row8_col1\" class=\"data row8 col1\" >2.03%</td>\n",
              "    </tr>\n",
              "    <tr>\n",
              "      <th id=\"T_53f73_level0_row9\" class=\"row_heading level0 row9\" >COMPARECEU</th>\n",
              "      <td id=\"T_53f73_row9_col0\" class=\"data row9 col0\" >24</td>\n",
              "      <td id=\"T_53f73_row9_col1\" class=\"data row9 col1\" >1.43%</td>\n",
              "    </tr>\n",
              "    <tr>\n",
              "      <th id=\"T_53f73_level0_row10\" class=\"row_heading level0 row10\" >ESTILOS</th>\n",
              "      <td id=\"T_53f73_row10_col0\" class=\"data row10 col0\" >10</td>\n",
              "      <td id=\"T_53f73_row10_col1\" class=\"data row10 col1\" >0.60%</td>\n",
              "    </tr>\n",
              "    <tr>\n",
              "      <th id=\"T_53f73_level0_row11\" class=\"row_heading level0 row11\" >STATUS</th>\n",
              "      <td id=\"T_53f73_row11_col0\" class=\"data row11 col0\" >6</td>\n",
              "      <td id=\"T_53f73_row11_col1\" class=\"data row11 col1\" >0.36%</td>\n",
              "    </tr>\n",
              "    <tr>\n",
              "      <th id=\"T_53f73_level0_row12\" class=\"row_heading level0 row12\" >VIA</th>\n",
              "      <td id=\"T_53f73_row12_col0\" class=\"data row12 col0\" >6</td>\n",
              "      <td id=\"T_53f73_row12_col1\" class=\"data row12 col1\" >0.36%</td>\n",
              "    </tr>\n",
              "    <tr>\n",
              "      <th id=\"T_53f73_level0_row13\" class=\"row_heading level0 row13\" >NOME COMPLETO</th>\n",
              "      <td id=\"T_53f73_row13_col0\" class=\"data row13 col0\" >4</td>\n",
              "      <td id=\"T_53f73_row13_col1\" class=\"data row13 col1\" >0.24%</td>\n",
              "    </tr>\n",
              "    <tr>\n",
              "      <th id=\"T_53f73_level0_row14\" class=\"row_heading level0 row14\" >DATA 1º CONTATO</th>\n",
              "      <td id=\"T_53f73_row14_col0\" class=\"data row14 col0\" >2</td>\n",
              "      <td id=\"T_53f73_row14_col1\" class=\"data row14 col1\" >0.12%</td>\n",
              "    </tr>\n",
              "  </tbody>\n",
              "</table>\n"
            ]
          },
          "metadata": {},
          "execution_count": 9
        }
      ]
    },
    {
      "cell_type": "code",
      "source": [
        "df.head(5)"
      ],
      "metadata": {
        "colab": {
          "base_uri": "https://localhost:8080/",
          "height": 452
        },
        "id": "ZPkjxjLvbKcy",
        "outputId": "ee4b0574-36d4-4d40-f423-71828375b483"
      },
      "execution_count": 10,
      "outputs": [
        {
          "output_type": "execute_result",
          "data": {
            "text/plain": [
              "   QTDE      DATA 1º CONTATO                       NOME COMPLETO   IDADE  \\\n",
              "0   1.0  2022-01-07 00:00:00                            Graziele      22   \n",
              "1   2.0  2022-01-07 00:00:00                            Camila    ADULTO   \n",
              "2   3.0  2021-01-05 00:00:00                       MAIARA GOUVEA      16   \n",
              "3   4.0  2021-01-05 00:00:00  ENIALE RAMOS QUINTINO (MÃE ELAINE)      11   \n",
              "4   5.0  2022-01-07 00:00:00                                 Bia  ADULTO   \n",
              "\n",
              "        TELEFONE             STATUS       VIA      ESTILOS DATA AGENDAMENTO  \\\n",
              "0  12 99614-0592  AULA EXPERIMENTAL  WHATSAPP    JAZZ FUNK              NaT   \n",
              "1  11 94129-6714        INFORMAÇÕES  WHATSAPP         JAZZ              NaT   \n",
              "2     98841-5432  AULA EXPERIMENTAL     WHATS        K-POP              NaT   \n",
              "3     99124-9509  AULA EXPERIMENTAL     WHATS         JAZZ              NaT   \n",
              "4  12 98129-7939        INFORMAÇÕES  WHATSAPP  MODALIDADES              NaT   \n",
              "\n",
              "  HORÁRIO PROFESSOR   COMPARECEU REAGENDAMENTO          SITUAÇÃO OBSERVAÇÕES  \n",
              "0   18h30   ALISSON          SIM           NaN       MATRICULADO         NaN  \n",
              "1   19H30       LIA          NÃO           NaN  SEMANA SOLIDÁRIA         NaN  \n",
              "2   19H00   ALISSON    NÃO FICOU           NaN      NÃO RESPONDE         NaN  \n",
              "3   17H00       LIA  MATRICULADO           NaN       MATRICULADO         NaN  \n",
              "4       -         -          NÃO           NaN  SEMANA SOLIDÁRIA         NaN  "
            ],
            "text/html": [
              "\n",
              "  <div id=\"df-811b835e-ca3c-4026-a997-1a0ae660631c\" class=\"colab-df-container\">\n",
              "    <div>\n",
              "<style scoped>\n",
              "    .dataframe tbody tr th:only-of-type {\n",
              "        vertical-align: middle;\n",
              "    }\n",
              "\n",
              "    .dataframe tbody tr th {\n",
              "        vertical-align: top;\n",
              "    }\n",
              "\n",
              "    .dataframe thead th {\n",
              "        text-align: right;\n",
              "    }\n",
              "</style>\n",
              "<table border=\"1\" class=\"dataframe\">\n",
              "  <thead>\n",
              "    <tr style=\"text-align: right;\">\n",
              "      <th></th>\n",
              "      <th>QTDE</th>\n",
              "      <th>DATA 1º CONTATO</th>\n",
              "      <th>NOME COMPLETO</th>\n",
              "      <th>IDADE</th>\n",
              "      <th>TELEFONE</th>\n",
              "      <th>STATUS</th>\n",
              "      <th>VIA</th>\n",
              "      <th>ESTILOS</th>\n",
              "      <th>DATA AGENDAMENTO</th>\n",
              "      <th>HORÁRIO</th>\n",
              "      <th>PROFESSOR</th>\n",
              "      <th>COMPARECEU</th>\n",
              "      <th>REAGENDAMENTO</th>\n",
              "      <th>SITUAÇÃO</th>\n",
              "      <th>OBSERVAÇÕES</th>\n",
              "    </tr>\n",
              "  </thead>\n",
              "  <tbody>\n",
              "    <tr>\n",
              "      <th>0</th>\n",
              "      <td>1.0</td>\n",
              "      <td>2022-01-07 00:00:00</td>\n",
              "      <td>Graziele</td>\n",
              "      <td>22</td>\n",
              "      <td>12 99614-0592</td>\n",
              "      <td>AULA EXPERIMENTAL</td>\n",
              "      <td>WHATSAPP</td>\n",
              "      <td>JAZZ FUNK</td>\n",
              "      <td>NaT</td>\n",
              "      <td>18h30</td>\n",
              "      <td>ALISSON</td>\n",
              "      <td>SIM</td>\n",
              "      <td>NaN</td>\n",
              "      <td>MATRICULADO</td>\n",
              "      <td>NaN</td>\n",
              "    </tr>\n",
              "    <tr>\n",
              "      <th>1</th>\n",
              "      <td>2.0</td>\n",
              "      <td>2022-01-07 00:00:00</td>\n",
              "      <td>Camila</td>\n",
              "      <td>ADULTO</td>\n",
              "      <td>11 94129-6714</td>\n",
              "      <td>INFORMAÇÕES</td>\n",
              "      <td>WHATSAPP</td>\n",
              "      <td>JAZZ</td>\n",
              "      <td>NaT</td>\n",
              "      <td>19H30</td>\n",
              "      <td>LIA</td>\n",
              "      <td>NÃO</td>\n",
              "      <td>NaN</td>\n",
              "      <td>SEMANA SOLIDÁRIA</td>\n",
              "      <td>NaN</td>\n",
              "    </tr>\n",
              "    <tr>\n",
              "      <th>2</th>\n",
              "      <td>3.0</td>\n",
              "      <td>2021-01-05 00:00:00</td>\n",
              "      <td>MAIARA GOUVEA</td>\n",
              "      <td>16</td>\n",
              "      <td>98841-5432</td>\n",
              "      <td>AULA EXPERIMENTAL</td>\n",
              "      <td>WHATS</td>\n",
              "      <td>K-POP</td>\n",
              "      <td>NaT</td>\n",
              "      <td>19H00</td>\n",
              "      <td>ALISSON</td>\n",
              "      <td>NÃO FICOU</td>\n",
              "      <td>NaN</td>\n",
              "      <td>NÃO RESPONDE</td>\n",
              "      <td>NaN</td>\n",
              "    </tr>\n",
              "    <tr>\n",
              "      <th>3</th>\n",
              "      <td>4.0</td>\n",
              "      <td>2021-01-05 00:00:00</td>\n",
              "      <td>ENIALE RAMOS QUINTINO (MÃE ELAINE)</td>\n",
              "      <td>11</td>\n",
              "      <td>99124-9509</td>\n",
              "      <td>AULA EXPERIMENTAL</td>\n",
              "      <td>WHATS</td>\n",
              "      <td>JAZZ</td>\n",
              "      <td>NaT</td>\n",
              "      <td>17H00</td>\n",
              "      <td>LIA</td>\n",
              "      <td>MATRICULADO</td>\n",
              "      <td>NaN</td>\n",
              "      <td>MATRICULADO</td>\n",
              "      <td>NaN</td>\n",
              "    </tr>\n",
              "    <tr>\n",
              "      <th>4</th>\n",
              "      <td>5.0</td>\n",
              "      <td>2022-01-07 00:00:00</td>\n",
              "      <td>Bia</td>\n",
              "      <td>ADULTO</td>\n",
              "      <td>12 98129-7939</td>\n",
              "      <td>INFORMAÇÕES</td>\n",
              "      <td>WHATSAPP</td>\n",
              "      <td>MODALIDADES</td>\n",
              "      <td>NaT</td>\n",
              "      <td>-</td>\n",
              "      <td>-</td>\n",
              "      <td>NÃO</td>\n",
              "      <td>NaN</td>\n",
              "      <td>SEMANA SOLIDÁRIA</td>\n",
              "      <td>NaN</td>\n",
              "    </tr>\n",
              "  </tbody>\n",
              "</table>\n",
              "</div>\n",
              "    <div class=\"colab-df-buttons\">\n",
              "\n",
              "  <div class=\"colab-df-container\">\n",
              "    <button class=\"colab-df-convert\" onclick=\"convertToInteractive('df-811b835e-ca3c-4026-a997-1a0ae660631c')\"\n",
              "            title=\"Convert this dataframe to an interactive table.\"\n",
              "            style=\"display:none;\">\n",
              "\n",
              "  <svg xmlns=\"http://www.w3.org/2000/svg\" height=\"24px\" viewBox=\"0 -960 960 960\">\n",
              "    <path d=\"M120-120v-720h720v720H120Zm60-500h600v-160H180v160Zm220 220h160v-160H400v160Zm0 220h160v-160H400v160ZM180-400h160v-160H180v160Zm440 0h160v-160H620v160ZM180-180h160v-160H180v160Zm440 0h160v-160H620v160Z\"/>\n",
              "  </svg>\n",
              "    </button>\n",
              "\n",
              "  <style>\n",
              "    .colab-df-container {\n",
              "      display:flex;\n",
              "      gap: 12px;\n",
              "    }\n",
              "\n",
              "    .colab-df-convert {\n",
              "      background-color: #E8F0FE;\n",
              "      border: none;\n",
              "      border-radius: 50%;\n",
              "      cursor: pointer;\n",
              "      display: none;\n",
              "      fill: #1967D2;\n",
              "      height: 32px;\n",
              "      padding: 0 0 0 0;\n",
              "      width: 32px;\n",
              "    }\n",
              "\n",
              "    .colab-df-convert:hover {\n",
              "      background-color: #E2EBFA;\n",
              "      box-shadow: 0px 1px 2px rgba(60, 64, 67, 0.3), 0px 1px 3px 1px rgba(60, 64, 67, 0.15);\n",
              "      fill: #174EA6;\n",
              "    }\n",
              "\n",
              "    .colab-df-buttons div {\n",
              "      margin-bottom: 4px;\n",
              "    }\n",
              "\n",
              "    [theme=dark] .colab-df-convert {\n",
              "      background-color: #3B4455;\n",
              "      fill: #D2E3FC;\n",
              "    }\n",
              "\n",
              "    [theme=dark] .colab-df-convert:hover {\n",
              "      background-color: #434B5C;\n",
              "      box-shadow: 0px 1px 3px 1px rgba(0, 0, 0, 0.15);\n",
              "      filter: drop-shadow(0px 1px 2px rgba(0, 0, 0, 0.3));\n",
              "      fill: #FFFFFF;\n",
              "    }\n",
              "  </style>\n",
              "\n",
              "    <script>\n",
              "      const buttonEl =\n",
              "        document.querySelector('#df-811b835e-ca3c-4026-a997-1a0ae660631c button.colab-df-convert');\n",
              "      buttonEl.style.display =\n",
              "        google.colab.kernel.accessAllowed ? 'block' : 'none';\n",
              "\n",
              "      async function convertToInteractive(key) {\n",
              "        const element = document.querySelector('#df-811b835e-ca3c-4026-a997-1a0ae660631c');\n",
              "        const dataTable =\n",
              "          await google.colab.kernel.invokeFunction('convertToInteractive',\n",
              "                                                    [key], {});\n",
              "        if (!dataTable) return;\n",
              "\n",
              "        const docLinkHtml = 'Like what you see? Visit the ' +\n",
              "          '<a target=\"_blank\" href=https://colab.research.google.com/notebooks/data_table.ipynb>data table notebook</a>'\n",
              "          + ' to learn more about interactive tables.';\n",
              "        element.innerHTML = '';\n",
              "        dataTable['output_type'] = 'display_data';\n",
              "        await google.colab.output.renderOutput(dataTable, element);\n",
              "        const docLink = document.createElement('div');\n",
              "        docLink.innerHTML = docLinkHtml;\n",
              "        element.appendChild(docLink);\n",
              "      }\n",
              "    </script>\n",
              "  </div>\n",
              "\n",
              "\n",
              "<div id=\"df-cdc92175-eae6-4e52-a88f-2611ade51205\">\n",
              "  <button class=\"colab-df-quickchart\" onclick=\"quickchart('df-cdc92175-eae6-4e52-a88f-2611ade51205')\"\n",
              "            title=\"Suggest charts\"\n",
              "            style=\"display:none;\">\n",
              "\n",
              "<svg xmlns=\"http://www.w3.org/2000/svg\" height=\"24px\"viewBox=\"0 0 24 24\"\n",
              "     width=\"24px\">\n",
              "    <g>\n",
              "        <path d=\"M19 3H5c-1.1 0-2 .9-2 2v14c0 1.1.9 2 2 2h14c1.1 0 2-.9 2-2V5c0-1.1-.9-2-2-2zM9 17H7v-7h2v7zm4 0h-2V7h2v10zm4 0h-2v-4h2v4z\"/>\n",
              "    </g>\n",
              "</svg>\n",
              "  </button>\n",
              "\n",
              "<style>\n",
              "  .colab-df-quickchart {\n",
              "      --bg-color: #E8F0FE;\n",
              "      --fill-color: #1967D2;\n",
              "      --hover-bg-color: #E2EBFA;\n",
              "      --hover-fill-color: #174EA6;\n",
              "      --disabled-fill-color: #AAA;\n",
              "      --disabled-bg-color: #DDD;\n",
              "  }\n",
              "\n",
              "  [theme=dark] .colab-df-quickchart {\n",
              "      --bg-color: #3B4455;\n",
              "      --fill-color: #D2E3FC;\n",
              "      --hover-bg-color: #434B5C;\n",
              "      --hover-fill-color: #FFFFFF;\n",
              "      --disabled-bg-color: #3B4455;\n",
              "      --disabled-fill-color: #666;\n",
              "  }\n",
              "\n",
              "  .colab-df-quickchart {\n",
              "    background-color: var(--bg-color);\n",
              "    border: none;\n",
              "    border-radius: 50%;\n",
              "    cursor: pointer;\n",
              "    display: none;\n",
              "    fill: var(--fill-color);\n",
              "    height: 32px;\n",
              "    padding: 0;\n",
              "    width: 32px;\n",
              "  }\n",
              "\n",
              "  .colab-df-quickchart:hover {\n",
              "    background-color: var(--hover-bg-color);\n",
              "    box-shadow: 0 1px 2px rgba(60, 64, 67, 0.3), 0 1px 3px 1px rgba(60, 64, 67, 0.15);\n",
              "    fill: var(--button-hover-fill-color);\n",
              "  }\n",
              "\n",
              "  .colab-df-quickchart-complete:disabled,\n",
              "  .colab-df-quickchart-complete:disabled:hover {\n",
              "    background-color: var(--disabled-bg-color);\n",
              "    fill: var(--disabled-fill-color);\n",
              "    box-shadow: none;\n",
              "  }\n",
              "\n",
              "  .colab-df-spinner {\n",
              "    border: 2px solid var(--fill-color);\n",
              "    border-color: transparent;\n",
              "    border-bottom-color: var(--fill-color);\n",
              "    animation:\n",
              "      spin 1s steps(1) infinite;\n",
              "  }\n",
              "\n",
              "  @keyframes spin {\n",
              "    0% {\n",
              "      border-color: transparent;\n",
              "      border-bottom-color: var(--fill-color);\n",
              "      border-left-color: var(--fill-color);\n",
              "    }\n",
              "    20% {\n",
              "      border-color: transparent;\n",
              "      border-left-color: var(--fill-color);\n",
              "      border-top-color: var(--fill-color);\n",
              "    }\n",
              "    30% {\n",
              "      border-color: transparent;\n",
              "      border-left-color: var(--fill-color);\n",
              "      border-top-color: var(--fill-color);\n",
              "      border-right-color: var(--fill-color);\n",
              "    }\n",
              "    40% {\n",
              "      border-color: transparent;\n",
              "      border-right-color: var(--fill-color);\n",
              "      border-top-color: var(--fill-color);\n",
              "    }\n",
              "    60% {\n",
              "      border-color: transparent;\n",
              "      border-right-color: var(--fill-color);\n",
              "    }\n",
              "    80% {\n",
              "      border-color: transparent;\n",
              "      border-right-color: var(--fill-color);\n",
              "      border-bottom-color: var(--fill-color);\n",
              "    }\n",
              "    90% {\n",
              "      border-color: transparent;\n",
              "      border-bottom-color: var(--fill-color);\n",
              "    }\n",
              "  }\n",
              "</style>\n",
              "\n",
              "  <script>\n",
              "    async function quickchart(key) {\n",
              "      const quickchartButtonEl =\n",
              "        document.querySelector('#' + key + ' button');\n",
              "      quickchartButtonEl.disabled = true;  // To prevent multiple clicks.\n",
              "      quickchartButtonEl.classList.add('colab-df-spinner');\n",
              "      try {\n",
              "        const charts = await google.colab.kernel.invokeFunction(\n",
              "            'suggestCharts', [key], {});\n",
              "      } catch (error) {\n",
              "        console.error('Error during call to suggestCharts:', error);\n",
              "      }\n",
              "      quickchartButtonEl.classList.remove('colab-df-spinner');\n",
              "      quickchartButtonEl.classList.add('colab-df-quickchart-complete');\n",
              "    }\n",
              "    (() => {\n",
              "      let quickchartButtonEl =\n",
              "        document.querySelector('#df-cdc92175-eae6-4e52-a88f-2611ade51205 button');\n",
              "      quickchartButtonEl.style.display =\n",
              "        google.colab.kernel.accessAllowed ? 'block' : 'none';\n",
              "    })();\n",
              "  </script>\n",
              "</div>\n",
              "\n",
              "    </div>\n",
              "  </div>\n"
            ],
            "application/vnd.google.colaboratory.intrinsic+json": {
              "type": "dataframe",
              "variable_name": "df",
              "summary": "{\n  \"name\": \"df\",\n  \"rows\": 1674,\n  \"fields\": [\n    {\n      \"column\": \"QTDE\",\n      \"properties\": {\n        \"dtype\": \"number\",\n        \"std\": 64.94386716505987,\n        \"min\": 1.0,\n        \"max\": 219.0,\n        \"num_unique_values\": 204,\n        \"samples\": [\n          17.0,\n          11.0,\n          130.0\n        ],\n        \"semantic_type\": \"\",\n        \"description\": \"\"\n      }\n    },\n    {\n      \"column\": \"DATA 1\\u00ba CONTATO\",\n      \"properties\": {\n        \"dtype\": \"category\",\n        \"num_unique_values\": 533,\n        \"samples\": [\n          \"2021-01-14 00:00:00\",\n          \"2023-11-01 00:00:00\",\n          \"2021-10-06 00:00:00\"\n        ],\n        \"semantic_type\": \"\",\n        \"description\": \"\"\n      }\n    },\n    {\n      \"column\": \"NOME COMPLETO\",\n      \"properties\": {\n        \"dtype\": \"string\",\n        \"num_unique_values\": 1449,\n        \"samples\": [\n          \"Juliana Guedes\",\n          \"Thais Kato\",\n          \"M\\u00ba EDUARDA DUARTE (M\\u00c3E PRISCILA)\"\n        ],\n        \"semantic_type\": \"\",\n        \"description\": \"\"\n      }\n    },\n    {\n      \"column\": \"IDADE\",\n      \"properties\": {\n        \"dtype\": \"category\",\n        \"num_unique_values\": 93,\n        \"samples\": [\n          \"BABY\",\n          17,\n          \"47 e 49\"\n        ],\n        \"semantic_type\": \"\",\n        \"description\": \"\"\n      }\n    },\n    {\n      \"column\": \"TELEFONE\",\n      \"properties\": {\n        \"dtype\": \"string\",\n        \"num_unique_values\": 1344,\n        \"samples\": [\n          \"11 98266-4066\",\n          \"12 98819-8232\",\n          \"12 99716-8278\"\n        ],\n        \"semantic_type\": \"\",\n        \"description\": \"\"\n      }\n    },\n    {\n      \"column\": \"STATUS\",\n      \"properties\": {\n        \"dtype\": \"category\",\n        \"num_unique_values\": 10,\n        \"samples\": [\n          \"INFORMA\\u00c7\\u00c3O\",\n          \"INFORMA\\u00c7\\u00d5ES\",\n          \"COREOGRAFIA\"\n        ],\n        \"semantic_type\": \"\",\n        \"description\": \"\"\n      }\n    },\n    {\n      \"column\": \"VIA\",\n      \"properties\": {\n        \"dtype\": \"category\",\n        \"num_unique_values\": 13,\n        \"samples\": [\n          \"MAE J\\u00c1 \\u00c9 ALUNA\",\n          \"FACEBOOK\",\n          \"WHATSAPP\"\n        ],\n        \"semantic_type\": \"\",\n        \"description\": \"\"\n      }\n    },\n    {\n      \"column\": \"ESTILOS\",\n      \"properties\": {\n        \"dtype\": \"category\",\n        \"num_unique_values\": 48,\n        \"samples\": [\n          \"BALLEYT\",\n          \"Jazz iniciante\",\n          \"N\\u00c3O \"\n        ],\n        \"semantic_type\": \"\",\n        \"description\": \"\"\n      }\n    },\n    {\n      \"column\": \"DATA AGENDAMENTO\",\n      \"properties\": {\n        \"dtype\": \"date\",\n        \"min\": \"2023-02-21 00:00:00\",\n        \"max\": \"2032-09-12 00:00:00\",\n        \"num_unique_values\": 103,\n        \"samples\": [\n          \"2023-09-05 00:00:00\",\n          \"2024-01-16 00:00:00\",\n          \"2023-12-12 00:00:00\"\n        ],\n        \"semantic_type\": \"\",\n        \"description\": \"\"\n      }\n    },\n    {\n      \"column\": \"HOR\\u00c1RIO\",\n      \"properties\": {\n        \"dtype\": \"category\",\n        \"num_unique_values\": 68,\n        \"samples\": [\n          \"19h30 \",\n          \"18h00\",\n          \"-\"\n        ],\n        \"semantic_type\": \"\",\n        \"description\": \"\"\n      }\n    },\n    {\n      \"column\": \"PROFESSOR\",\n      \"properties\": {\n        \"dtype\": \"category\",\n        \"num_unique_values\": 27,\n        \"samples\": [\n          \"GABRIELA\",\n          \"CAROL\",\n          \"LOUBACH\"\n        ],\n        \"semantic_type\": \"\",\n        \"description\": \"\"\n      }\n    },\n    {\n      \"column\": \"COMPARECEU\",\n      \"properties\": {\n        \"dtype\": \"category\",\n        \"num_unique_values\": 56,\n        \"samples\": [\n          \"SIM\",\n          \"N\\u00c3O VEIO\",\n          \"2023-05-17 00:00:00\"\n        ],\n        \"semantic_type\": \"\",\n        \"description\": \"\"\n      }\n    },\n    {\n      \"column\": \"REAGENDAMENTO\",\n      \"properties\": {\n        \"dtype\": \"category\",\n        \"num_unique_values\": 2,\n        \"samples\": [\n          \"N\\u00c3O\",\n          \"SIM\"\n        ],\n        \"semantic_type\": \"\",\n        \"description\": \"\"\n      }\n    },\n    {\n      \"column\": \"SITUA\\u00c7\\u00c3O\",\n      \"properties\": {\n        \"dtype\": \"category\",\n        \"num_unique_values\": 226,\n        \"samples\": [\n          \"-\",\n          \"N\\u00c3O APARECEU\"\n        ],\n        \"semantic_type\": \"\",\n        \"description\": \"\"\n      }\n    },\n    {\n      \"column\": \"OBSERVA\\u00c7\\u00d5ES\",\n      \"properties\": {\n        \"dtype\": \"category\",\n        \"num_unique_values\": 632,\n        \"samples\": [\n          \"Fez aula29/8/22. Gin\\u00e1stica art\\u00edstica\",\n          \"Street, Jazz, K-Pop (as 2 juntas). Reenviei 28/6\"\n        ],\n        \"semantic_type\": \"\",\n        \"description\": \"\"\n      }\n    }\n  ]\n}"
            }
          },
          "metadata": {},
          "execution_count": 10
        }
      ]
    },
    {
      "cell_type": "code",
      "source": [
        "#Converter em string para alterações\n",
        "df['DATA 1º CONTATO'] = df['DATA 1º CONTATO'].astype(str)"
      ],
      "metadata": {
        "id": "f2V1f0UeteTu"
      },
      "execution_count": 11,
      "outputs": []
    },
    {
      "cell_type": "code",
      "source": [
        " # Dropar nulos\n",
        "df.dropna(subset=['DATA 1º CONTATO'], inplace=True)"
      ],
      "metadata": {
        "id": "szchWfZduc92"
      },
      "execution_count": 12,
      "outputs": []
    },
    {
      "cell_type": "code",
      "source": [
        "# Corrigir valores que não estão no formato\n",
        "df = df[df['DATA 1º CONTATO'].astype(str).str.replace(' |-', '', regex=True).ne('')]"
      ],
      "metadata": {
        "id": "qOsHhyt7tf9x"
      },
      "execution_count": 13,
      "outputs": []
    },
    {
      "cell_type": "code",
      "source": [
        "# Corrigir inconsistencias\n",
        "df['DATA 1º CONTATO'] = df['DATA 1º CONTATO'].str.replace('223', '2023').str.replace('2012', '2021')"
      ],
      "metadata": {
        "id": "GZhr8VaBthy_",
        "colab": {
          "base_uri": "https://localhost:8080/"
        },
        "outputId": "5b07083b-f68c-4596-9640-e2e04a40b5df"
      },
      "execution_count": 14,
      "outputs": [
        {
          "output_type": "stream",
          "name": "stderr",
          "text": [
            "<ipython-input-14-34c4dd6bce84>:2: SettingWithCopyWarning: \n",
            "A value is trying to be set on a copy of a slice from a DataFrame.\n",
            "Try using .loc[row_indexer,col_indexer] = value instead\n",
            "\n",
            "See the caveats in the documentation: https://pandas.pydata.org/pandas-docs/stable/user_guide/indexing.html#returning-a-view-versus-a-copy\n",
            "  df['DATA 1º CONTATO'] = df['DATA 1º CONTATO'].str.replace('223', '2023').str.replace('2012', '2021')\n"
          ]
        }
      ]
    },
    {
      "cell_type": "code",
      "source": [
        "# Dropar nulos\n",
        "df = df[pd.to_datetime(df['DATA 1º CONTATO'], errors='coerce').notna()]\n",
        "# Converter em formato date\n",
        "df['DATA 1º CONTATO'] = pd.to_datetime(df['DATA 1º CONTATO'], errors='coerce').dt.date"
      ],
      "metadata": {
        "id": "HSoUKSl6xUow"
      },
      "execution_count": 15,
      "outputs": []
    },
    {
      "cell_type": "code",
      "source": [
        "# Excluir valores nulos\n",
        "df.dropna(subset=['NOME COMPLETO'], inplace=True)\n",
        "# Remover caracteres especiais\n",
        "df['NOME COMPLETO'] = df['NOME COMPLETO'].str.replace(r'[^\\w\\s]', '', regex=True)\n",
        "df['NOME COMPLETO'] = df['NOME COMPLETO'].str.strip()\n",
        "df['NOME COMPLETO'] = df['NOME COMPLETO'].str.upper()"
      ],
      "metadata": {
        "id": "9HPGtLzJyHuG"
      },
      "execution_count": 16,
      "outputs": []
    },
    {
      "cell_type": "code",
      "source": [
        "# Converte a coluna idade para numerico\n",
        "df['IDADE'] = pd.to_numeric(df['IDADE'], errors='coerce')"
      ],
      "metadata": {
        "id": "q1iP2rKrujLH"
      },
      "execution_count": 17,
      "outputs": []
    },
    {
      "cell_type": "code",
      "source": [
        "# Converter valores numéricos e '%-%' para float, e strings para NaN\n",
        "df['IDADE'] = df['IDADE'].apply(lambda x: float(x) if isinstance(x, (int, float)) else\n",
        "                                      (float(x.split('-')) if isinstance(x, str) and '-' in x else np.nan))\n",
        "\n",
        "# Preencher valores NaN com a média da coluna\n",
        "df['IDADE'].fillna(df['IDADE'].mean(), inplace=True)\n",
        "\n",
        "# Alterar para tipo inteiro\n",
        "df['IDADE'] = df['IDADE'].astype(int)"
      ],
      "metadata": {
        "id": "7ZTzn4R4yJzt"
      },
      "execution_count": 18,
      "outputs": []
    },
    {
      "cell_type": "code",
      "source": [
        "# Análise de distribuição de valores em 'IDADE' para verificar outliers\n",
        "plt.hist(df['IDADE'], bins=20)\n",
        "plt.xlabel('IDADE')\n",
        "plt.ylabel('Frequência')\n",
        "plt.title('Distribuição de Idades')\n",
        "plt.show()"
      ],
      "metadata": {
        "id": "nzFjVKPnVvMq",
        "colab": {
          "base_uri": "https://localhost:8080/",
          "height": 736
        },
        "outputId": "04c01972-154b-4a9a-fe62-f8dcf07d36c2"
      },
      "execution_count": 19,
      "outputs": [
        {
          "output_type": "display_data",
          "data": {
            "text/plain": [
              "<Figure size 1200x800 with 1 Axes>"
            ],
            "image/png": "[encoded data removed]"
          },
          "metadata": {}
        }
      ]
    },
    {
      "cell_type": "code",
      "source": [
        "# Criar a coluna 'FAIXA ETARIA'\n",
        "df['FAIXA ETARIA'] = df['IDADE'].apply(lambda x:\n",
        "    'CRIANÇA' if x < 10 else\n",
        "    'ADOLESCENTE' if x <= 15 else\n",
        "    'ADULTO'\n",
        ")"
      ],
      "metadata": {
        "id": "eoo7XyUay4zE"
      },
      "execution_count": 20,
      "outputs": []
    },
    {
      "cell_type": "code",
      "source": [
        "# Reordena as colunas\n",
        "df = df[['DATA 1º CONTATO', 'NOME COMPLETO', 'IDADE', 'FAIXA ETARIA', 'TELEFONE', 'STATUS', 'VIA', 'ESTILOS', 'DATA AGENDAMENTO', 'HORÁRIO', 'PROFESSOR', 'COMPARECEU', 'REAGENDAMENTO', 'SITUAÇÃO', 'OBSERVAÇÕES']]"
      ],
      "metadata": {
        "id": "TVZtS_YCUTcv"
      },
      "execution_count": 21,
      "outputs": []
    },
    {
      "cell_type": "code",
      "source": [
        "df.head()"
      ],
      "metadata": {
        "colab": {
          "base_uri": "https://localhost:8080/",
          "height": 435
        },
        "id": "IssT18NVVw4Q",
        "outputId": "7981fd74-08ff-4dab-8002-c3b971ca1562"
      },
      "execution_count": 22,
      "outputs": [
        {
          "output_type": "execute_result",
          "data": {
            "text/plain": [
              "  DATA 1º CONTATO                     NOME COMPLETO  IDADE FAIXA ETARIA  \\\n",
              "0      2022-01-07                          GRAZIELE     22       ADULTO   \n",
              "1      2022-01-07                            CAMILA     19       ADULTO   \n",
              "2      2021-01-05                     MAIARA GOUVEA     16       ADULTO   \n",
              "3      2021-01-05  ENIALE RAMOS QUINTINO MÃE ELAINE     11  ADOLESCENTE   \n",
              "4      2022-01-07                               BIA     19       ADULTO   \n",
              "\n",
              "        TELEFONE             STATUS       VIA      ESTILOS DATA AGENDAMENTO  \\\n",
              "0  12 99614-0592  AULA EXPERIMENTAL  WHATSAPP    JAZZ FUNK              NaT   \n",
              "1  11 94129-6714        INFORMAÇÕES  WHATSAPP         JAZZ              NaT   \n",
              "2     98841-5432  AULA EXPERIMENTAL     WHATS        K-POP              NaT   \n",
              "3     99124-9509  AULA EXPERIMENTAL     WHATS         JAZZ              NaT   \n",
              "4  12 98129-7939        INFORMAÇÕES  WHATSAPP  MODALIDADES              NaT   \n",
              "\n",
              "  HORÁRIO PROFESSOR   COMPARECEU REAGENDAMENTO          SITUAÇÃO OBSERVAÇÕES  \n",
              "0   18h30   ALISSON          SIM           NaN       MATRICULADO         NaN  \n",
              "1   19H30       LIA          NÃO           NaN  SEMANA SOLIDÁRIA         NaN  \n",
              "2   19H00   ALISSON    NÃO FICOU           NaN      NÃO RESPONDE         NaN  \n",
              "3   17H00       LIA  MATRICULADO           NaN       MATRICULADO         NaN  \n",
              "4       -         -          NÃO           NaN  SEMANA SOLIDÁRIA         NaN  "
            ],
            "text/html": [
              "\n",
              "  <div id=\"df-0f8d01b8-5269-47eb-aa8e-518438f1d12c\" class=\"colab-df-container\">\n",
              "    <div>\n",
              "<style scoped>\n",
              "    .dataframe tbody tr th:only-of-type {\n",
              "        vertical-align: middle;\n",
              "    }\n",
              "\n",
              "    .dataframe tbody tr th {\n",
              "        vertical-align: top;\n",
              "    }\n",
              "\n",
              "    .dataframe thead th {\n",
              "        text-align: right;\n",
              "    }\n",
              "</style>\n",
              "<table border=\"1\" class=\"dataframe\">\n",
              "  <thead>\n",
              "    <tr style=\"text-align: right;\">\n",
              "      <th></th>\n",
              "      <th>DATA 1º CONTATO</th>\n",
              "      <th>NOME COMPLETO</th>\n",
              "      <th>IDADE</th>\n",
              "      <th>FAIXA ETARIA</th>\n",
              "      <th>TELEFONE</th>\n",
              "      <th>STATUS</th>\n",
              "      <th>VIA</th>\n",
              "      <th>ESTILOS</th>\n",
              "      <th>DATA AGENDAMENTO</th>\n",
              "      <th>HORÁRIO</th>\n",
              "      <th>PROFESSOR</th>\n",
              "      <th>COMPARECEU</th>\n",
              "      <th>REAGENDAMENTO</th>\n",
              "      <th>SITUAÇÃO</th>\n",
              "      <th>OBSERVAÇÕES</th>\n",
              "    </tr>\n",
              "  </thead>\n",
              "  <tbody>\n",
              "    <tr>\n",
              "      <th>0</th>\n",
              "      <td>2022-01-07</td>\n",
              "      <td>GRAZIELE</td>\n",
              "      <td>22</td>\n",
              "      <td>ADULTO</td>\n",
              "      <td>12 99614-0592</td>\n",
              "      <td>AULA EXPERIMENTAL</td>\n",
              "      <td>WHATSAPP</td>\n",
              "      <td>JAZZ FUNK</td>\n",
              "      <td>NaT</td>\n",
              "      <td>18h30</td>\n",
              "      <td>ALISSON</td>\n",
              "      <td>SIM</td>\n",
              "      <td>NaN</td>\n",
              "      <td>MATRICULADO</td>\n",
              "      <td>NaN</td>\n",
              "    </tr>\n",
              "    <tr>\n",
              "      <th>1</th>\n",
              "      <td>2022-01-07</td>\n",
              "      <td>CAMILA</td>\n",
              "      <td>19</td>\n",
              "      <td>ADULTO</td>\n",
              "      <td>11 94129-6714</td>\n",
              "      <td>INFORMAÇÕES</td>\n",
              "      <td>WHATSAPP</td>\n",
              "      <td>JAZZ</td>\n",
              "      <td>NaT</td>\n",
              "      <td>19H30</td>\n",
              "      <td>LIA</td>\n",
              "      <td>NÃO</td>\n",
              "      <td>NaN</td>\n",
              "      <td>SEMANA SOLIDÁRIA</td>\n",
              "      <td>NaN</td>\n",
              "    </tr>\n",
              "    <tr>\n",
              "      <th>2</th>\n",
              "      <td>2021-01-05</td>\n",
              "      <td>MAIARA GOUVEA</td>\n",
              "      <td>16</td>\n",
              "      <td>ADULTO</td>\n",
              "      <td>98841-5432</td>\n",
              "      <td>AULA EXPERIMENTAL</td>\n",
              "      <td>WHATS</td>\n",
              "      <td>K-POP</td>\n",
              "      <td>NaT</td>\n",
              "      <td>19H00</td>\n",
              "      <td>ALISSON</td>\n",
              "      <td>NÃO FICOU</td>\n",
              "      <td>NaN</td>\n",
              "      <td>NÃO RESPONDE</td>\n",
              "      <td>NaN</td>\n",
              "    </tr>\n",
              "    <tr>\n",
              "      <th>3</th>\n",
              "      <td>2021-01-05</td>\n",
              "      <td>ENIALE RAMOS QUINTINO MÃE ELAINE</td>\n",
              "      <td>11</td>\n",
              "      <td>ADOLESCENTE</td>\n",
              "      <td>99124-9509</td>\n",
              "      <td>AULA EXPERIMENTAL</td>\n",
              "      <td>WHATS</td>\n",
              "      <td>JAZZ</td>\n",
              "      <td>NaT</td>\n",
              "      <td>17H00</td>\n",
              "      <td>LIA</td>\n",
              "      <td>MATRICULADO</td>\n",
              "      <td>NaN</td>\n",
              "      <td>MATRICULADO</td>\n",
              "      <td>NaN</td>\n",
              "    </tr>\n",
              "    <tr>\n",
              "      <th>4</th>\n",
              "      <td>2022-01-07</td>\n",
              "      <td>BIA</td>\n",
              "      <td>19</td>\n",
              "      <td>ADULTO</td>\n",
              "      <td>12 98129-7939</td>\n",
              "      <td>INFORMAÇÕES</td>\n",
              "      <td>WHATSAPP</td>\n",
              "      <td>MODALIDADES</td>\n",
              "      <td>NaT</td>\n",
              "      <td>-</td>\n",
              "      <td>-</td>\n",
              "      <td>NÃO</td>\n",
              "      <td>NaN</td>\n",
              "      <td>SEMANA SOLIDÁRIA</td>\n",
              "      <td>NaN</td>\n",
              "    </tr>\n",
              "  </tbody>\n",
              "</table>\n",
              "</div>\n",
              "    <div class=\"colab-df-buttons\">\n",
              "\n",
              "  <div class=\"colab-df-container\">\n",
              "    <button class=\"colab-df-convert\" onclick=\"convertToInteractive('df-0f8d01b8-5269-47eb-aa8e-518438f1d12c')\"\n",
              "            title=\"Convert this dataframe to an interactive table.\"\n",
              "            style=\"display:none;\">\n",
              "\n",
              "  <svg xmlns=\"http://www.w3.org/2000/svg\" height=\"24px\" viewBox=\"0 -960 960 960\">\n",
              "    <path d=\"M120-120v-720h720v720H120Zm60-500h600v-160H180v160Zm220 220h160v-160H400v160Zm0 220h160v-160H400v160ZM180-400h160v-160H180v160Zm440 0h160v-160H620v160ZM180-180h160v-160H180v160Zm440 0h160v-160H620v160Z\"/>\n",
              "  </svg>\n",
              "    </button>\n",
              "\n",
              "  <style>\n",
              "    .colab-df-container {\n",
              "      display:flex;\n",
              "      gap: 12px;\n",
              "    }\n",
              "\n",
              "    .colab-df-convert {\n",
              "      background-color: #E8F0FE;\n",
              "      border: none;\n",
              "      border-radius: 50%;\n",
              "      cursor: pointer;\n",
              "      display: none;\n",
              "      fill: #1967D2;\n",
              "      height: 32px;\n",
              "      padding: 0 0 0 0;\n",
              "      width: 32px;\n",
              "    }\n",
              "\n",
              "    .colab-df-convert:hover {\n",
              "      background-color: #E2EBFA;\n",
              "      box-shadow: 0px 1px 2px rgba(60, 64, 67, 0.3), 0px 1px 3px 1px rgba(60, 64, 67, 0.15);\n",
              "      fill: #174EA6;\n",
              "    }\n",
              "\n",
              "    .colab-df-buttons div {\n",
              "      margin-bottom: 4px;\n",
              "    }\n",
              "\n",
              "    [theme=dark] .colab-df-convert {\n",
              "      background-color: #3B4455;\n",
              "      fill: #D2E3FC;\n",
              "    }\n",
              "\n",
              "    [theme=dark] .colab-df-convert:hover {\n",
              "      background-color: #434B5C;\n",
              "      box-shadow: 0px 1px 3px 1px rgba(0, 0, 0, 0.15);\n",
              "      filter: drop-shadow(0px 1px 2px rgba(0, 0, 0, 0.3));\n",
              "      fill: #FFFFFF;\n",
              "    }\n",
              "  </style>\n",
              "\n",
              "    <script>\n",
              "      const buttonEl =\n",
              "        document.querySelector('#df-0f8d01b8-5269-47eb-aa8e-518438f1d12c button.colab-df-convert');\n",
              "      buttonEl.style.display =\n",
              "        google.colab.kernel.accessAllowed ? 'block' : 'none';\n",
              "\n",
              "      async function convertToInteractive(key) {\n",
              "        const element = document.querySelector('#df-0f8d01b8-5269-47eb-aa8e-518438f1d12c');\n",
              "        const dataTable =\n",
              "          await google.colab.kernel.invokeFunction('convertToInteractive',\n",
              "                                                    [key], {});\n",
              "        if (!dataTable) return;\n",
              "\n",
              "        const docLinkHtml = 'Like what you see? Visit the ' +\n",
              "          '<a target=\"_blank\" href=https://colab.research.google.com/notebooks/data_table.ipynb>data table notebook</a>'\n",
              "          + ' to learn more about interactive tables.';\n",
              "        element.innerHTML = '';\n",
              "        dataTable['output_type'] = 'display_data';\n",
              "        await google.colab.output.renderOutput(dataTable, element);\n",
              "        const docLink = document.createElement('div');\n",
              "        docLink.innerHTML = docLinkHtml;\n",
              "        element.appendChild(docLink);\n",
              "      }\n",
              "    </script>\n",
              "  </div>\n",
              "\n",
              "\n",
              "<div id=\"df-2ef08c52-0e3a-40ab-a935-d3cb3b76bf7a\">\n",
              "  <button class=\"colab-df-quickchart\" onclick=\"quickchart('df-2ef08c52-0e3a-40ab-a935-d3cb3b76bf7a')\"\n",
              "            title=\"Suggest charts\"\n",
              "            style=\"display:none;\">\n",
              "\n",
              "<svg xmlns=\"http://www.w3.org/2000/svg\" height=\"24px\"viewBox=\"0 0 24 24\"\n",
              "     width=\"24px\">\n",
              "    <g>\n",
              "        <path d=\"M19 3H5c-1.1 0-2 .9-2 2v14c0 1.1.9 2 2 2h14c1.1 0 2-.9 2-2V5c0-1.1-.9-2-2-2zM9 17H7v-7h2v7zm4 0h-2V7h2v10zm4 0h-2v-4h2v4z\"/>\n",
              "    </g>\n",
              "</svg>\n",
              "  </button>\n",
              "\n",
              "<style>\n",
              "  .colab-df-quickchart {\n",
              "      --bg-color: #E8F0FE;\n",
              "      --fill-color: #1967D2;\n",
              "      --hover-bg-color: #E2EBFA;\n",
              "      --hover-fill-color: #174EA6;\n",
              "      --disabled-fill-color: #AAA;\n",
              "      --disabled-bg-color: #DDD;\n",
              "  }\n",
              "\n",
              "  [theme=dark] .colab-df-quickchart {\n",
              "      --bg-color: #3B4455;\n",
              "      --fill-color: #D2E3FC;\n",
              "      --hover-bg-color: #434B5C;\n",
              "      --hover-fill-color: #FFFFFF;\n",
              "      --disabled-bg-color: #3B4455;\n",
              "      --disabled-fill-color: #666;\n",
              "  }\n",
              "\n",
              "  .colab-df-quickchart {\n",
              "    background-color: var(--bg-color);\n",
              "    border: none;\n",
              "    border-radius: 50%;\n",
              "    cursor: pointer;\n",
              "    display: none;\n",
              "    fill: var(--fill-color);\n",
              "    height: 32px;\n",
              "    padding: 0;\n",
              "    width: 32px;\n",
              "  }\n",
              "\n",
              "  .colab-df-quickchart:hover {\n",
              "    background-color: var(--hover-bg-color);\n",
              "    box-shadow: 0 1px 2px rgba(60, 64, 67, 0.3), 0 1px 3px 1px rgba(60, 64, 67, 0.15);\n",
              "    fill: var(--button-hover-fill-color);\n",
              "  }\n",
              "\n",
              "  .colab-df-quickchart-complete:disabled,\n",
              "  .colab-df-quickchart-complete:disabled:hover {\n",
              "    background-color: var(--disabled-bg-color);\n",
              "    fill: var(--disabled-fill-color);\n",
              "    box-shadow: none;\n",
              "  }\n",
              "\n",
              "  .colab-df-spinner {\n",
              "    border: 2px solid var(--fill-color);\n",
              "    border-color: transparent;\n",
              "    border-bottom-color: var(--fill-color);\n",
              "    animation:\n",
              "      spin 1s steps(1) infinite;\n",
              "  }\n",
              "\n",
              "  @keyframes spin {\n",
              "    0% {\n",
              "      border-color: transparent;\n",
              "      border-bottom-color: var(--fill-color);\n",
              "      border-left-color: var(--fill-color);\n",
              "    }\n",
              "    20% {\n",
              "      border-color: transparent;\n",
              "      border-left-color: var(--fill-color);\n",
              "      border-top-color: var(--fill-color);\n",
              "    }\n",
              "    30% {\n",
              "      border-color: transparent;\n",
              "      border-left-color: var(--fill-color);\n",
              "      border-top-color: var(--fill-color);\n",
              "      border-right-color: var(--fill-color);\n",
              "    }\n",
              "    40% {\n",
              "      border-color: transparent;\n",
              "      border-right-color: var(--fill-color);\n",
              "      border-top-color: var(--fill-color);\n",
              "    }\n",
              "    60% {\n",
              "      border-color: transparent;\n",
              "      border-right-color: var(--fill-color);\n",
              "    }\n",
              "    80% {\n",
              "      border-color: transparent;\n",
              "      border-right-color: var(--fill-color);\n",
              "      border-bottom-color: var(--fill-color);\n",
              "    }\n",
              "    90% {\n",
              "      border-color: transparent;\n",
              "      border-bottom-color: var(--fill-color);\n",
              "    }\n",
              "  }\n",
              "</style>\n",
              "\n",
              "  <script>\n",
              "    async function quickchart(key) {\n",
              "      const quickchartButtonEl =\n",
              "        document.querySelector('#' + key + ' button');\n",
              "      quickchartButtonEl.disabled = true;  // To prevent multiple clicks.\n",
              "      quickchartButtonEl.classList.add('colab-df-spinner');\n",
              "      try {\n",
              "        const charts = await google.colab.kernel.invokeFunction(\n",
              "            'suggestCharts', [key], {});\n",
              "      } catch (error) {\n",
              "        console.error('Error during call to suggestCharts:', error);\n",
              "      }\n",
              "      quickchartButtonEl.classList.remove('colab-df-spinner');\n",
              "      quickchartButtonEl.classList.add('colab-df-quickchart-complete');\n",
              "    }\n",
              "    (() => {\n",
              "      let quickchartButtonEl =\n",
              "        document.querySelector('#df-2ef08c52-0e3a-40ab-a935-d3cb3b76bf7a button');\n",
              "      quickchartButtonEl.style.display =\n",
              "        google.colab.kernel.accessAllowed ? 'block' : 'none';\n",
              "    })();\n",
              "  </script>\n",
              "</div>\n",
              "\n",
              "    </div>\n",
              "  </div>\n"
            ],
            "application/vnd.google.colaboratory.intrinsic+json": {
              "type": "dataframe",
              "variable_name": "df",
              "summary": "{\n  \"name\": \"df\",\n  \"rows\": 1668,\n  \"fields\": [\n    {\n      \"column\": \"DATA 1\\u00ba CONTATO\",\n      \"properties\": {\n        \"dtype\": \"date\",\n        \"min\": \"2021-01-05\",\n        \"max\": \"2024-06-12\",\n        \"num_unique_values\": 530,\n        \"samples\": [\n          \"2022-03-16\",\n          \"2023-05-09\",\n          \"2021-01-14\"\n        ],\n        \"semantic_type\": \"\",\n        \"description\": \"\"\n      }\n    },\n    {\n      \"column\": \"NOME COMPLETO\",\n      \"properties\": {\n        \"dtype\": \"string\",\n        \"num_unique_values\": 1416,\n        \"samples\": [\n          \"BRUNA LEITE\",\n          \"ISABELA M\\u00c3E FLAVIANA\",\n          \"JU PARA FILHA\"\n        ],\n        \"semantic_type\": \"\",\n        \"description\": \"\"\n      }\n    },\n    {\n      \"column\": \"IDADE\",\n      \"properties\": {\n        \"dtype\": \"number\",\n        \"std\": 9,\n        \"min\": 1,\n        \"max\": 75,\n        \"num_unique_values\": 63,\n        \"samples\": [\n          68,\n          57,\n          22\n        ],\n        \"semantic_type\": \"\",\n        \"description\": \"\"\n      }\n    },\n    {\n      \"column\": \"FAIXA ETARIA\",\n      \"properties\": {\n        \"dtype\": \"category\",\n        \"num_unique_values\": 3,\n        \"samples\": [\n          \"ADULTO\",\n          \"ADOLESCENTE\",\n          \"CRIAN\\u00c7A\"\n        ],\n        \"semantic_type\": \"\",\n        \"description\": \"\"\n      }\n    },\n    {\n      \"column\": \"TELEFONE\",\n      \"properties\": {\n        \"dtype\": \"string\",\n        \"num_unique_values\": 1343,\n        \"samples\": [\n          \"12 99647-2449\",\n          \"12 99765-5502\",\n          \"12 99138-5384\"\n        ],\n        \"semantic_type\": \"\",\n        \"description\": \"\"\n      }\n    },\n    {\n      \"column\": \"STATUS\",\n      \"properties\": {\n        \"dtype\": \"category\",\n        \"num_unique_values\": 10,\n        \"samples\": [\n          \"INFORMA\\u00c7\\u00c3O\",\n          \"INFORMA\\u00c7\\u00d5ES\",\n          \"COREOGRAFIA\"\n        ],\n        \"semantic_type\": \"\",\n        \"description\": \"\"\n      }\n    },\n    {\n      \"column\": \"VIA\",\n      \"properties\": {\n        \"dtype\": \"category\",\n        \"num_unique_values\": 13,\n        \"samples\": [\n          \"MAE J\\u00c1 \\u00c9 ALUNA\",\n          \"FACEBOOK\",\n          \"WHATSAPP\"\n        ],\n        \"semantic_type\": \"\",\n        \"description\": \"\"\n      }\n    },\n    {\n      \"column\": \"ESTILOS\",\n      \"properties\": {\n        \"dtype\": \"category\",\n        \"num_unique_values\": 48,\n        \"samples\": [\n          \"BALLEYT\",\n          \"Jazz iniciante\",\n          \"N\\u00c3O \"\n        ],\n        \"semantic_type\": \"\",\n        \"description\": \"\"\n      }\n    },\n    {\n      \"column\": \"DATA AGENDAMENTO\",\n      \"properties\": {\n        \"dtype\": \"date\",\n        \"min\": \"2023-02-21 00:00:00\",\n        \"max\": \"2032-09-12 00:00:00\",\n        \"num_unique_values\": 103,\n        \"samples\": [\n          \"2023-09-05 00:00:00\",\n          \"2024-01-16 00:00:00\",\n          \"2023-12-12 00:00:00\"\n        ],\n        \"semantic_type\": \"\",\n        \"description\": \"\"\n      }\n    },\n    {\n      \"column\": \"HOR\\u00c1RIO\",\n      \"properties\": {\n        \"dtype\": \"category\",\n        \"num_unique_values\": 67,\n        \"samples\": [\n          \"20h30\",\n          \"18h00\",\n          \"-\"\n        ],\n        \"semantic_type\": \"\",\n        \"description\": \"\"\n      }\n    },\n    {\n      \"column\": \"PROFESSOR\",\n      \"properties\": {\n        \"dtype\": \"category\",\n        \"num_unique_values\": 27,\n        \"samples\": [\n          \"GABRIELA\",\n          \"CAROL\",\n          \"LOUBACH\"\n        ],\n        \"semantic_type\": \"\",\n        \"description\": \"\"\n      }\n    },\n    {\n      \"column\": \"COMPARECEU\",\n      \"properties\": {\n        \"dtype\": \"category\",\n        \"num_unique_values\": 56,\n        \"samples\": [\n          \"SIM\",\n          \"N\\u00c3O VEIO\",\n          \"2023-05-17 00:00:00\"\n        ],\n        \"semantic_type\": \"\",\n        \"description\": \"\"\n      }\n    },\n    {\n      \"column\": \"REAGENDAMENTO\",\n      \"properties\": {\n        \"dtype\": \"category\",\n        \"num_unique_values\": 2,\n        \"samples\": [\n          \"N\\u00c3O\",\n          \"SIM\"\n        ],\n        \"semantic_type\": \"\",\n        \"description\": \"\"\n      }\n    },\n    {\n      \"column\": \"SITUA\\u00c7\\u00c3O\",\n      \"properties\": {\n        \"dtype\": \"category\",\n        \"num_unique_values\": 225,\n        \"samples\": [\n          \"MATRICULADA\",\n          \"N\\u00c3O APARECEU\"\n        ],\n        \"semantic_type\": \"\",\n        \"description\": \"\"\n      }\n    },\n    {\n      \"column\": \"OBSERVA\\u00c7\\u00d5ES\",\n      \"properties\": {\n        \"dtype\": \"category\",\n        \"num_unique_values\": 632,\n        \"samples\": [\n          \"Fez aula29/8/22. Gin\\u00e1stica art\\u00edstica\",\n          \"Street, Jazz, K-Pop (as 2 juntas). Reenviei 28/6\"\n        ],\n        \"semantic_type\": \"\",\n        \"description\": \"\"\n      }\n    }\n  ]\n}"
            }
          },
          "metadata": {},
          "execution_count": 22
        }
      ]
    },
    {
      "cell_type": "code",
      "source": [
        "# desnecessário aparecer no modelo (até poderiamos utilizar engenharia de recursos para ter uma ideia sobre a origem da pessoa pelo DDD, mas não é relevante neste caso pois possuimos o cadastro do aluno)\n",
        "df['TELEFONE'] = df['TELEFONE'].apply(lambda x: '0000-0000')"
      ],
      "metadata": {
        "id": "_Q6qZHKKJpIa"
      },
      "execution_count": 23,
      "outputs": []
    },
    {
      "cell_type": "code",
      "source": [
        "df.info()"
      ],
      "metadata": {
        "colab": {
          "base_uri": "https://localhost:8080/"
        },
        "id": "FoiT6U_RJq_r",
        "outputId": "5a96eaca-f3f8-48e7-f308-180fc7e834a5"
      },
      "execution_count": 24,
      "outputs": [
        {
          "output_type": "stream",
          "name": "stdout",
          "text": [
            "<class 'pandas.core.frame.DataFrame'>\n",
            "Int64Index: 1668 entries, 0 to 1673\n",
            "Data columns (total 15 columns):\n",
            " #   Column            Non-Null Count  Dtype         \n",
            "---  ------            --------------  -----         \n",
            " 0   DATA 1º CONTATO   1668 non-null   object        \n",
            " 1   NOME COMPLETO     1668 non-null   object        \n",
            " 2   IDADE             1668 non-null   int64         \n",
            " 3   FAIXA ETARIA      1668 non-null   object        \n",
            " 4   TELEFONE          1668 non-null   object        \n",
            " 5   STATUS            1666 non-null   object        \n",
            " 6   VIA               1666 non-null   object        \n",
            " 7   ESTILOS           1662 non-null   object        \n",
            " 8   DATA AGENDAMENTO  222 non-null    datetime64[ns]\n",
            " 9   HORÁRIO           1298 non-null   object        \n",
            " 10  PROFESSOR         1371 non-null   object        \n",
            " 11  COMPARECEU        1648 non-null   object        \n",
            " 12  REAGENDAMENTO     37 non-null     object        \n",
            " 13  SITUAÇÃO          1637 non-null   object        \n",
            " 14  OBSERVAÇÕES       838 non-null    object        \n",
            "dtypes: datetime64[ns](1), int64(1), object(13)\n",
            "memory usage: 273.0+ KB\n"
          ]
        }
      ]
    },
    {
      "cell_type": "code",
      "source": [
        "df['STATUS'].unique()"
      ],
      "metadata": {
        "colab": {
          "base_uri": "https://localhost:8080/"
        },
        "id": "Sga9V7w8WiQS",
        "outputId": "c5998e17-76c6-462d-bc94-78cb09426d78"
      },
      "execution_count": 25,
      "outputs": [
        {
          "output_type": "execute_result",
          "data": {
            "text/plain": [
              "array(['AULA EXPERIMENTAL', 'INFORMAÇÕES', 'AULA ESPERIMENTAL',\n",
              "       'INFORMAÇÕES ', 'CAPTAÇÃO', 'COREOGRAFIA', 'AULA AVULSA',\n",
              "       'INFORMACOES', 'INFORMAÇÃO', 'INFORMAÇOES', nan], dtype=object)"
            ]
          },
          "metadata": {},
          "execution_count": 25
        }
      ]
    },
    {
      "cell_type": "code",
      "source": [
        "# Padronizar 'INFORMAÇÕES'\n",
        "df['STATUS'] = df['STATUS'].str.replace(r'INFORMAÇÕES|INFORMACOES|INFORMAÇÃO|INFORMAÇOES', 'CAPTAÇÃO', regex=True)\n",
        "# Substituir 'AULA AVULSA' por 'EXPERIMENTAL'\n",
        "df['STATUS'] = df['STATUS'].str.replace('AULA AVULSA', 'AULA EXPERIMENTAL')\n",
        "\n",
        "# Padronizar 'AULA ESPERIMENTAL'\n",
        "df['STATUS'] = df['STATUS'].str.replace(r'AULA ESPERIMENTAL|AULA AULA EXPERIMENTAL|COREOGRAFIA', 'AULA EXPERIMENTAL', regex=True)\n",
        "\n",
        "# Excluir nulos\n",
        "df = df.dropna(subset=['STATUS'])"
      ],
      "metadata": {
        "id": "leKXSN8uXjg4"
      },
      "execution_count": 26,
      "outputs": []
    },
    {
      "cell_type": "code",
      "source": [
        "df.info()"
      ],
      "metadata": {
        "colab": {
          "base_uri": "https://localhost:8080/"
        },
        "id": "ZuJRPtIjZwjr",
        "outputId": "867e72c3-5d53-4a74-d333-a85869faf14c"
      },
      "execution_count": 27,
      "outputs": [
        {
          "output_type": "stream",
          "name": "stdout",
          "text": [
            "<class 'pandas.core.frame.DataFrame'>\n",
            "Int64Index: 1666 entries, 0 to 1673\n",
            "Data columns (total 15 columns):\n",
            " #   Column            Non-Null Count  Dtype         \n",
            "---  ------            --------------  -----         \n",
            " 0   DATA 1º CONTATO   1666 non-null   object        \n",
            " 1   NOME COMPLETO     1666 non-null   object        \n",
            " 2   IDADE             1666 non-null   int64         \n",
            " 3   FAIXA ETARIA      1666 non-null   object        \n",
            " 4   TELEFONE          1666 non-null   object        \n",
            " 5   STATUS            1666 non-null   object        \n",
            " 6   VIA               1666 non-null   object        \n",
            " 7   ESTILOS           1662 non-null   object        \n",
            " 8   DATA AGENDAMENTO  222 non-null    datetime64[ns]\n",
            " 9   HORÁRIO           1298 non-null   object        \n",
            " 10  PROFESSOR         1371 non-null   object        \n",
            " 11  COMPARECEU        1648 non-null   object        \n",
            " 12  REAGENDAMENTO     37 non-null     object        \n",
            " 13  SITUAÇÃO          1637 non-null   object        \n",
            " 14  OBSERVAÇÕES       838 non-null    object        \n",
            "dtypes: datetime64[ns](1), int64(1), object(13)\n",
            "memory usage: 208.2+ KB\n"
          ]
        }
      ]
    },
    {
      "cell_type": "code",
      "source": [
        "df['VIA'].unique()"
      ],
      "metadata": {
        "colab": {
          "base_uri": "https://localhost:8080/"
        },
        "id": "q-9yuaaYa5MF",
        "outputId": "ad1f3272-7fad-41a1-a933-67d48861d21f"
      },
      "execution_count": 28,
      "outputs": [
        {
          "output_type": "execute_result",
          "data": {
            "text/plain": [
              "array(['WHATSAPP', 'WHATS', 'INSTAGRAM', 'TELEFONE', 'PESSOALMENTE',\n",
              "       'PRESENCIAL', 'PRESENCIAL ', 'SITE', 'VALE AULA', 'FACEBOOK',\n",
              "       'MESSENGER', 'MAE JÁ É ALUNA', 'ALUNA'], dtype=object)"
            ]
          },
          "metadata": {},
          "execution_count": 28
        }
      ]
    },
    {
      "cell_type": "code",
      "source": [
        "df['VIA'] = df['VIA'].str.replace(r'WHATSAPPAPP|WHATSAPP', 'WHATSAPP', regex=True)\n",
        "df['VIA'] = df['VIA'].str.replace(r'PESSOALMENTE|VALE |MAE JÁ É ALUNA|ALUNA|PRESENCIALAULA|PRESENCIAL ', 'PRESENCIAL', regex=True)\n",
        "df['VIA'] = df['VIA'].str.replace('MESSENGER', 'FACEBOOK')"
      ],
      "metadata": {
        "id": "O9UwRhGHbCdz",
        "colab": {
          "base_uri": "https://localhost:8080/"
        },
        "outputId": "ac74a6ae-4abe-4c2b-ddf7-e9d1885f6058"
      },
      "execution_count": 29,
      "outputs": [
        {
          "output_type": "stream",
          "name": "stderr",
          "text": [
            "<ipython-input-29-0b02b4d05a0a>:1: SettingWithCopyWarning: \n",
            "A value is trying to be set on a copy of a slice from a DataFrame.\n",
            "Try using .loc[row_indexer,col_indexer] = value instead\n",
            "\n",
            "See the caveats in the documentation: https://pandas.pydata.org/pandas-docs/stable/user_guide/indexing.html#returning-a-view-versus-a-copy\n",
            "  df['VIA'] = df['VIA'].str.replace(r'WHATSAPPAPP|WHATSAPP', 'WHATSAPP', regex=True)\n",
            "<ipython-input-29-0b02b4d05a0a>:2: SettingWithCopyWarning: \n",
            "A value is trying to be set on a copy of a slice from a DataFrame.\n",
            "Try using .loc[row_indexer,col_indexer] = value instead\n",
            "\n",
            "See the caveats in the documentation: https://pandas.pydata.org/pandas-docs/stable/user_guide/indexing.html#returning-a-view-versus-a-copy\n",
            "  df['VIA'] = df['VIA'].str.replace(r'PESSOALMENTE|VALE |MAE JÁ É ALUNA|ALUNA|PRESENCIALAULA|PRESENCIAL ', 'PRESENCIAL', regex=True)\n",
            "<ipython-input-29-0b02b4d05a0a>:3: SettingWithCopyWarning: \n",
            "A value is trying to be set on a copy of a slice from a DataFrame.\n",
            "Try using .loc[row_indexer,col_indexer] = value instead\n",
            "\n",
            "See the caveats in the documentation: https://pandas.pydata.org/pandas-docs/stable/user_guide/indexing.html#returning-a-view-versus-a-copy\n",
            "  df['VIA'] = df['VIA'].str.replace('MESSENGER', 'FACEBOOK')\n"
          ]
        }
      ]
    },
    {
      "cell_type": "code",
      "source": [
        "# Criar um dicionário de substituições\n",
        "substituicoes = {\n",
        "    r'JAZZ FUNK |:JAZZ FUNKINICIANTE|JAZZ FUNKINTERMEDIARIO': 'JAZZ FUNK',\n",
        "    r'JAZZ |JAZZ INICIANTE|Jazz|Jazz iniciante|JAZZINICIANTE|JAZZ iniciante|JAZZiniciante': 'JAZZ',\n",
        "    'AULA DE BREAK': 'DANÇAS URBANAS',\n",
        "    'JAZZE D URBANAS': 'DANÇAS URBANAS',\n",
        "    r'[^\\w\\s]+': '',\n",
        "    r'\\s+': ' ',\n",
        "    r'BALLET.*|KPOPBALLET.*|BALLEYT': 'BALLET CLÁSSICO',\n",
        "    r'KPOP.*|K POP INTERMEDIARIO|K POP INICIANTE|kpop|K Pop|Kpop|K POP': 'K-POP',\n",
        "    r'SAPATEADO.*|Sapateado': 'SAPATEADO',\n",
        "    r'CONTEMPORANEO.*': 'CONTEMPORÂNEO'\n",
        "}\n",
        "# Realizar as substituições em uma única linha\n",
        "df['ESTILOS'] = df['ESTILOS'].replace(substituicoes, regex=True).str.strip()"
      ],
      "metadata": {
        "id": "76g2cz6aAVRn"
      },
      "execution_count": 30,
      "outputs": []
    },
    {
      "cell_type": "code",
      "source": [
        "# Contar a frequência de cada valor em ESTILO\n",
        "value_counts = df['ESTILOS'].value_counts()"
      ],
      "metadata": {
        "id": "2CdH_e6SDTTH"
      },
      "execution_count": 31,
      "outputs": []
    },
    {
      "cell_type": "code",
      "source": [
        "df.head(3)"
      ],
      "metadata": {
        "colab": {
          "base_uri": "https://localhost:8080/",
          "height": 213
        },
        "id": "ZEXbhAQTzX1k",
        "outputId": "7a1fc3ba-47ab-40a8-c810-a8d104547058"
      },
      "execution_count": 32,
      "outputs": [
        {
          "output_type": "execute_result",
          "data": {
            "text/plain": [
              "  DATA 1º CONTATO  NOME COMPLETO  IDADE FAIXA ETARIA   TELEFONE  \\\n",
              "0      2022-01-07       GRAZIELE     22       ADULTO  0000-0000   \n",
              "1      2022-01-07         CAMILA     19       ADULTO  0000-0000   \n",
              "2      2021-01-05  MAIARA GOUVEA     16       ADULTO  0000-0000   \n",
              "\n",
              "              STATUS       VIA   ESTILOS DATA AGENDAMENTO HORÁRIO PROFESSOR  \\\n",
              "0  AULA EXPERIMENTAL  WHATSAPP  JAZZFUNK              NaT   18h30   ALISSON   \n",
              "1           CAPTAÇÃO  WHATSAPP      JAZZ              NaT   19H30       LIA   \n",
              "2  AULA EXPERIMENTAL     WHATS      KPOP              NaT   19H00   ALISSON   \n",
              "\n",
              "  COMPARECEU REAGENDAMENTO          SITUAÇÃO OBSERVAÇÕES  \n",
              "0        SIM           NaN       MATRICULADO         NaN  \n",
              "1        NÃO           NaN  SEMANA SOLIDÁRIA         NaN  \n",
              "2  NÃO FICOU           NaN      NÃO RESPONDE         NaN  "
            ],
            "text/html": [
              "\n",
              "  <div id=\"df-cfc9ed00-cff7-4985-9e74-8e41c189fa29\" class=\"colab-df-container\">\n",
              "    <div>\n",
              "<style scoped>\n",
              "    .dataframe tbody tr th:only-of-type {\n",
              "        vertical-align: middle;\n",
              "    }\n",
              "\n",
              "    .dataframe tbody tr th {\n",
              "        vertical-align: top;\n",
              "    }\n",
              "\n",
              "    .dataframe thead th {\n",
              "        text-align: right;\n",
              "    }\n",
              "</style>\n",
              "<table border=\"1\" class=\"dataframe\">\n",
              "  <thead>\n",
              "    <tr style=\"text-align: right;\">\n",
              "      <th></th>\n",
              "      <th>DATA 1º CONTATO</th>\n",
              "      <th>NOME COMPLETO</th>\n",
              "      <th>IDADE</th>\n",
              "      <th>FAIXA ETARIA</th>\n",
              "      <th>TELEFONE</th>\n",
              "      <th>STATUS</th>\n",
              "      <th>VIA</th>\n",
              "      <th>ESTILOS</th>\n",
              "      <th>DATA AGENDAMENTO</th>\n",
              "      <th>HORÁRIO</th>\n",
              "      <th>PROFESSOR</th>\n",
              "      <th>COMPARECEU</th>\n",
              "      <th>REAGENDAMENTO</th>\n",
              "      <th>SITUAÇÃO</th>\n",
              "      <th>OBSERVAÇÕES</th>\n",
              "    </tr>\n",
              "  </thead>\n",
              "  <tbody>\n",
              "    <tr>\n",
              "      <th>0</th>\n",
              "      <td>2022-01-07</td>\n",
              "      <td>GRAZIELE</td>\n",
              "      <td>22</td>\n",
              "      <td>ADULTO</td>\n",
              "      <td>0000-0000</td>\n",
              "      <td>AULA EXPERIMENTAL</td>\n",
              "      <td>WHATSAPP</td>\n",
              "      <td>JAZZFUNK</td>\n",
              "      <td>NaT</td>\n",
              "      <td>18h30</td>\n",
              "      <td>ALISSON</td>\n",
              "      <td>SIM</td>\n",
              "      <td>NaN</td>\n",
              "      <td>MATRICULADO</td>\n",
              "      <td>NaN</td>\n",
              "    </tr>\n",
              "    <tr>\n",
              "      <th>1</th>\n",
              "      <td>2022-01-07</td>\n",
              "      <td>CAMILA</td>\n",
              "      <td>19</td>\n",
              "      <td>ADULTO</td>\n",
              "      <td>0000-0000</td>\n",
              "      <td>CAPTAÇÃO</td>\n",
              "      <td>WHATSAPP</td>\n",
              "      <td>JAZZ</td>\n",
              "      <td>NaT</td>\n",
              "      <td>19H30</td>\n",
              "      <td>LIA</td>\n",
              "      <td>NÃO</td>\n",
              "      <td>NaN</td>\n",
              "      <td>SEMANA SOLIDÁRIA</td>\n",
              "      <td>NaN</td>\n",
              "    </tr>\n",
              "    <tr>\n",
              "      <th>2</th>\n",
              "      <td>2021-01-05</td>\n",
              "      <td>MAIARA GOUVEA</td>\n",
              "      <td>16</td>\n",
              "      <td>ADULTO</td>\n",
              "      <td>0000-0000</td>\n",
              "      <td>AULA EXPERIMENTAL</td>\n",
              "      <td>WHATS</td>\n",
              "      <td>KPOP</td>\n",
              "      <td>NaT</td>\n",
              "      <td>19H00</td>\n",
              "      <td>ALISSON</td>\n",
              "      <td>NÃO FICOU</td>\n",
              "      <td>NaN</td>\n",
              "      <td>NÃO RESPONDE</td>\n",
              "      <td>NaN</td>\n",
              "    </tr>\n",
              "  </tbody>\n",
              "</table>\n",
              "</div>\n",
              "    <div class=\"colab-df-buttons\">\n",
              "\n",
              "  <div class=\"colab-df-container\">\n",
              "    <button class=\"colab-df-convert\" onclick=\"convertToInteractive('df-cfc9ed00-cff7-4985-9e74-8e41c189fa29')\"\n",
              "            title=\"Convert this dataframe to an interactive table.\"\n",
              "            style=\"display:none;\">\n",
              "\n",
              "  <svg xmlns=\"http://www.w3.org/2000/svg\" height=\"24px\" viewBox=\"0 -960 960 960\">\n",
              "    <path d=\"M120-120v-720h720v720H120Zm60-500h600v-160H180v160Zm220 220h160v-160H400v160Zm0 220h160v-160H400v160ZM180-400h160v-160H180v160Zm440 0h160v-160H620v160ZM180-180h160v-160H180v160Zm440 0h160v-160H620v160Z\"/>\n",
              "  </svg>\n",
              "    </button>\n",
              "\n",
              "  <style>\n",
              "    .colab-df-container {\n",
              "      display:flex;\n",
              "      gap: 12px;\n",
              "    }\n",
              "\n",
              "    .colab-df-convert {\n",
              "      background-color: #E8F0FE;\n",
              "      border: none;\n",
              "      border-radius: 50%;\n",
              "      cursor: pointer;\n",
              "      display: none;\n",
              "      fill: #1967D2;\n",
              "      height: 32px;\n",
              "      padding: 0 0 0 0;\n",
              "      width: 32px;\n",
              "    }\n",
              "\n",
              "    .colab-df-convert:hover {\n",
              "      background-color: #E2EBFA;\n",
              "      box-shadow: 0px 1px 2px rgba(60, 64, 67, 0.3), 0px 1px 3px 1px rgba(60, 64, 67, 0.15);\n",
              "      fill: #174EA6;\n",
              "    }\n",
              "\n",
              "    .colab-df-buttons div {\n",
              "      margin-bottom: 4px;\n",
              "    }\n",
              "\n",
              "    [theme=dark] .colab-df-convert {\n",
              "      background-color: #3B4455;\n",
              "      fill: #D2E3FC;\n",
              "    }\n",
              "\n",
              "    [theme=dark] .colab-df-convert:hover {\n",
              "      background-color: #434B5C;\n",
              "      box-shadow: 0px 1px 3px 1px rgba(0, 0, 0, 0.15);\n",
              "      filter: drop-shadow(0px 1px 2px rgba(0, 0, 0, 0.3));\n",
              "      fill: #FFFFFF;\n",
              "    }\n",
              "  </style>\n",
              "\n",
              "    <script>\n",
              "      const buttonEl =\n",
              "        document.querySelector('#df-cfc9ed00-cff7-4985-9e74-8e41c189fa29 button.colab-df-convert');\n",
              "      buttonEl.style.display =\n",
              "        google.colab.kernel.accessAllowed ? 'block' : 'none';\n",
              "\n",
              "      async function convertToInteractive(key) {\n",
              "        const element = document.querySelector('#df-cfc9ed00-cff7-4985-9e74-8e41c189fa29');\n",
              "        const dataTable =\n",
              "          await google.colab.kernel.invokeFunction('convertToInteractive',\n",
              "                                                    [key], {});\n",
              "        if (!dataTable) return;\n",
              "\n",
              "        const docLinkHtml = 'Like what you see? Visit the ' +\n",
              "          '<a target=\"_blank\" href=https://colab.research.google.com/notebooks/data_table.ipynb>data table notebook</a>'\n",
              "          + ' to learn more about interactive tables.';\n",
              "        element.innerHTML = '';\n",
              "        dataTable['output_type'] = 'display_data';\n",
              "        await google.colab.output.renderOutput(dataTable, element);\n",
              "        const docLink = document.createElement('div');\n",
              "        docLink.innerHTML = docLinkHtml;\n",
              "        element.appendChild(docLink);\n",
              "      }\n",
              "    </script>\n",
              "  </div>\n",
              "\n",
              "\n",
              "<div id=\"df-bd9e521d-b3de-4f72-92c1-dae77ac9e5bf\">\n",
              "  <button class=\"colab-df-quickchart\" onclick=\"quickchart('df-bd9e521d-b3de-4f72-92c1-dae77ac9e5bf')\"\n",
              "            title=\"Suggest charts\"\n",
              "            style=\"display:none;\">\n",
              "\n",
              "<svg xmlns=\"http://www.w3.org/2000/svg\" height=\"24px\"viewBox=\"0 0 24 24\"\n",
              "     width=\"24px\">\n",
              "    <g>\n",
              "        <path d=\"M19 3H5c-1.1 0-2 .9-2 2v14c0 1.1.9 2 2 2h14c1.1 0 2-.9 2-2V5c0-1.1-.9-2-2-2zM9 17H7v-7h2v7zm4 0h-2V7h2v10zm4 0h-2v-4h2v4z\"/>\n",
              "    </g>\n",
              "</svg>\n",
              "  </button>\n",
              "\n",
              "<style>\n",
              "  .colab-df-quickchart {\n",
              "      --bg-color: #E8F0FE;\n",
              "      --fill-color: #1967D2;\n",
              "      --hover-bg-color: #E2EBFA;\n",
              "      --hover-fill-color: #174EA6;\n",
              "      --disabled-fill-color: #AAA;\n",
              "      --disabled-bg-color: #DDD;\n",
              "  }\n",
              "\n",
              "  [theme=dark] .colab-df-quickchart {\n",
              "      --bg-color: #3B4455;\n",
              "      --fill-color: #D2E3FC;\n",
              "      --hover-bg-color: #434B5C;\n",
              "      --hover-fill-color: #FFFFFF;\n",
              "      --disabled-bg-color: #3B4455;\n",
              "      --disabled-fill-color: #666;\n",
              "  }\n",
              "\n",
              "  .colab-df-quickchart {\n",
              "    background-color: var(--bg-color);\n",
              "    border: none;\n",
              "    border-radius: 50%;\n",
              "    cursor: pointer;\n",
              "    display: none;\n",
              "    fill: var(--fill-color);\n",
              "    height: 32px;\n",
              "    padding: 0;\n",
              "    width: 32px;\n",
              "  }\n",
              "\n",
              "  .colab-df-quickchart:hover {\n",
              "    background-color: var(--hover-bg-color);\n",
              "    box-shadow: 0 1px 2px rgba(60, 64, 67, 0.3), 0 1px 3px 1px rgba(60, 64, 67, 0.15);\n",
              "    fill: var(--button-hover-fill-color);\n",
              "  }\n",
              "\n",
              "  .colab-df-quickchart-complete:disabled,\n",
              "  .colab-df-quickchart-complete:disabled:hover {\n",
              "    background-color: var(--disabled-bg-color);\n",
              "    fill: var(--disabled-fill-color);\n",
              "    box-shadow: none;\n",
              "  }\n",
              "\n",
              "  .colab-df-spinner {\n",
              "    border: 2px solid var(--fill-color);\n",
              "    border-color: transparent;\n",
              "    border-bottom-color: var(--fill-color);\n",
              "    animation:\n",
              "      spin 1s steps(1) infinite;\n",
              "  }\n",
              "\n",
              "  @keyframes spin {\n",
              "    0% {\n",
              "      border-color: transparent;\n",
              "      border-bottom-color: var(--fill-color);\n",
              "      border-left-color: var(--fill-color);\n",
              "    }\n",
              "    20% {\n",
              "      border-color: transparent;\n",
              "      border-left-color: var(--fill-color);\n",
              "      border-top-color: var(--fill-color);\n",
              "    }\n",
              "    30% {\n",
              "      border-color: transparent;\n",
              "      border-left-color: var(--fill-color);\n",
              "      border-top-color: var(--fill-color);\n",
              "      border-right-color: var(--fill-color);\n",
              "    }\n",
              "    40% {\n",
              "      border-color: transparent;\n",
              "      border-right-color: var(--fill-color);\n",
              "      border-top-color: var(--fill-color);\n",
              "    }\n",
              "    60% {\n",
              "      border-color: transparent;\n",
              "      border-right-color: var(--fill-color);\n",
              "    }\n",
              "    80% {\n",
              "      border-color: transparent;\n",
              "      border-right-color: var(--fill-color);\n",
              "      border-bottom-color: var(--fill-color);\n",
              "    }\n",
              "    90% {\n",
              "      border-color: transparent;\n",
              "      border-bottom-color: var(--fill-color);\n",
              "    }\n",
              "  }\n",
              "</style>\n",
              "\n",
              "  <script>\n",
              "    async function quickchart(key) {\n",
              "      const quickchartButtonEl =\n",
              "        document.querySelector('#' + key + ' button');\n",
              "      quickchartButtonEl.disabled = true;  // To prevent multiple clicks.\n",
              "      quickchartButtonEl.classList.add('colab-df-spinner');\n",
              "      try {\n",
              "        const charts = await google.colab.kernel.invokeFunction(\n",
              "            'suggestCharts', [key], {});\n",
              "      } catch (error) {\n",
              "        console.error('Error during call to suggestCharts:', error);\n",
              "      }\n",
              "      quickchartButtonEl.classList.remove('colab-df-spinner');\n",
              "      quickchartButtonEl.classList.add('colab-df-quickchart-complete');\n",
              "    }\n",
              "    (() => {\n",
              "      let quickchartButtonEl =\n",
              "        document.querySelector('#df-bd9e521d-b3de-4f72-92c1-dae77ac9e5bf button');\n",
              "      quickchartButtonEl.style.display =\n",
              "        google.colab.kernel.accessAllowed ? 'block' : 'none';\n",
              "    })();\n",
              "  </script>\n",
              "</div>\n",
              "\n",
              "    </div>\n",
              "  </div>\n"
            ],
            "application/vnd.google.colaboratory.intrinsic+json": {
              "type": "dataframe",
              "variable_name": "df",
              "summary": "{\n  \"name\": \"df\",\n  \"rows\": 1666,\n  \"fields\": [\n    {\n      \"column\": \"DATA 1\\u00ba CONTATO\",\n      \"properties\": {\n        \"dtype\": \"date\",\n        \"min\": \"2021-01-05\",\n        \"max\": \"2024-03-07\",\n        \"num_unique_values\": 529,\n        \"samples\": [\n          \"2022-03-16\",\n          \"2023-05-08\",\n          \"2021-01-14\"\n        ],\n        \"semantic_type\": \"\",\n        \"description\": \"\"\n      }\n    },\n    {\n      \"column\": \"NOME COMPLETO\",\n      \"properties\": {\n        \"dtype\": \"string\",\n        \"num_unique_values\": 1416,\n        \"samples\": [\n          \"BRUNA LEITE\",\n          \"ISABELA M\\u00c3E FLAVIANA\",\n          \"JU PARA FILHA\"\n        ],\n        \"semantic_type\": \"\",\n        \"description\": \"\"\n      }\n    },\n    {\n      \"column\": \"IDADE\",\n      \"properties\": {\n        \"dtype\": \"number\",\n        \"std\": 9,\n        \"min\": 1,\n        \"max\": 75,\n        \"num_unique_values\": 63,\n        \"samples\": [\n          68,\n          57,\n          22\n        ],\n        \"semantic_type\": \"\",\n        \"description\": \"\"\n      }\n    },\n    {\n      \"column\": \"FAIXA ETARIA\",\n      \"properties\": {\n        \"dtype\": \"category\",\n        \"num_unique_values\": 3,\n        \"samples\": [\n          \"ADULTO\",\n          \"ADOLESCENTE\",\n          \"CRIAN\\u00c7A\"\n        ],\n        \"semantic_type\": \"\",\n        \"description\": \"\"\n      }\n    },\n    {\n      \"column\": \"TELEFONE\",\n      \"properties\": {\n        \"dtype\": \"category\",\n        \"num_unique_values\": 1,\n        \"samples\": [\n          \"0000-0000\"\n        ],\n        \"semantic_type\": \"\",\n        \"description\": \"\"\n      }\n    },\n    {\n      \"column\": \"STATUS\",\n      \"properties\": {\n        \"dtype\": \"category\",\n        \"num_unique_values\": 3,\n        \"samples\": [\n          \"AULA EXPERIMENTAL\"\n        ],\n        \"semantic_type\": \"\",\n        \"description\": \"\"\n      }\n    },\n    {\n      \"column\": \"VIA\",\n      \"properties\": {\n        \"dtype\": \"category\",\n        \"num_unique_values\": 8,\n        \"samples\": [\n          \"WHATS\"\n        ],\n        \"semantic_type\": \"\",\n        \"description\": \"\"\n      }\n    },\n    {\n      \"column\": \"ESTILOS\",\n      \"properties\": {\n        \"dtype\": \"category\",\n        \"num_unique_values\": 23,\n        \"samples\": [\n          \"N\\u00c3O\"\n        ],\n        \"semantic_type\": \"\",\n        \"description\": \"\"\n      }\n    },\n    {\n      \"column\": \"DATA AGENDAMENTO\",\n      \"properties\": {\n        \"dtype\": \"date\",\n        \"min\": \"2023-02-21 00:00:00\",\n        \"max\": \"2032-09-12 00:00:00\",\n        \"num_unique_values\": 103,\n        \"samples\": [\n          \"2023-09-05 00:00:00\"\n        ],\n        \"semantic_type\": \"\",\n        \"description\": \"\"\n      }\n    },\n    {\n      \"column\": \"HOR\\u00c1RIO\",\n      \"properties\": {\n        \"dtype\": \"category\",\n        \"num_unique_values\": 67,\n        \"samples\": [\n          \"20h30\"\n        ],\n        \"semantic_type\": \"\",\n        \"description\": \"\"\n      }\n    },\n    {\n      \"column\": \"PROFESSOR\",\n      \"properties\": {\n        \"dtype\": \"category\",\n        \"num_unique_values\": 27,\n        \"samples\": [\n          \"GABRIELA\"\n        ],\n        \"semantic_type\": \"\",\n        \"description\": \"\"\n      }\n    },\n    {\n      \"column\": \"COMPARECEU\",\n      \"properties\": {\n        \"dtype\": \"category\",\n        \"num_unique_values\": 56,\n        \"samples\": [\n          \"SIM\"\n        ],\n        \"semantic_type\": \"\",\n        \"description\": \"\"\n      }\n    },\n    {\n      \"column\": \"REAGENDAMENTO\",\n      \"properties\": {\n        \"dtype\": \"category\",\n        \"num_unique_values\": 2,\n        \"samples\": [\n          \"N\\u00c3O\"\n        ],\n        \"semantic_type\": \"\",\n        \"description\": \"\"\n      }\n    },\n    {\n      \"column\": \"SITUA\\u00c7\\u00c3O\",\n      \"properties\": {\n        \"dtype\": \"category\",\n        \"num_unique_values\": 225,\n        \"samples\": [\n          \"MATRICULADA\"\n        ],\n        \"semantic_type\": \"\",\n        \"description\": \"\"\n      }\n    },\n    {\n      \"column\": \"OBSERVA\\u00c7\\u00d5ES\",\n      \"properties\": {\n        \"dtype\": \"category\",\n        \"num_unique_values\": 632,\n        \"samples\": [\n          \"Fez aula29/8/22. Gin\\u00e1stica art\\u00edstica\"\n        ],\n        \"semantic_type\": \"\",\n        \"description\": \"\"\n      }\n    }\n  ]\n}"
            }
          },
          "metadata": {},
          "execution_count": 32
        }
      ]
    },
    {
      "cell_type": "code",
      "source": [
        "# Selecionar os 3 valores mais frequentes\n",
        "top_3_values = value_counts.nlargest(3).index.tolist()"
      ],
      "metadata": {
        "id": "mJF2KT5BDT0G"
      },
      "execution_count": 33,
      "outputs": []
    },
    {
      "cell_type": "code",
      "source": [
        "top_3_values"
      ],
      "metadata": {
        "colab": {
          "base_uri": "https://localhost:8080/"
        },
        "id": "juJtopqeGxO9",
        "outputId": "cb120125-cb12-4f94-84fc-1c7c5a714923"
      },
      "execution_count": 34,
      "outputs": [
        {
          "output_type": "execute_result",
          "data": {
            "text/plain": [
              "['DANÇAS URBANAS', 'JAZZ', 'JAZZFUNK']"
            ]
          },
          "metadata": {},
          "execution_count": 34
        }
      ]
    },
    {
      "cell_type": "code",
      "source": [
        "# Padronizar os valores que não são \"JAZZFUNK\", \"JAZZ\", \"K-POP\", \"SAPATEADO\", \"DANÇAS URBANAS\", \"CONTEMPORÂNEO\" e \"BALLET CLÁSSICO\" e distribuir igualitariamente entre estes os 3 valores que mais aparecem\n",
        "df['ESTILOS'] = np.where(df['ESTILOS'].isin(['JAZZFUNK', 'JAZZ', 'K-POP', 'SAPATEADO', 'DANÇAS URBANAS', 'CONTEMPORÂNEO', 'BALLET CLÁSSICO', 'TODAS']),\n",
        "                        df['ESTILOS'],\n",
        "                        np.random.choice(top_3_values))"
      ],
      "metadata": {
        "id": "Qyuj0JYCDVwA"
      },
      "execution_count": 35,
      "outputs": []
    },
    {
      "cell_type": "code",
      "source": [
        "np.where(df['ESTILOS'].isin(['JAZZFUNK', 'JAZZ', 'K-POP', 'SAPATEADO', 'DANÇAS URBANAS', 'CONTEMPORÂNEO', 'BALLET CLÁSSICO', 'TODAS']),\n",
        "                        df['ESTILOS'],\n",
        "                        np.random.choice(top_3_values))"
      ],
      "metadata": {
        "colab": {
          "base_uri": "https://localhost:8080/"
        },
        "id": "beD6fzJ_d2ck",
        "outputId": "f27a2e1c-e631-4b21-b44d-9522a1b49576"
      },
      "execution_count": 36,
      "outputs": [
        {
          "output_type": "execute_result",
          "data": {
            "text/plain": [
              "array(['JAZZFUNK', 'JAZZ', 'DANÇAS URBANAS', ..., 'JAZZFUNK',\n",
              "       'BALLET CLÁSSICO', 'K-POP'], dtype=object)"
            ]
          },
          "metadata": {},
          "execution_count": 36
        }
      ]
    },
    {
      "cell_type": "code",
      "source": [
        "# Preencher os valores vazios com \"Não agendou\"\n",
        "# Converter a coluna 'DATA AGENDAMENTO' para tipo datetime\n",
        "df['DATA AGENDAMENTO'] = df['DATA AGENDAMENTO'].replace(pd.Timestamp('2032-09-12 00:00:00'), pd.Timestamp('2023-09-12 00:00:00'))\n",
        "# Preencher valores NaT com 'Não agendou'\n",
        "df['DATA AGENDAMENTO'].fillna('Não agendou', inplace=True)\n",
        "df['DATA AGENDAMENTO'] = pd.to_datetime(df['DATA AGENDAMENTO'], errors='coerce')\n",
        "df['DATA AGENDAMENTO'].replace(pd.NaT, 'Não agendou', inplace=True)"
      ],
      "metadata": {
        "id": "QO0EbaoCZASg"
      },
      "execution_count": 37,
      "outputs": []
    },
    {
      "cell_type": "code",
      "source": [
        "df['DATA AGENDAMENTO'].unique()"
      ],
      "metadata": {
        "colab": {
          "base_uri": "https://localhost:8080/"
        },
        "id": "r7V1k1xbX-aw",
        "outputId": "5797487d-60a2-4671-ac83-3a9a79c77963"
      },
      "execution_count": 38,
      "outputs": [
        {
          "output_type": "execute_result",
          "data": {
            "text/plain": [
              "array(['Não agendou', Timestamp('2023-08-31 00:00:00'),\n",
              "       Timestamp('2023-06-23 00:00:00'), Timestamp('2023-07-12 00:00:00'),\n",
              "       Timestamp('2023-06-22 00:00:00'), Timestamp('2023-06-30 00:00:00'),\n",
              "       Timestamp('2023-06-26 00:00:00'), Timestamp('2023-07-10 00:00:00'),\n",
              "       Timestamp('2023-06-27 00:00:00'), Timestamp('2023-07-05 00:00:00'),\n",
              "       Timestamp('2023-07-07 00:00:00'), Timestamp('2023-07-04 00:00:00'),\n",
              "       Timestamp('2023-07-06 00:00:00'), Timestamp('2023-08-01 00:00:00'),\n",
              "       Timestamp('2023-08-03 00:00:00'), Timestamp('2023-08-08 00:00:00'),\n",
              "       Timestamp('2023-08-04 00:00:00'), Timestamp('2023-08-02 00:00:00'),\n",
              "       Timestamp('2023-08-15 00:00:00'), Timestamp('2023-08-10 00:00:00'),\n",
              "       Timestamp('2023-08-09 00:00:00'), Timestamp('2023-08-07 00:00:00'),\n",
              "       Timestamp('2023-08-16 00:00:00'), Timestamp('2023-08-11 00:00:00'),\n",
              "       Timestamp('2023-08-18 00:00:00'), Timestamp('2023-08-17 00:00:00'),\n",
              "       Timestamp('2023-08-22 00:00:00'), Timestamp('2023-08-29 00:00:00'),\n",
              "       Timestamp('2023-08-23 00:00:00'), Timestamp('2023-08-24 00:00:00'),\n",
              "       Timestamp('2023-08-30 00:00:00'), Timestamp('2023-09-05 00:00:00'),\n",
              "       Timestamp('2023-09-12 00:00:00'), Timestamp('2023-09-06 00:00:00'),\n",
              "       Timestamp('2023-09-08 00:00:00'), Timestamp('2023-09-18 00:00:00'),\n",
              "       Timestamp('2023-09-13 00:00:00'), Timestamp('2023-09-11 00:00:00'),\n",
              "       Timestamp('2023-09-14 00:00:00'), Timestamp('2023-09-15 00:00:00'),\n",
              "       Timestamp('2023-09-19 00:00:00'), Timestamp('2023-09-22 00:00:00'),\n",
              "       Timestamp('2023-09-26 00:00:00'), Timestamp('2023-09-29 00:00:00'),\n",
              "       Timestamp('2023-10-20 00:00:00'), Timestamp('2023-10-23 00:00:00'),\n",
              "       Timestamp('2023-10-02 00:00:00'), Timestamp('2023-10-03 00:00:00'),\n",
              "       Timestamp('2023-10-10 00:00:00'), Timestamp('2023-10-31 00:00:00'),\n",
              "       Timestamp('2023-10-19 00:00:00'), Timestamp('2023-10-24 00:00:00'),\n",
              "       Timestamp('2023-10-30 00:00:00'), Timestamp('2023-11-09 00:00:00'),\n",
              "       Timestamp('2023-11-13 00:00:00'), Timestamp('2023-11-07 00:00:00'),\n",
              "       Timestamp('2023-11-06 00:00:00'), Timestamp('2023-11-27 00:00:00'),\n",
              "       Timestamp('2023-11-10 00:00:00'), Timestamp('2023-11-23 00:00:00'),\n",
              "       Timestamp('2023-11-24 00:00:00'), Timestamp('2023-11-29 00:00:00'),\n",
              "       Timestamp('2023-12-12 00:00:00'), Timestamp('2023-11-30 00:00:00'),\n",
              "       Timestamp('2024-01-09 00:00:00'), Timestamp('2024-01-12 00:00:00'),\n",
              "       Timestamp('2024-01-15 00:00:00'), Timestamp('2024-01-16 00:00:00'),\n",
              "       Timestamp('2024-01-08 00:00:00'), Timestamp('2024-01-19 00:00:00'),\n",
              "       Timestamp('2024-01-11 00:00:00'), Timestamp('2024-01-10 00:00:00'),\n",
              "       Timestamp('2024-01-18 00:00:00'), Timestamp('2024-01-29 00:00:00'),\n",
              "       Timestamp('2024-01-17 00:00:00'), Timestamp('2024-01-25 00:00:00'),\n",
              "       Timestamp('2024-02-07 00:00:00'), Timestamp('2024-01-22 00:00:00'),\n",
              "       Timestamp('2024-01-23 00:00:00'), Timestamp('2024-02-06 00:00:00'),\n",
              "       Timestamp('2024-01-30 00:00:00'), Timestamp('2024-02-02 00:00:00'),\n",
              "       Timestamp('2024-01-31 00:00:00'), Timestamp('2024-02-21 00:00:00'),\n",
              "       Timestamp('2024-02-16 00:00:00'), Timestamp('2024-02-09 00:00:00'),\n",
              "       Timestamp('2024-02-19 00:00:00'), Timestamp('2024-02-15 00:00:00'),\n",
              "       Timestamp('2024-02-14 00:00:00'), Timestamp('2024-02-20 00:00:00'),\n",
              "       Timestamp('2024-02-23 00:00:00'), Timestamp('2023-02-21 00:00:00'),\n",
              "       Timestamp('2024-02-26 00:00:00'), Timestamp('2024-02-27 00:00:00'),\n",
              "       Timestamp('2024-02-22 00:00:00'), Timestamp('2024-03-11 00:00:00'),\n",
              "       Timestamp('2024-02-29 00:00:00'), Timestamp('2024-03-04 00:00:00'),\n",
              "       Timestamp('2024-03-01 00:00:00'), Timestamp('2024-02-28 00:00:00'),\n",
              "       Timestamp('2024-03-07 00:00:00'), Timestamp('2024-03-05 00:00:00'),\n",
              "       Timestamp('2024-03-06 00:00:00')], dtype=object)"
            ]
          },
          "metadata": {},
          "execution_count": 38
        }
      ]
    },
    {
      "cell_type": "code",
      "source": [
        "# Renomear a coluna HORÁRIO para TURNO\n",
        "df = df.rename(columns={'HORÁRIO': 'TURNO'})"
      ],
      "metadata": {
        "id": "V7nkCgirqI4s"
      },
      "execution_count": 39,
      "outputs": []
    },
    {
      "cell_type": "code",
      "source": [
        "# Criar uma nova coluna com os dois primeiros caracteres da coluna 'TURNO'\n",
        "# Utilizar a função apply com uma função lambda para processar cada valor na coluna 'TURNO'\n",
        "df['TURNO_FIRST_TWO_DIGITS'] = df['TURNO'].apply(lambda x: x[:2] if isinstance(x, str) else str(x) if not pd.isnull(x) else '')"
      ],
      "metadata": {
        "id": "3hRt9t9kvZKo"
      },
      "execution_count": 40,
      "outputs": []
    },
    {
      "cell_type": "code",
      "source": [
        "df['TURNO'].unique()"
      ],
      "metadata": {
        "colab": {
          "base_uri": "https://localhost:8080/"
        },
        "id": "XetVn6uUvbxC",
        "outputId": "92102636-d433-4786-c111-fba233a89194"
      },
      "execution_count": 41,
      "outputs": [
        {
          "output_type": "execute_result",
          "data": {
            "text/plain": [
              "array(['18h30', '19H30', '19H00', '17H00', '-', '20H00', '18H00', '16H00',\n",
              "       '16H30', '21H00', '20H30', 'NOITE', '15H00', '17H30', 'TARDE',\n",
              "       '16h30', '18h00', nan, 'MANHÃ', '19HOO', '19h00', '19h30', '17h30',\n",
              "       '18H30', '16h00', '15H30', '15h40', '17h00', '14H30', '15h', '18H',\n",
              "       'SÁBADO', '17h', '18h', '15H', '17H45', '18H45', '20h30', '8h00',\n",
              "       '9H00', '16h15', '15h30', '15h00', '11h00', '10H00', '16H15',\n",
              "       'SABADO', '19h30 ', '08H ', datetime.time(17, 30),\n",
              "       datetime.time(18, 30), ' 18h30', '09H ', '08H', '10H', 'NÃO',\n",
              "       '09H00', '8H00', 'NÃO ', '19H30 ', 'DE NOITE', '14H30 ', '17H30 ',\n",
              "       '09h00', '9H', '9h', '16H', '16h'], dtype=object)"
            ]
          },
          "metadata": {},
          "execution_count": 41
        }
      ]
    },
    {
      "cell_type": "code",
      "source": [
        "# Substituir os valores especificados\n",
        "values_to_replace1 = ['-', 'NO', '', '18:30:00', ' ', 'DE']\n",
        "df['TURNO_FIRST_TWO_DIGITS'] = df['TURNO_FIRST_TWO_DIGITS'].replace(to_replace=values_to_replace1, value='19')\n",
        "\n",
        "values_to_replace2 = ['TA', 'SÁ', 'SA', '17:30:00', 'NÃ']\n",
        "df['TURNO_FIRST_TWO_DIGITS'] = df['TURNO_FIRST_TWO_DIGITS'].replace(to_replace=values_to_replace2, value='16')\n",
        "\n",
        "values_to_replace3 = ['MA', '8h', '9H', ' 1', '8H','9h']\n",
        "df['TURNO_FIRST_TWO_DIGITS'] = df['TURNO_FIRST_TWO_DIGITS'].replace(to_replace=values_to_replace3, value='10')"
      ],
      "metadata": {
        "id": "2lafSQ97xW0H"
      },
      "execution_count": 42,
      "outputs": []
    },
    {
      "cell_type": "code",
      "source": [
        "df['TURNO_FIRST_TWO_DIGITS'] = df['TURNO_FIRST_TWO_DIGITS'].astype(int)"
      ],
      "metadata": {
        "id": "Ukw1qhe66Pkv"
      },
      "execution_count": 43,
      "outputs": []
    },
    {
      "cell_type": "code",
      "source": [
        "# Criar uma nova coluna 'PERIODO' com as categorias MANHÃ, TARDE e NOITE\n",
        "df['TURNO_FIRST_TWO_DIGITS'] = np.where((df['TURNO_FIRST_TWO_DIGITS'] > 6) & (df['TURNO_FIRST_TWO_DIGITS'] < 12), 'MANHÃ',\n",
        "                         np.where((df['TURNO_FIRST_TWO_DIGITS'] >= 12) & (df['TURNO_FIRST_TWO_DIGITS'] < 18), 'TARDE', 'NOITE'))"
      ],
      "metadata": {
        "id": "HkG2kfPq6ZlP"
      },
      "execution_count": 44,
      "outputs": []
    },
    {
      "cell_type": "code",
      "source": [
        "# Substituir dos valores 'Unknown' pela moda\n",
        "moda_turno = df['TURNO'].mode()[0]\n",
        "df['TURNO'] = df['TURNO'].replace('Unknown', moda_turno)\n",
        "df['TURNO'] = df['TURNO_FIRST_TWO_DIGITS']"
      ],
      "metadata": {
        "id": "VAhBcpz7rdib"
      },
      "execution_count": 45,
      "outputs": []
    },
    {
      "cell_type": "code",
      "source": [
        "# Converter datas\n",
        "datas = ['DATA 1º CONTATO']\n",
        "for col in datas:\n",
        "    df[col] = pd.to_datetime(df[col])\n",
        "# Trazer o trismestre\n",
        "df['TRIMESTRE'] = df['DATA 1º CONTATO'].dt.quarter\n",
        "df['TRIMESTRE'] = df['TRIMESTRE'].astype(int)"
      ],
      "metadata": {
        "id": "lNp071CbhDEP"
      },
      "execution_count": 46,
      "outputs": []
    },
    {
      "cell_type": "code",
      "source": [
        "df = df[['DATA 1º CONTATO','TRIMESTRE', 'NOME COMPLETO', 'IDADE', 'FAIXA ETARIA', 'TELEFONE', 'STATUS', 'VIA', 'ESTILOS', 'DATA AGENDAMENTO', 'TURNO', 'PROFESSOR', 'COMPARECEU', 'REAGENDAMENTO', 'SITUAÇÃO', 'OBSERVAÇÕES']]"
      ],
      "metadata": {
        "id": "brWZ0e1q-YJY"
      },
      "execution_count": 47,
      "outputs": []
    },
    {
      "cell_type": "code",
      "source": [
        "df.info()"
      ],
      "metadata": {
        "colab": {
          "base_uri": "https://localhost:8080/"
        },
        "id": "RLXnHxxwv2WT",
        "outputId": "5932fdc3-d417-4947-d3a1-db706a5c6174"
      },
      "execution_count": 48,
      "outputs": [
        {
          "output_type": "stream",
          "name": "stdout",
          "text": [
            "<class 'pandas.core.frame.DataFrame'>\n",
            "Int64Index: 1666 entries, 0 to 1673\n",
            "Data columns (total 16 columns):\n",
            " #   Column            Non-Null Count  Dtype         \n",
            "---  ------            --------------  -----         \n",
            " 0   DATA 1º CONTATO   1666 non-null   datetime64[ns]\n",
            " 1   TRIMESTRE         1666 non-null   int64         \n",
            " 2   NOME COMPLETO     1666 non-null   object        \n",
            " 3   IDADE             1666 non-null   int64         \n",
            " 4   FAIXA ETARIA      1666 non-null   object        \n",
            " 5   TELEFONE          1666 non-null   object        \n",
            " 6   STATUS            1666 non-null   object        \n",
            " 7   VIA               1666 non-null   object        \n",
            " 8   ESTILOS           1666 non-null   object        \n",
            " 9   DATA AGENDAMENTO  1666 non-null   object        \n",
            " 10  TURNO             1666 non-null   object        \n",
            " 11  PROFESSOR         1371 non-null   object        \n",
            " 12  COMPARECEU        1648 non-null   object        \n",
            " 13  REAGENDAMENTO     37 non-null     object        \n",
            " 14  SITUAÇÃO          1637 non-null   object        \n",
            " 15  OBSERVAÇÕES       838 non-null    object        \n",
            "dtypes: datetime64[ns](1), int64(2), object(13)\n",
            "memory usage: 285.8+ KB\n"
          ]
        }
      ]
    },
    {
      "cell_type": "code",
      "source": [
        "df['PROFESSOR'].unique()"
      ],
      "metadata": {
        "colab": {
          "base_uri": "https://localhost:8080/"
        },
        "id": "1-gh-6SLt0HY",
        "outputId": "cc97eba1-6bd3-42cb-c58a-538f55e1cc0e"
      },
      "execution_count": 49,
      "outputs": [
        {
          "output_type": "execute_result",
          "data": {
            "text/plain": [
              "array(['ALISSON', 'LIA', '-', 'BIANCA', 'NICOLAS', 'FERNANDO', 'GIBELI',\n",
              "       'PAOLA', nan, 'GABRIELA', 'LOUBACH', 'ALISSIN', 'ALISSON ', 'LIA ',\n",
              "       'CAROL', 'ISABELLY', 'LARISSA', 'AMANDA', 'CICERO', 'ALINE',\n",
              "       'ALLISON ', 'CÍCERO', 'NÃO', 'ALISSON/LARI', 'TODAS', 'NÃO ',\n",
              "       'LARISSA / ALISSON', 'FELIPE'], dtype=object)"
            ]
          },
          "metadata": {},
          "execution_count": 49
        }
      ]
    },
    {
      "cell_type": "code",
      "source": [
        "# Criar um dicionário de substituições\n",
        "substituicoes = {\n",
        "    r'ALISSIN.*|ALISSON .*|ALLISON ': 'ALISSON',\n",
        "    'LIA ': 'LIA'\n",
        "}\n",
        "# Realizar as substituições em uma única linha\n",
        "df['PROFESSOR'] = df['PROFESSOR'].replace(substituicoes, regex=True)\n",
        "# Preencher valores nulos e substituir valores específicos\n",
        "df['PROFESSOR'].fillna('NÃO INFORMADO', inplace=True)\n",
        "df['PROFESSOR'] = df['PROFESSOR'].replace(['NÃO', 'NÃO ', '-', 'TODAS', 'LARISSA / ALISSON'], 'NÃO INFORMADO')"
      ],
      "metadata": {
        "id": "KVsu9ps7uPSW",
        "colab": {
          "base_uri": "https://localhost:8080/"
        },
        "outputId": "b56e08e8-30e3-42ba-f92d-a8d64deffa40"
      },
      "execution_count": 50,
      "outputs": [
        {
          "output_type": "stream",
          "name": "stderr",
          "text": [
            "<ipython-input-50-9629c95803ca>:7: SettingWithCopyWarning: \n",
            "A value is trying to be set on a copy of a slice from a DataFrame.\n",
            "Try using .loc[row_indexer,col_indexer] = value instead\n",
            "\n",
            "See the caveats in the documentation: https://pandas.pydata.org/pandas-docs/stable/user_guide/indexing.html#returning-a-view-versus-a-copy\n",
            "  df['PROFESSOR'] = df['PROFESSOR'].replace(substituicoes, regex=True)\n",
            "<ipython-input-50-9629c95803ca>:9: SettingWithCopyWarning: \n",
            "A value is trying to be set on a copy of a slice from a DataFrame\n",
            "\n",
            "See the caveats in the documentation: https://pandas.pydata.org/pandas-docs/stable/user_guide/indexing.html#returning-a-view-versus-a-copy\n",
            "  df['PROFESSOR'].fillna('NÃO INFORMADO', inplace=True)\n",
            "<ipython-input-50-9629c95803ca>:10: SettingWithCopyWarning: \n",
            "A value is trying to be set on a copy of a slice from a DataFrame.\n",
            "Try using .loc[row_indexer,col_indexer] = value instead\n",
            "\n",
            "See the caveats in the documentation: https://pandas.pydata.org/pandas-docs/stable/user_guide/indexing.html#returning-a-view-versus-a-copy\n",
            "  df['PROFESSOR'] = df['PROFESSOR'].replace(['NÃO', 'NÃO ', '-', 'TODAS', 'LARISSA / ALISSON'], 'NÃO INFORMADO')\n"
          ]
        }
      ]
    },
    {
      "cell_type": "code",
      "source": [
        "df['COMPARECEU'].unique()"
      ],
      "metadata": {
        "colab": {
          "base_uri": "https://localhost:8080/"
        },
        "id": "Za5raBuj-f-d",
        "outputId": "46047d60-3c9d-48e0-c11b-e98a231c66aa"
      },
      "execution_count": 51,
      "outputs": [
        {
          "output_type": "execute_result",
          "data": {
            "text/plain": [
              "array(['SIM', 'NÃO', 'NÃO FICOU', 'MATRICULADO', 'SEM RETORNO',\n",
              "       'NÃO VEIO', 'MATRICULADA', 'VEIO', '-', 'AVULSO', 'NÃO RESPONDE',\n",
              "       'NÃO VEIO ', 'ENROLADA', nan, 'MATRICULADO ', 'NÃO VAI FICAR',\n",
              "       'AVULSA', 'CANCELOU', 'ANO QUE VEM',\n",
              "       datetime.datetime(2023, 7, 31, 0, 0),\n",
              "       datetime.datetime(2023, 4, 14, 0, 0),\n",
              "       datetime.datetime(2023, 4, 13, 0, 0),\n",
              "       datetime.datetime(2023, 4, 24, 0, 0),\n",
              "       datetime.datetime(2023, 4, 25, 0, 0),\n",
              "       datetime.datetime(2023, 4, 27, 0, 0),\n",
              "       datetime.datetime(2023, 4, 28, 0, 0),\n",
              "       datetime.datetime(2023, 5, 3, 0, 0),\n",
              "       datetime.datetime(2023, 4, 20, 0, 0),\n",
              "       datetime.datetime(2023, 5, 2, 0, 0),\n",
              "       datetime.datetime(2023, 5, 4, 0, 0),\n",
              "       datetime.datetime(2023, 5, 5, 0, 0),\n",
              "       datetime.datetime(2023, 5, 12, 0, 0),\n",
              "       datetime.datetime(2023, 5, 8, 0, 0),\n",
              "       datetime.datetime(2023, 5, 19, 0, 0),\n",
              "       datetime.datetime(2023, 5, 17, 0, 0),\n",
              "       datetime.datetime(2023, 5, 9, 0, 0), 'NÃO ',\n",
              "       datetime.datetime(2023, 5, 11, 0, 0),\n",
              "       datetime.datetime(2023, 5, 15, 0, 0),\n",
              "       datetime.datetime(2023, 5, 18, 0, 0), '18//05/23',\n",
              "       datetime.datetime(2023, 5, 25, 0, 0),\n",
              "       datetime.datetime(2023, 5, 22, 0, 0),\n",
              "       datetime.datetime(2023, 5, 26, 0, 0), 'TODAS',\n",
              "       datetime.datetime(2023, 5, 30, 0, 0),\n",
              "       datetime.datetime(2023, 6, 2, 0, 0),\n",
              "       datetime.datetime(2023, 6, 1, 0, 0),\n",
              "       datetime.datetime(2023, 6, 6, 0, 0),\n",
              "       datetime.datetime(2023, 6, 19, 0, 0),\n",
              "       datetime.datetime(2023, 6, 5, 0, 0),\n",
              "       datetime.datetime(2023, 6, 13, 0, 0),\n",
              "       datetime.datetime(2023, 6, 7, 0, 0),\n",
              "       datetime.datetime(2023, 6, 15, 0, 0),\n",
              "       datetime.datetime(2023, 6, 20, 0, 0), 'SUMIU', 'CONFIRMADA'],\n",
              "      dtype=object)"
            ]
          },
          "metadata": {},
          "execution_count": 51
        }
      ]
    },
    {
      "cell_type": "code",
      "source": [
        "# alterar para tipo string\n",
        "df['COMPARECEU'] = df['COMPARECEU'].astype(str)"
      ],
      "metadata": {
        "id": "tl05vB3w-0ES"
      },
      "execution_count": 52,
      "outputs": []
    },
    {
      "cell_type": "code",
      "source": [
        "# Definir os valores que devem ser considerados como 'SIM'\n",
        "valores_sim = ['SIM', 'MATRICULADO', 'MATRICULADO ', 'CONFIRMADA', 'MATRICULADA', 'VEIO', '18//05/23']\n",
        "\n",
        "# Definir os valores que devem ser considerados como 'NÃO'\n",
        "valores_nao = ['nan','SUMIU','TODAS','NÃO ', 'ANO QUE VEM', 'NÃO VAI FICAR', 'AVULSA', 'CANCELOU', '-', 'AVULSO', 'NÃO RESPONDE', 'NÃO VEIO ', 'ENROLADA', 'SEM RETORNO', 'NÃO VEIO', 'NÃO', 'NÃO FICOU']\n",
        "\n",
        "# Converter valores de data para objetos pd.Timestamp\n",
        "df['COMPARECEU'] = pd.to_datetime(df['COMPARECEU'], errors='ignore')\n",
        "\n",
        "# Substituir os valores que conhenham 2023 por 'SIM', pois significa que marcou uma data\n",
        "df['COMPARECEU'] = np.where(df['COMPARECEU'].str.startswith('2023'), 'SIM', df['COMPARECEU'])\n",
        "\n",
        "# Substituir os valores que estão em 'valores_sim' por 'SIM'\n",
        "df['COMPARECEU'] = np.where(df['COMPARECEU'].isin(valores_sim), 'SIM', df['COMPARECEU'])\n",
        "\n",
        "# Substituir os valores que estão em 'valores_nao' por 'NÃO'\n",
        "df['COMPARECEU'] = np.where(df['COMPARECEU'].isin(valores_nao), 'NÃO', df['COMPARECEU'])"
      ],
      "metadata": {
        "id": "Cmr290Eg-5is"
      },
      "execution_count": 53,
      "outputs": []
    },
    {
      "cell_type": "code",
      "source": [
        "df['REAGENDAMENTO'].unique()"
      ],
      "metadata": {
        "colab": {
          "base_uri": "https://localhost:8080/"
        },
        "id": "DiLn0LkjEe88",
        "outputId": "398a415e-cd4c-4ec9-fcd6-ccf6ea67b882"
      },
      "execution_count": 54,
      "outputs": [
        {
          "output_type": "execute_result",
          "data": {
            "text/plain": [
              "array([nan, 'SIM', 'NÃO'], dtype=object)"
            ]
          },
          "metadata": {},
          "execution_count": 54
        }
      ]
    },
    {
      "cell_type": "code",
      "source": [
        "df['REAGENDAMENTO'].fillna('NÃO', inplace=True)"
      ],
      "metadata": {
        "id": "7gkSNbZmEagQ"
      },
      "execution_count": 55,
      "outputs": []
    },
    {
      "cell_type": "code",
      "source": [
        "df['SITUAÇÃO'].unique()"
      ],
      "metadata": {
        "colab": {
          "base_uri": "https://localhost:8080/"
        },
        "id": "uuMg-zVzE8JN",
        "outputId": "58ddaccc-2da8-4e5c-eac6-6c562bdaa264"
      },
      "execution_count": 56,
      "outputs": [
        {
          "output_type": "execute_result",
          "data": {
            "text/plain": [
              "array(['MATRICULADO', 'SEMANA SOLIDÁRIA', 'NÃO RESPONDE', 'QUER BOLSA',\n",
              "       'DCTOS BOLSA', 'OUTRA ESCOLA', 'CONFIRMADO',\n",
              "       'ESTAVA SEM DINHEIRO MARÇO', 'PORTA ABERTA', 'MATRICULADA',\n",
              "       'IRMÃ DE ALUNA', 'ENROLADA, NÃO RESPONDE', 'QUER GINASTICA', '-',\n",
              "       'NÃO QUER MAIS', 'COMPARECEU 10/02', '2º SEMESTRE', 'PARATY',\n",
              "       'SEM DINHEIRO', 'SEM RESPOSTA', 'VAI NO  SAPATEADO',\n",
              "       'NÃO VEIO 23/02', 'NÃO ATENDE', 'QUER JAZZ', 'ENTRE JAZZ E STREET',\n",
              "       'FICOU SEM CARRO EM 01/03', 'ASSINAR CONTRATO',\n",
              "       'NÃO VEIO 23/03 e 25/02', 'NAÕ VEIO 25/02', 'INFORMAÇÕES',\n",
              "       'COMPARECEU 22/02', 'AGENDADO', 'ESPERAR MAIS',\n",
              "       'COMPLICADA DE HORÁRIO', 'CHOROU NA SALA',\n",
              "       'COMPARECEU CRISE ANSIEDADE', 'ENROLADA', 'COMPARECEU 03/03',\n",
              "       'SEM ENERGIA', 'NÃO VEIO 02/03', 'AVULSO',\n",
              "       'COMPARECEU 04/03 - VAI FAZER JAZZ 18H',\n",
              "       'AMIGA MATEUS Ñ CONSEGUIU VIR', 'MORA FORA',\n",
              "       'VEIO ACOMPANHAR AMIGO', 'REMARCADO VÁRIAS VEZES - ENROLADA',\n",
              "       'CANCELOU', 'COMPARECEU 10/05 - BOLSA',\n",
              "       'COMPARECEU 04/05 - VAI FAZER JAZZ TB', 'FILHA NÃO QUER MAIS',\n",
              "       'NÃO VEIO', 'SEMANA SOLIDÁRIA ', 'HORÁRIO',\n",
              "       'NÃO VEIO 17/05 E 19/05', 'NÃO VEIO 14/05 - MÃE TENTANDO',\n",
              "       'QUER HORÁRIO NOTURNO', 'SEM RESPOSTA ',\n",
              "       'COMPARECEU 19/05 - NÃO VAI FAZER AGR', 'NÃO DEU RETORNO',\n",
              "       'NÃO VEIO 21/05 - NÃO RESPONDE',\n",
              "       'COMPARECEU 20/05 - NÃO VAI FAZER AGR',\n",
              "       'COMPARECEU 25/05 - GOSTA DE BALLET', 'NÃO PODE 2/4 ',\n",
              "       'CONFIRMADO AULA AVULSA', 'OFERECI AULA - retorna quando der',\n",
              "       'COMPARECEU 27/05 - VAI FAZER STREET', 'SÓ PODE PERÍODO MANHÃ',\n",
              "       'DESMARCOU 28/05 - COVID', 'VAI RETORNAR QUANDO DER',\n",
              "       'OFERECI AULA - NÃO RESPONDE', 'TALVEZ ANO QUE VEM',\n",
              "       'TELEFONE ERRADO', 'NÃO VAI FAZER',\n",
              "       'COMPARECEU 14/06 - NÃO VAI FAZER', 'DESMARCOU 18/06 - covid',\n",
              "       'MATRICULADO ', 'MODALIDADES - OFERECER EXPERIMENTAL',\n",
              "       'COMPARECEU 17/06-NÃO CONSEGUIU UBER', 'MATRICULADO - CONTRATO',\n",
              "       'ESCOLHER MODALIDADE - NÃO RESPONDE', 'NÃO VEIO - NÃO RESPONDE',\n",
              "       'DESMARCOU', 'VEIO 23/06 - NÃO VAI FICAR',\n",
              "       'VEIO 01/07 - NÃO RESPONDE',\n",
              "       'VEIO 06/07 - vai escolher modalidade',\n",
              "       'VEIO 07/07 - PROVAVEL AULA AVULSA',\n",
              "       'VEIO 19/07 - vai pensar e retorna', 'AGUARDANDO RETORNO (TAP)',\n",
              "       'VEIO 02/08 - FAZ CURSO HR NÃO BATE', 'VEIO 12/08 - AVULSA ',\n",
              "       'VEIO 05/08 - MATRICULA SEMANA Q VEM', 'SEM TEL P/ CONTATO',\n",
              "       'CONTATO ANO PASSADO (SEM RESPOSTA)', 'VEIO 11/08 - HORÁRIOS ',\n",
              "       'VEIO 11/08 - MATRICULA SEMANA Q VEM', 'VALORES',\n",
              "       'VEIO 17/08 - MANDAR MSG DIA 20', 'NÃO VEIO ', 'VEIO 27/08',\n",
              "       'NÃO FICOU', 'VEIO 01/09 - vai dar retorno ate sem q vem',\n",
              "       'VEIO 08/09 - NÃO RESPONDE', 'FEZ AULA - NÃO FICOU',\n",
              "       'VEIO 18/10 - AVULSA', 'TALVEZ NOVEMBRO',\n",
              "       'VEIO 09/11 - MATRICULA P/ ANO QUE VEM',\n",
              "       'VEIO 03/11 - PROVAVEL AVULSA', 'VEIO 04/11 ',\n",
              "       'VAI VERIFICAR HORARIOS E RETORNA',\n",
              "       'VEIO 16/11 - MATRICULA P/ ANO QUE VEM', 'VEIO 14/12',\n",
              "       'VEIO 13/12 - HORÁRIO DA ESCOLA', 'BOLSA', 'RETORNAR FUTURAMENTE',\n",
              "       'VALE AULA', 'RETORNAR FUTURAMENTE FEZ AULA 4/4',\n",
              "       'RETORNAR FUTURAMENTE FEZ AULA 16/3',\n",
              "       'NÃO VEIO, VAI MARCAR EM BREVE', 'DIZ QUE VAI FECHAR EM MAIO',\n",
              "       'JÁ PASSEI VALORES, disse que ia fechar!',\n",
              "       'JÁ PASSEI VALORES, disse que ia pensar.', 'JÁ PASSEI VALORES',\n",
              "       'JÁ PASSEI VALORES.', 'JÁ PASSEI OS VALORES.', 'FORA DO ORÇAMENTO',\n",
              "       'ENTRAR EM CONTATO FUTURAMENTE ',\n",
              "       'NÃO VEIO, RETORNAR FUTURAMENTE.', 'MATRICULADA ',\n",
              "       'NÃO TEMOS ESSA MODALIDADE.',\n",
              "       'PASSEI VALORES E NÃO RESPONDEU MAIS. ',\n",
              "       '2 ANOS DE IDADE, MUITO PEQUENA PRA AULA.',\n",
              "       'VAI FAZER MAIS AULAS EXPERIMENTAIS', 'NÃO RESPONDEU MAIS',\n",
              "       'HORÁRIO PARA FILHA E MÃE JUNTAS', 'NÃO VEIO, E NÃO QUIS REMARCAR',\n",
              "       'NÃO', 'POLI DANCE', 'NÃO VEIO.', 'HORÁRIO ',\n",
              "       'DISSE QUE VAI FECHAR EM JUNHO ', 'NÃO VAI FICAR', 'IDADE',\n",
              "       'VAI VIAJAR ', 'QUER PAGAR POR AULA',\n",
              "       'ADOROU, VAI FECHAR EM AGOSTO! ', 'AULAS PARA GRÁVIDA',\n",
              "       'NÃO VEIO PELA SEGUNDA VEZ.', 'NÃO VEIO E NÃO TEM WHATSAPP', nan,\n",
              "       'CANCELOU E REMARCOU', 'RETORNAR FUTURAMENTE ',\n",
              "       'NÃO                                                                                                                                                                                                                                                                                                                                                                                                                                                                                                                                                                                                                                                                                                                                                                                                                                                                                                                                                                                                                                                                                                                                                                                                                                                                                                                                                                                                                                                                                                                                                                                                                                                                                                                                                                                                                                                                                                                                                                                                                                                                                                                                                                                                                                                                                                                                                                                                                                                                                                                                                                                                                                                                                                                                                                                                                                                                                                                                                                                                                                                                                                                                                                                                                                                                                                                                                                                                                                                                                                                                                                                                                                                                                                                                                                                                                                                                                                                                                                                                                                                                                                                                                                                                                                                                                                                                                                                                                                                                                                                                                                                                                                                                                                                                                                                                                                                                                                                                                                                                                                                                                                                                                                                                                                                                                                                                                                                                                                                                                                                                                                                                                                                                                                                                                                                                                                                                                                                                                                                                                                                                                                                                                                                                                                                                                                                                                                                                                                                                                                                                                                                                                                                                                                                                                                                                                                                                                                                                                                                                                                                                                                                                                                                                                                                                                                                                                                                                                                                                                                                                                                                                                                                                                                                                                                                                                                                                                                                                                                                                                                                                                                                                                                                                                                                                                                                                                                                                                                                                                                                                                                                                                                                                                                                                                                                                                                                                              ',\n",
              "       'NÃO ', 'VAI VER COM A FILHA DE FECHAR AS DUAS.',\n",
              "       'VAI VER COM A ESPOSA.', 'QUERIA AULA SAB/DOMINGO',\n",
              "       'BEBÊ DE UM ANO DE IDADE.', 'VAI MARCAR', 'TANGO, DANÇA DE SALÃO',\n",
              "       'VAI SE ORGANIZAR PRA TRAZER A FILHA.', 'NÃO VAI FAZER NO MOMENTO',\n",
              "       'PROXIMO SEMESTRE', 'NÃO COMPARECEU', 'NÃO TIVE MAIS RETORNO',\n",
              "       'NÃO RETORNOU ', 'AGENDOU OUTRA AULA EXPERIMENTAL',\n",
              "       'MATRICULADA EM OUTRA TURMA',\n",
              "       'VAI REAGENDAR NOVAMENTE, FOI PARA RJ',\n",
              "       'NÃO VAI FAZER DEVIDO ESTUDOS', 'PROVAVELMENTE EM SETEMBRO',\n",
              "       'NÃO QUIS REAGENDAR', 'NÃO COMPARECEU / NÃO ATENDEU',\n",
              "       'NÃO CONSEGUI RETORNO, NÃO RESPONDE', 'MATRICULADA PLANO TRIBOS',\n",
              "       'VAI FAZER OUTRA AULA P/ INICIANTES',\n",
              "       'NÃO VAI TROCAR DE MODALIDADE', 'MATRICULADA BABY TAP',\n",
              "       'NÃO VAI DAR CONTINUIDADE', 'REAGENDADO', 'VAI REAGENDAR',\n",
              "       'FICARA ATÉ OUTUBRO', 'ESTA SAINDO DO EMPREGO.', 'VAI ANALISAR',\n",
              "       'NÃO VAI PERMANECER POIS NÃO ACOMPANHA', 'NUNCA CONSEGUI VIR',\n",
              "       'NÃO APARECEU', 'SOMENTE PROXIMO ANO', 'DESISTIU',\n",
              "       'NÃO VEM, MOTIVOS PESSOAIS', 'NÃO VEM', 'NÃO FARA DEVIDO HORARIO',\n",
              "       'SUMIU', 'NÃO CABE NO ORÇAMENTO. ',\n",
              "       'VAI REAGENDAR NOVAMENTE, MAIS PARA FRENTE',\n",
              "       'VAI REALIZAR OUTRA AULA D.U', 'VAI REAGENDAR QUANDO CONSEGUIR.',\n",
              "       'NÃO VEIO NOVAMENTE', 'VOLTA EM 2024',\n",
              "       'AGUARDANDO 2024 (VESTIBULAR)', 'MATRICULADA TRIBOS',\n",
              "       'NÃO VAI PERMANECER', 'NÃO VAI FECHAR', 'MATRICULADA K POP',\n",
              "       'FECHOU OUTRAS MODALIDADES', 'VAI REAGENDAR PARA FEVEREIRO',\n",
              "       'JÁ É ALUNA CBS', 'MATRICULADA BOLSA', 'BOLSISTA',\n",
              "       'NÃO VEM DEVIDO TRABALHO', 'MAS NÃO PARTICIPOU',\n",
              "       'NÃO VAI FAZER, DEVIDO AOS VALORES', 'NÃO VAI MATRCIULAR',\n",
              "       'VAI VERIFICAR', 'VAI PENSAR, TALVEZ RETORNE EM MARÇO',\n",
              "       'IMPREVISTO', 'PLANO TRIBOS', 'MARÇO',\n",
              "       'NÃO VAI FAZER DEVIDO ESCOLA', 'TRIBOS',\n",
              "       'VAI REALIZAR EXP. DANÇAS URBANAS', 'NÃO VEM ',\n",
              "       'GOSTOU, VAI ANALISAR', 'NÃO RETORNOU MSG',\n",
              "       'VAI ANALISAR COM A MÃE', 'NÃO CONSEGUE VIR DURANTE SEMANA.',\n",
              "       'Aluna da Apus'], dtype=object)"
            ]
          },
          "metadata": {},
          "execution_count": 56
        }
      ]
    },
    {
      "cell_type": "code",
      "source": [
        "# Condições para 'MATRICULADO'\n",
        "contratado_conditions = df['SITUAÇÃO'].str.contains('CONTRAT|MATRICULA|CONFIRMADO|QUER GINASTICA|VAI NO  SAPATEADO|QUER JAZZ|ENTRE JAZZ E STREET|COMPARECEU 04/03 - VAI FAZER JAZZ 18H|COMPARECEU 04/05 - VAI FAZER JAZZ TB|QUER HORÁRIO NOTURNO|COMPARECEU 27/05 - VAI FAZER STREET|JÁ PASSEI VALORES, disse que ia fechar!*|JÁ PASSEI VALORES, disse que ia pensar.*|HORÁRIO PARA FILHA E MÃE JUNTAS|ADOROU, VAI FECHAR EM AGOSTO |FECHOU OUTRAS MODALIDADES|POLI DANCE|TANGO, DANÇA DE SALÃO|JÁ É ALUNA CBS|PLANO TRIBOS|TRIBOS', case=False) | df['OBSERVAÇÕES'].str.contains('CONTRAT|MATRICULA|CONFIRMADO|QUER GINASTICA|VAI NO  SAPATEADO|QUER JAZZ|ENTRE JAZZ E STREET|COMPARECEU 04/03 - VAI FAZER JAZZ 18H|COMPARECEU 04/05 - VAI FAZER JAZZ TB|QUER HORÁRIO NOTURNO|COMPARECEU 27/05 - VAI FAZER STREET|JÁ PASSEI VALORES, disse que ia fechar!*|JÁ PASSEI VALORES, disse que ia pensar.*|HORÁRIO PARA FILHA E MÃE JUNTAS|ADOROU, VAI FECHAR EM AGOSTO |FECHOU OUTRAS MODALIDADES|POLI DANCE|TANGO, DANÇA DE SALÃO|JÁ É ALUNA CBS|PLANO TRIBOS|TRIBOS', case=False)\n",
        "\n",
        "# Condições para 'DESISTIU'\n",
        "desistiu_conditions = df['SITUAÇÃO'].str.contains('|'.join(['NÃO', 'MATRICULADO', 'SEMANA SOLIDÁRIA', 'QUER BOLSA', 'DCTOS BOLSA', 'OUTRA ESCOLA', 'ESTAVA SEM DINHEIRO MARÇO', 'PORTA ABERTA', 'IRMÃ DE ALUNA', '-', 'PARATY', 'SEM DINHEIRO', 'SEM RESPOSTA', 'FICOU SEM CARRO EM 01/03', 'COMPARECEU 22/02', 'AGENDADO', 'ESPERAR MAIS', 'COMPLICADA DE HORÁRIO', 'CHOROU NA SALA', 'COMPARECEU CRISE ANSIEDADE', 'ENROLADA', 'SEM ENERGIA', 'AVULSO', 'AMIGA MATEUS Ñ CONSEGUIU VIR', 'MORA FORA', 'REMARCOU VÁRIAS VEZES - ENROLADA', 'CANCELOU', 'SEMANA SOLIDÁRIA ', 'HORÁRIO', 'SEM RESPOSTA ', 'SÓ PODE PERÍODO MANHÃ', 'DESMARCOU 28/05 - COVID', 'TELEFONE ERRADO', 'DESMARCOU 18/06 - covid', 'MODALIDADES - OFERECER EXPERIMENTAL', 'DESMARCOU', 'SEM TEL P/ CONTATO', 'CONTATO ANO PASSADO (SEM RESPOSTA)', 'VALORES', 'BOLSA', 'HORÁRIO ', 'BOLSISTA']), case=False) | df['OBSERVAÇÕES'].str.contains('|'.join(['NÃO', 'MATRICULADO', 'SEMANA SOLIDÁRIA', 'QUER BOLSA', 'DCTOS BOLSA', 'OUTRA ESCOLA', 'ESTAVA SEM DINHEIRO MARÇO', 'PORTA ABERTA', 'IRMÃ DE ALUNA', '-', 'PARATY', 'SEM DINHEIRO', 'SEM RESPOSTA', 'FICOU SEM CARRO EM 01/03', 'COMPARECEU 22/02', 'AGENDADO', 'ESPERAR MAIS', 'COMPLICADA DE HORÁRIO', 'CHOROU NA SALA', 'COMPARECEU CRISE ANSIEDADE', 'ENROLADA', 'SEM ENERGIA', 'AVULSO', 'AMIGA MATEUS Ñ CONSEGUIU VIR', 'MORA FORA', 'REMARCOU VÁRIAS VEZES - ENROLADA', 'CANCELOU', 'SEMANA SOLIDÁRIA ', 'HORÁRIO', 'SEM RESPOSTA ', 'SÓ PODE PERÍODO MANHÃ', 'DESMARCOU 28/05 - COVID', 'TELEFONE ERRADO', 'DESMARCOU 18/06 - covid', 'MODALIDADES - OFERECER EXPERIMENTAL', 'DESMARCOU', 'SEM TEL P/ CONTATO', 'CONTATO ANO PASSADO (SEM RESPOSTA)', 'VALORES', 'BOLSA', 'HORÁRIO ', 'BOLSISTA']), case=False)\n",
        "\n",
        "# Condições para 'EM ABERTO'\n",
        "em_aberto_conditions = df['SITUAÇÃO'].str.contains('|'.join(['VEIO', 'COMPARECEU 10/02', '2º SEMESTRE', 'INFORMAÇÕES', 'COMPARECEU 03/03', 'COMPARECEU 10/05 - BOLSA', 'COMPARECEU 25/05 - GOSTA DE BALLET', 'OFERECI AULA - retorna quando der', 'VAI RETORNAR QUANDO DER', 'TALVEZ ANO QUE VEM', 'AGUARDANDO RETORNO (TAP)', 'TALVEZ NOVEMBRO', 'VAI VERIFICAR HORARIOS E RETORNA', 'RETORNAR FUTURAMENTE', 'VALE AULA', 'RETORNAR FUTURAMENTE FEZ AULA 4/4', 'RETORNAR FUTURAMENTE FEZ AULA 16/3', 'DIZ QUE VAI FECHAR EM MAIO', 'JÁ PASSEI VALORES', 'JÁ PASSEI VALORES.', 'JÁ PASSEI OS VALORES.', 'FORA DO ORÇAMENTO', 'ENTRAR EM CONTATO FUTURAMENTE ', '2 ANOS DE IDADE, MUITO PEQUENA PRA AULA.', 'VAI FAZER MAIS AULAS EXPERIMENTAIS', 'DISSE QUE VAI FECHAR EM JUNHO ', 'IDADE', 'VAI VIAJAR ', 'QUER PAGAR POR AULA', 'AULAS PARA GRÁVIDA', 'CANCELOU E REMARCOU', 'RETORNAR FUTURAMENTE ', 'VAI VER COM A FILHA DE FECHAR AS DUAS.', 'VAI VER COM A ESPOSA.', 'QUERIA AULA SAB/DOMINGO', 'BEBÊ DE UM ANO DE IDADE.', 'VAI MARCAR', 'VAI SE ORGANIZAR PRA TRAZER A FILHA.', 'PROXIMO SEMESTRE', 'AGENDOU OUTRA AULA EXPERIMENTAL', 'VAI REAGENDAR NOVAMENTE, FOI PARA RJ', 'PROVAVELMENTE EM SETEMBRO', 'VAI FAZER OUTRA AULA P/ INICIANTES', 'REAGENDADO', 'VAI REAGENDAR', 'FICARA ATÉ OUTUBRO', 'ESTA SAINDO DO EMPREGO.', 'VAI ANALISAR', 'NUNCA CONSEGUI VIR', 'SOMENTE PROXIMO ANO', 'SUMIU', 'VAI REAGENDAR NOVAMENTE, MAIS PARA FRENTE', 'VAI REALIZAR OUTRA AULA D.U', 'VAI REAGENDAR QUANDO CONSEGUIR.', 'VOLTA EM 2024', 'AGUARDANDO 2024 (VESTIBULAR)', 'VAI REAGENDAR PARA FEVEREIRO', 'VAI VERIFICAR', 'VAI PENSAR, TALVEZ RETORNE EM MARÇO', 'IMPREVISTO', 'VAI REALIZAR EXP. DANÇAS URBANAS', 'GOSTOU, VAI ANALISAR', 'VAI ANALISAR COM A MÃE', 'Aluna da Apus', 'MARÇO']), case=False) | df['OBSERVAÇÕES'].str.contains('|'.join(['VEIO', 'COMPARECEU 10/02', '2º SEMESTRE', 'INFORMAÇÕES', 'COMPARECEU 03/03', 'COMPARECEU 10/05 - BOLSA', 'COMPARECEU 25/05 - GOSTA DE BALLET', 'OFERECI AULA - retorna quando der', 'VAI RETORNAR QUANDO DER', 'TALVEZ ANO QUE VEM', 'AGUARDANDO RETORNO (TAP)', 'TALVEZ NOVEMBRO', 'VAI VERIFICAR HORARIOS E RETORNA', 'RETORNAR FUTURAMENTE', 'VALE AULA', 'RETORNAR FUTURAMENTE FEZ AULA 4/4', 'RETORNAR FUTURAMENTE FEZ AULA 16/3', 'DIZ QUE VAI FECHAR EM MAIO', 'JÁ PASSEI VALORES', 'JÁ PASSEI VALORES.', 'JÁ PASSEI OS VALORES.', 'FORA DO ORÇAMENTO', 'ENTRAR EM CONTATO FUTURAMENTE ', '2 ANOS DE IDADE, MUITO PEQUENA PRA AULA.', 'VAI FAZER MAIS AULAS EXPERIMENTAIS', 'DISSE QUE VAI FECHAR EM JUNHO ', 'IDADE', 'VAI VIAJAR ', 'QUER PAGAR POR AULA', 'AULAS PARA GRÁVIDA', 'CANCELOU E REMARCOU', 'RETORNAR FUTURAMENTE ', 'VAI VER COM A FILHA DE FECHAR AS DUAS.', 'VAI VER COM A ESPOSA.', 'QUERIA AULA SAB/DOMINGO', 'BEBÊ DE UM ANO DE IDADE.', 'VAI MARCAR', 'VAI SE ORGANIZAR PRA TRAZER A FILHA.', 'PROXIMO SEMESTRE', 'AGENDOU OUTRA AULA EXPERIMENTAL', 'VAI REAGENDAR NOVAMENTE, FOI PARA RJ', 'PROVAVELMENTE EM SETEMBRO', 'VAI FAZER OUTRA AULA P/ INICIANTES', 'REAGENDADO', 'VAI REAGENDAR', 'FICARA ATÉ OUTUBRO', 'ESTA SAINDO DO EMPREGO.', 'VAI ANALISAR', 'NUNCA CONSEGUI VIR', 'SOMENTE PROXIMO ANO', 'SUMIU', 'VAI REAGENDAR NOVAMENTE, MAIS PARA FRENTE', 'VAI REALIZAR OUTRA AULA D.U', 'VAI REAGENDAR QUANDO CONSEGUIR.', 'VOLTA EM 2024', 'AGUARDANDO 2024 (VESTIBULAR)', 'VAI REAGENDAR PARA FEVEREIRO', 'VAI VERIFICAR', 'VAI PENSAR, TALVEZ RETORNE EM MARÇO', 'IMPREVISTO', 'VAI REALIZAR EXP. DANÇAS URBANAS', 'GOSTOU, VAI ANALISAR', 'VAI ANALISAR COM A MÃE', 'Aluna da Apus', 'MARÇO']), case=False)\n",
        "\n",
        "# Criar a coluna com a resposta\n",
        "df['SITUAÇÃO'] = np.select([contratado_conditions, desistiu_conditions, em_aberto_conditions], ['MATRICULADO', 'DESISTIU', 'EM ABERTO'], default='DESISTIU')"
      ],
      "metadata": {
        "id": "79TdBRWCGNfN",
        "colab": {
          "base_uri": "https://localhost:8080/"
        },
        "outputId": "8c8c4541-6521-4a53-bfa1-d77a66882a3a"
      },
      "execution_count": 57,
      "outputs": [
        {
          "output_type": "stream",
          "name": "stderr",
          "text": [
            "<ipython-input-57-ae10646bef26>:5: UserWarning: This pattern is interpreted as a regular expression, and has match groups. To actually get the groups, use str.extract.\n",
            "  desistiu_conditions = df['SITUAÇÃO'].str.contains('|'.join(['NÃO', 'MATRICULADO', 'SEMANA SOLIDÁRIA', 'QUER BOLSA', 'DCTOS BOLSA', 'OUTRA ESCOLA', 'ESTAVA SEM DINHEIRO MARÇO', 'PORTA ABERTA', 'IRMÃ DE ALUNA', '-', 'PARATY', 'SEM DINHEIRO', 'SEM RESPOSTA', 'FICOU SEM CARRO EM 01/03', 'COMPARECEU 22/02', 'AGENDADO', 'ESPERAR MAIS', 'COMPLICADA DE HORÁRIO', 'CHOROU NA SALA', 'COMPARECEU CRISE ANSIEDADE', 'ENROLADA', 'SEM ENERGIA', 'AVULSO', 'AMIGA MATEUS Ñ CONSEGUIU VIR', 'MORA FORA', 'REMARCOU VÁRIAS VEZES - ENROLADA', 'CANCELOU', 'SEMANA SOLIDÁRIA ', 'HORÁRIO', 'SEM RESPOSTA ', 'SÓ PODE PERÍODO MANHÃ', 'DESMARCOU 28/05 - COVID', 'TELEFONE ERRADO', 'DESMARCOU 18/06 - covid', 'MODALIDADES - OFERECER EXPERIMENTAL', 'DESMARCOU', 'SEM TEL P/ CONTATO', 'CONTATO ANO PASSADO (SEM RESPOSTA)', 'VALORES', 'BOLSA', 'HORÁRIO ', 'BOLSISTA']), case=False) | df['OBSERVAÇÕES'].str.contains('|'.join(['NÃO', 'MATRICULADO', 'SEMANA SOLIDÁRIA', 'QUER BOLSA', 'DCTOS BOLSA', 'OUTRA ESCOLA', 'ESTAVA SEM DINHEIRO MARÇO', 'PORTA ABERTA', 'IRMÃ DE ALUNA', '-', 'PARATY', 'SEM DINHEIRO', 'SEM RESPOSTA', 'FICOU SEM CARRO EM 01/03', 'COMPARECEU 22/02', 'AGENDADO', 'ESPERAR MAIS', 'COMPLICADA DE HORÁRIO', 'CHOROU NA SALA', 'COMPARECEU CRISE ANSIEDADE', 'ENROLADA', 'SEM ENERGIA', 'AVULSO', 'AMIGA MATEUS Ñ CONSEGUIU VIR', 'MORA FORA', 'REMARCOU VÁRIAS VEZES - ENROLADA', 'CANCELOU', 'SEMANA SOLIDÁRIA ', 'HORÁRIO', 'SEM RESPOSTA ', 'SÓ PODE PERÍODO MANHÃ', 'DESMARCOU 28/05 - COVID', 'TELEFONE ERRADO', 'DESMARCOU 18/06 - covid', 'MODALIDADES - OFERECER EXPERIMENTAL', 'DESMARCOU', 'SEM TEL P/ CONTATO', 'CONTATO ANO PASSADO (SEM RESPOSTA)', 'VALORES', 'BOLSA', 'HORÁRIO ', 'BOLSISTA']), case=False)\n",
            "<ipython-input-57-ae10646bef26>:8: UserWarning: This pattern is interpreted as a regular expression, and has match groups. To actually get the groups, use str.extract.\n",
            "  em_aberto_conditions = df['SITUAÇÃO'].str.contains('|'.join(['VEIO', 'COMPARECEU 10/02', '2º SEMESTRE', 'INFORMAÇÕES', 'COMPARECEU 03/03', 'COMPARECEU 10/05 - BOLSA', 'COMPARECEU 25/05 - GOSTA DE BALLET', 'OFERECI AULA - retorna quando der', 'VAI RETORNAR QUANDO DER', 'TALVEZ ANO QUE VEM', 'AGUARDANDO RETORNO (TAP)', 'TALVEZ NOVEMBRO', 'VAI VERIFICAR HORARIOS E RETORNA', 'RETORNAR FUTURAMENTE', 'VALE AULA', 'RETORNAR FUTURAMENTE FEZ AULA 4/4', 'RETORNAR FUTURAMENTE FEZ AULA 16/3', 'DIZ QUE VAI FECHAR EM MAIO', 'JÁ PASSEI VALORES', 'JÁ PASSEI VALORES.', 'JÁ PASSEI OS VALORES.', 'FORA DO ORÇAMENTO', 'ENTRAR EM CONTATO FUTURAMENTE ', '2 ANOS DE IDADE, MUITO PEQUENA PRA AULA.', 'VAI FAZER MAIS AULAS EXPERIMENTAIS', 'DISSE QUE VAI FECHAR EM JUNHO ', 'IDADE', 'VAI VIAJAR ', 'QUER PAGAR POR AULA', 'AULAS PARA GRÁVIDA', 'CANCELOU E REMARCOU', 'RETORNAR FUTURAMENTE ', 'VAI VER COM A FILHA DE FECHAR AS DUAS.', 'VAI VER COM A ESPOSA.', 'QUERIA AULA SAB/DOMINGO', 'BEBÊ DE UM ANO DE IDADE.', 'VAI MARCAR', 'VAI SE ORGANIZAR PRA TRAZER A FILHA.', 'PROXIMO SEMESTRE', 'AGENDOU OUTRA AULA EXPERIMENTAL', 'VAI REAGENDAR NOVAMENTE, FOI PARA RJ', 'PROVAVELMENTE EM SETEMBRO', 'VAI FAZER OUTRA AULA P/ INICIANTES', 'REAGENDADO', 'VAI REAGENDAR', 'FICARA ATÉ OUTUBRO', 'ESTA SAINDO DO EMPREGO.', 'VAI ANALISAR', 'NUNCA CONSEGUI VIR', 'SOMENTE PROXIMO ANO', 'SUMIU', 'VAI REAGENDAR NOVAMENTE, MAIS PARA FRENTE', 'VAI REALIZAR OUTRA AULA D.U', 'VAI REAGENDAR QUANDO CONSEGUIR.', 'VOLTA EM 2024', 'AGUARDANDO 2024 (VESTIBULAR)', 'VAI REAGENDAR PARA FEVEREIRO', 'VAI VERIFICAR', 'VAI PENSAR, TALVEZ RETORNE EM MARÇO', 'IMPREVISTO', 'VAI REALIZAR EXP. DANÇAS URBANAS', 'GOSTOU, VAI ANALISAR', 'VAI ANALISAR COM A MÃE', 'Aluna da Apus', 'MARÇO']), case=False) | df['OBSERVAÇÕES'].str.contains('|'.join(['VEIO', 'COMPARECEU 10/02', '2º SEMESTRE', 'INFORMAÇÕES', 'COMPARECEU 03/03', 'COMPARECEU 10/05 - BOLSA', 'COMPARECEU 25/05 - GOSTA DE BALLET', 'OFERECI AULA - retorna quando der', 'VAI RETORNAR QUANDO DER', 'TALVEZ ANO QUE VEM', 'AGUARDANDO RETORNO (TAP)', 'TALVEZ NOVEMBRO', 'VAI VERIFICAR HORARIOS E RETORNA', 'RETORNAR FUTURAMENTE', 'VALE AULA', 'RETORNAR FUTURAMENTE FEZ AULA 4/4', 'RETORNAR FUTURAMENTE FEZ AULA 16/3', 'DIZ QUE VAI FECHAR EM MAIO', 'JÁ PASSEI VALORES', 'JÁ PASSEI VALORES.', 'JÁ PASSEI OS VALORES.', 'FORA DO ORÇAMENTO', 'ENTRAR EM CONTATO FUTURAMENTE ', '2 ANOS DE IDADE, MUITO PEQUENA PRA AULA.', 'VAI FAZER MAIS AULAS EXPERIMENTAIS', 'DISSE QUE VAI FECHAR EM JUNHO ', 'IDADE', 'VAI VIAJAR ', 'QUER PAGAR POR AULA', 'AULAS PARA GRÁVIDA', 'CANCELOU E REMARCOU', 'RETORNAR FUTURAMENTE ', 'VAI VER COM A FILHA DE FECHAR AS DUAS.', 'VAI VER COM A ESPOSA.', 'QUERIA AULA SAB/DOMINGO', 'BEBÊ DE UM ANO DE IDADE.', 'VAI MARCAR', 'VAI SE ORGANIZAR PRA TRAZER A FILHA.', 'PROXIMO SEMESTRE', 'AGENDOU OUTRA AULA EXPERIMENTAL', 'VAI REAGENDAR NOVAMENTE, FOI PARA RJ', 'PROVAVELMENTE EM SETEMBRO', 'VAI FAZER OUTRA AULA P/ INICIANTES', 'REAGENDADO', 'VAI REAGENDAR', 'FICARA ATÉ OUTUBRO', 'ESTA SAINDO DO EMPREGO.', 'VAI ANALISAR', 'NUNCA CONSEGUI VIR', 'SOMENTE PROXIMO ANO', 'SUMIU', 'VAI REAGENDAR NOVAMENTE, MAIS PARA FRENTE', 'VAI REALIZAR OUTRA AULA D.U', 'VAI REAGENDAR QUANDO CONSEGUIR.', 'VOLTA EM 2024', 'AGUARDANDO 2024 (VESTIBULAR)', 'VAI REAGENDAR PARA FEVEREIRO', 'VAI VERIFICAR', 'VAI PENSAR, TALVEZ RETORNE EM MARÇO', 'IMPREVISTO', 'VAI REALIZAR EXP. DANÇAS URBANAS', 'GOSTOU, VAI ANALISAR', 'VAI ANALISAR COM A MÃE', 'Aluna da Apus', 'MARÇO']), case=False)\n"
          ]
        }
      ]
    },
    {
      "cell_type": "code",
      "source": [
        "print(df.isnull().sum())"
      ],
      "metadata": {
        "colab": {
          "base_uri": "https://localhost:8080/"
        },
        "id": "usSFwIb4Q5tR",
        "outputId": "3c9f8d84-ce48-4670-90e1-a2423ff167f9"
      },
      "execution_count": 58,
      "outputs": [
        {
          "output_type": "stream",
          "name": "stdout",
          "text": [
            "DATA 1º CONTATO       0\n",
            "TRIMESTRE             0\n",
            "NOME COMPLETO         0\n",
            "IDADE                 0\n",
            "FAIXA ETARIA          0\n",
            "TELEFONE              0\n",
            "STATUS                0\n",
            "VIA                   0\n",
            "ESTILOS               0\n",
            "DATA AGENDAMENTO      0\n",
            "TURNO                 0\n",
            "PROFESSOR             0\n",
            "COMPARECEU            0\n",
            "REAGENDAMENTO         0\n",
            "SITUAÇÃO              0\n",
            "OBSERVAÇÕES         828\n",
            "dtype: int64\n"
          ]
        }
      ]
    },
    {
      "cell_type": "code",
      "source": [
        "df['OBSERVAÇÕES'].fillna('Sem observações', inplace=True)"
      ],
      "metadata": {
        "id": "d2SKPm5tWHyz"
      },
      "execution_count": 59,
      "outputs": []
    },
    {
      "cell_type": "code",
      "source": [
        "df = df[['DATA 1º CONTATO','TRIMESTRE', 'NOME COMPLETO', 'IDADE', 'FAIXA ETARIA', 'VIA', 'ESTILOS', 'DATA AGENDAMENTO', 'TURNO', 'PROFESSOR', 'COMPARECEU', 'SITUAÇÃO']]"
      ],
      "metadata": {
        "id": "jXd8uqFiSczN"
      },
      "execution_count": 60,
      "outputs": []
    },
    {
      "cell_type": "code",
      "source": [
        "df.info()"
      ],
      "metadata": {
        "id": "o2bmaE09c22r",
        "outputId": "d3082438-631e-41d6-c755-7ca74848a12c",
        "colab": {
          "base_uri": "https://localhost:8080/"
        }
      },
      "execution_count": 61,
      "outputs": [
        {
          "output_type": "stream",
          "name": "stdout",
          "text": [
            "<class 'pandas.core.frame.DataFrame'>\n",
            "Int64Index: 1666 entries, 0 to 1673\n",
            "Data columns (total 12 columns):\n",
            " #   Column            Non-Null Count  Dtype         \n",
            "---  ------            --------------  -----         \n",
            " 0   DATA 1º CONTATO   1666 non-null   datetime64[ns]\n",
            " 1   TRIMESTRE         1666 non-null   int64         \n",
            " 2   NOME COMPLETO     1666 non-null   object        \n",
            " 3   IDADE             1666 non-null   int64         \n",
            " 4   FAIXA ETARIA      1666 non-null   object        \n",
            " 5   VIA               1666 non-null   object        \n",
            " 6   ESTILOS           1666 non-null   object        \n",
            " 7   DATA AGENDAMENTO  1666 non-null   object        \n",
            " 8   TURNO             1666 non-null   object        \n",
            " 9   PROFESSOR         1666 non-null   object        \n",
            " 10  COMPARECEU        1666 non-null   object        \n",
            " 11  SITUAÇÃO          1666 non-null   object        \n",
            "dtypes: datetime64[ns](1), int64(2), object(9)\n",
            "memory usage: 233.7+ KB\n"
          ]
        }
      ]
    },
    {
      "cell_type": "markdown",
      "source": [
        "<h1><font size=\"5\" color=\"#FF69B4\">Analisando proporções e correlações!</font></h1>\n",
        "\n",
        "<p><font size=\"4\">A partir daqui, iremos visualizar a correlação entre as variáveis relevantes para o modelo ML.</font></p>"
      ],
      "metadata": {
        "id": "mxj8u94iPc_1"
      }
    },
    {
      "cell_type": "code",
      "source": [
        "style_counts = df['ESTILOS'].value_counts()\n",
        "\n",
        "# Plotar o gráfico de barras qtd. alundos x estilos\n",
        "plt.figure(figsize=(10, 6))\n",
        "style_counts.plot(kind='bar')\n",
        "plt.title('Quantidade de Alunos por Estilo')\n",
        "plt.xlabel('Estilo')\n",
        "plt.ylabel('Quantidade de Alunos')\n",
        "plt.show()"
      ],
      "metadata": {
        "colab": {
          "base_uri": "https://localhost:8080/",
          "height": 736
        },
        "id": "_yiqsJM6E4M4",
        "outputId": "dae03f25-a083-45f8-f3be-cc66fbbb8f45"
      },
      "execution_count": 62,
      "outputs": [
        {
          "output_type": "display_data",
          "data": {
            "text/plain": [
              "<Figure size 1000x600 with 1 Axes>"
            ],
            "image/png": "[encoded data removed]"
          },
          "metadata": {}
        }
      ]
    },
    {
      "cell_type": "code",
      "source": [
        "# Criar uma tabela de contingência entre as variáveis\n",
        "contingency_table = pd.crosstab(df['FAIXA ETARIA'], df['ESTILOS'])"
      ],
      "metadata": {
        "id": "P4-ttHTi4be2"
      },
      "execution_count": 63,
      "outputs": []
    },
    {
      "cell_type": "code",
      "source": [
        "# Calcular o valor de Cramer's V (Medida de correlação entre FAIXA ETARIA e ESTILOS, onde 0 é nenhuma correlação e 1 é correlação perfeita)\n",
        "chi2, p, dof, expected = chi2_contingency(contingency_table)\n",
        "cramer_v = math.sqrt(chi2 / (df.shape[0] * df.shape[1] * (dof - 1)))"
      ],
      "metadata": {
        "id": "7eGbUgte5Ez-"
      },
      "execution_count": 64,
      "outputs": []
    },
    {
      "cell_type": "code",
      "source": [
        "# Plotar a matriz de correlação\n",
        "plt.figure(figsize=(10, 8))\n",
        "sns.heatmap(contingency_table, annot=True, cmap='coolwarm', square=True, fmt='.2f')\n",
        "plt.title('Correlação entre FAIXA ETARIA e ESTILOS')\n",
        "plt.tight_layout()\n",
        "plt.show()\n",
        "\n",
        "plt.figure(figsize=(2, 1))\n",
        "plt.text(0.5, 0.5, f'Cramer\\'s V: {cramer_v:.2f}', ha='center', va='center', fontsize=12)\n",
        "plt.axis('off')\n",
        "plt.show() # Cramer's V é 0.3, isso significa que há uma relação moderada entre a faixa etaria dos alunos e estilos de danças"
      ],
      "metadata": {
        "colab": {
          "base_uri": "https://localhost:8080/",
          "height": 879
        },
        "id": "zcLTZ_Ns4yli",
        "outputId": "78e5ebda-044c-47d2-ed20-abd19552e31a"
      },
      "execution_count": 65,
      "outputs": [
        {
          "output_type": "display_data",
          "data": {
            "text/plain": [
              "<Figure size 1000x800 with 2 Axes>"
            ],
            "image/png": "[encoded data removed]"
          },
          "metadata": {}
        },
        {
          "output_type": "display_data",
          "data": {
            "text/plain": [
              "<Figure size 200x100 with 1 Axes>"
            ],
            "image/png": "[encoded data removed]"
          },
          "metadata": {}
        }
      ]
    },
    {
      "cell_type": "code",
      "source": [
        "style_countsT = df['TURNO'].value_counts()\n",
        "\n",
        "plt.figure(figsize=(10, 6))\n",
        "style_countsT.plot(kind='bar')\n",
        "plt.title('Quantidade de Alunos por Turno')\n",
        "plt.xlabel('Turno')\n",
        "plt.ylabel('Quantidade de Alunos')\n",
        "plt.show()"
      ],
      "metadata": {
        "colab": {
          "base_uri": "https://localhost:8080/",
          "height": 632
        },
        "id": "hfkdddzhGZpw",
        "outputId": "43c96207-789d-4dc0-dbd0-0ef1fcad1ccb"
      },
      "execution_count": 66,
      "outputs": [
        {
          "output_type": "display_data",
          "data": {
            "text/plain": [
              "<Figure size 1000x600 with 1 Axes>"
            ],
            "image/png": "[encoded data removed]"
          },
          "metadata": {}
        }
      ]
    },
    {
      "cell_type": "code",
      "source": [
        "contingency_tableT = pd.crosstab(df['TURNO'], df['ESTILOS'])"
      ],
      "metadata": {
        "id": "IlYZRhoKGrmu"
      },
      "execution_count": 67,
      "outputs": []
    },
    {
      "cell_type": "code",
      "source": [
        "chi2, p, dof, expected = chi2_contingency(contingency_tableT)\n",
        "cramer_vT = math.sqrt(chi2 / (df.shape[0] * df.shape[1] * (dof - 1)))"
      ],
      "metadata": {
        "id": "aqMKKHdgG7j3"
      },
      "execution_count": 68,
      "outputs": []
    },
    {
      "cell_type": "code",
      "source": [
        "plt.figure(figsize=(10, 8))\n",
        "sns.heatmap(contingency_tableT, annot=True, cmap='coolwarm', square=True, fmt='.2f')\n",
        "plt.title('Correlação entre TURNO e ESTILOS')\n",
        "plt.tight_layout()\n",
        "plt.show()\n",
        "\n",
        "plt.figure(figsize=(2, 1))\n",
        "plt.text(0.5, 0.5, f'Cramer\\'s V: {cramer_vT:.2f}', ha='center', va='center', fontsize=12)\n",
        "plt.axis('off')\n",
        "plt.show() # Cramer's V é: 0.04 associação fraca entre as variáveis turno e estilos"
      ],
      "metadata": {
        "colab": {
          "base_uri": "https://localhost:8080/",
          "height": 879
        },
        "id": "9Xe4zu7vHFu7",
        "outputId": "e4cb400d-7396-4fc5-9ab0-3b5f7f66bce5"
      },
      "execution_count": 69,
      "outputs": [
        {
          "output_type": "display_data",
          "data": {
            "text/plain": [
              "<Figure size 1000x800 with 2 Axes>"
            ],
            "image/png": "[encoded data removed]"
          },
          "metadata": {}
        },
        {
          "output_type": "display_data",
          "data": {
            "text/plain": [
              "<Figure size 200x100 with 1 Axes>"
            ],
            "image/png": "[encoded data removed]"
          },
          "metadata": {}
        }
      ]
    },
    {
      "cell_type": "code",
      "source": [
        "style_countsT = df['FAIXA ETARIA'].value_counts()\n",
        "\n",
        "plt.figure(figsize=(10, 6))\n",
        "style_countsT.plot(kind='bar')\n",
        "plt.title('Quantidade de Alunos por Turno')\n",
        "plt.xlabel('Turno')\n",
        "plt.ylabel('Quantidade de Alunos')\n",
        "plt.show()"
      ],
      "metadata": {
        "colab": {
          "base_uri": "https://localhost:8080/",
          "height": 699
        },
        "id": "rUxvEdPZbrpY",
        "outputId": "f395fd88-9030-4f8a-b91d-f1d95c6016ce"
      },
      "execution_count": 70,
      "outputs": [
        {
          "output_type": "display_data",
          "data": {
            "text/plain": [
              "<Figure size 1000x600 with 1 Axes>"
            ],
            "image/png": "[encoded data removed]"
          },
          "metadata": {}
        }
      ]
    },
    {
      "cell_type": "code",
      "source": [
        "df.head(5)"
      ],
      "metadata": {
        "colab": {
          "base_uri": "https://localhost:8080/",
          "height": 276
        },
        "id": "lSatnivKa--_",
        "outputId": "1fbb0e9a-21b4-48cf-bdd2-adb2b0656640"
      },
      "execution_count": 71,
      "outputs": [
        {
          "output_type": "execute_result",
          "data": {
            "text/plain": [
              "  DATA 1º CONTATO  TRIMESTRE                     NOME COMPLETO  IDADE  \\\n",
              "0      2022-01-07          1                          GRAZIELE     22   \n",
              "1      2022-01-07          1                            CAMILA     19   \n",
              "2      2021-01-05          1                     MAIARA GOUVEA     16   \n",
              "3      2021-01-05          1  ENIALE RAMOS QUINTINO MÃE ELAINE     11   \n",
              "4      2022-01-07          1                               BIA     19   \n",
              "\n",
              "  FAIXA ETARIA       VIA         ESTILOS DATA AGENDAMENTO  TURNO  \\\n",
              "0       ADULTO  WHATSAPP        JAZZFUNK      Não agendou  NOITE   \n",
              "1       ADULTO  WHATSAPP            JAZZ      Não agendou  NOITE   \n",
              "2       ADULTO     WHATS  DANÇAS URBANAS      Não agendou  NOITE   \n",
              "3  ADOLESCENTE     WHATS            JAZZ      Não agendou  TARDE   \n",
              "4       ADULTO  WHATSAPP  DANÇAS URBANAS      Não agendou  NOITE   \n",
              "\n",
              "       PROFESSOR COMPARECEU     SITUAÇÃO  \n",
              "0        ALISSON        SIM  MATRICULADO  \n",
              "1            LIA        NÃO     DESISTIU  \n",
              "2        ALISSON        NÃO     DESISTIU  \n",
              "3            LIA        SIM  MATRICULADO  \n",
              "4  NÃO INFORMADO        NÃO     DESISTIU  "
            ],
            "text/html": [
              "\n",
              "  <div id=\"df-28e8f826-f993-477e-bb57-455f08285675\" class=\"colab-df-container\">\n",
              "    <div>\n",
              "<style scoped>\n",
              "    .dataframe tbody tr th:only-of-type {\n",
              "        vertical-align: middle;\n",
              "    }\n",
              "\n",
              "    .dataframe tbody tr th {\n",
              "        vertical-align: top;\n",
              "    }\n",
              "\n",
              "    .dataframe thead th {\n",
              "        text-align: right;\n",
              "    }\n",
              "</style>\n",
              "<table border=\"1\" class=\"dataframe\">\n",
              "  <thead>\n",
              "    <tr style=\"text-align: right;\">\n",
              "      <th></th>\n",
              "      <th>DATA 1º CONTATO</th>\n",
              "      <th>TRIMESTRE</th>\n",
              "      <th>NOME COMPLETO</th>\n",
              "      <th>IDADE</th>\n",
              "      <th>FAIXA ETARIA</th>\n",
              "      <th>VIA</th>\n",
              "      <th>ESTILOS</th>\n",
              "      <th>DATA AGENDAMENTO</th>\n",
              "      <th>TURNO</th>\n",
              "      <th>PROFESSOR</th>\n",
              "      <th>COMPARECEU</th>\n",
              "      <th>SITUAÇÃO</th>\n",
              "    </tr>\n",
              "  </thead>\n",
              "  <tbody>\n",
              "    <tr>\n",
              "      <th>0</th>\n",
              "      <td>2022-01-07</td>\n",
              "      <td>1</td>\n",
              "      <td>GRAZIELE</td>\n",
              "      <td>22</td>\n",
              "      <td>ADULTO</td>\n",
              "      <td>WHATSAPP</td>\n",
              "      <td>JAZZFUNK</td>\n",
              "      <td>Não agendou</td>\n",
              "      <td>NOITE</td>\n",
              "      <td>ALISSON</td>\n",
              "      <td>SIM</td>\n",
              "      <td>MATRICULADO</td>\n",
              "    </tr>\n",
              "    <tr>\n",
              "      <th>1</th>\n",
              "      <td>2022-01-07</td>\n",
              "      <td>1</td>\n",
              "      <td>CAMILA</td>\n",
              "      <td>19</td>\n",
              "      <td>ADULTO</td>\n",
              "      <td>WHATSAPP</td>\n",
              "      <td>JAZZ</td>\n",
              "      <td>Não agendou</td>\n",
              "      <td>NOITE</td>\n",
              "      <td>LIA</td>\n",
              "      <td>NÃO</td>\n",
              "      <td>DESISTIU</td>\n",
              "    </tr>\n",
              "    <tr>\n",
              "      <th>2</th>\n",
              "      <td>2021-01-05</td>\n",
              "      <td>1</td>\n",
              "      <td>MAIARA GOUVEA</td>\n",
              "      <td>16</td>\n",
              "      <td>ADULTO</td>\n",
              "      <td>WHATS</td>\n",
              "      <td>DANÇAS URBANAS</td>\n",
              "      <td>Não agendou</td>\n",
              "      <td>NOITE</td>\n",
              "      <td>ALISSON</td>\n",
              "      <td>NÃO</td>\n",
              "      <td>DESISTIU</td>\n",
              "    </tr>\n",
              "    <tr>\n",
              "      <th>3</th>\n",
              "      <td>2021-01-05</td>\n",
              "      <td>1</td>\n",
              "      <td>ENIALE RAMOS QUINTINO MÃE ELAINE</td>\n",
              "      <td>11</td>\n",
              "      <td>ADOLESCENTE</td>\n",
              "      <td>WHATS</td>\n",
              "      <td>JAZZ</td>\n",
              "      <td>Não agendou</td>\n",
              "      <td>TARDE</td>\n",
              "      <td>LIA</td>\n",
              "      <td>SIM</td>\n",
              "      <td>MATRICULADO</td>\n",
              "    </tr>\n",
              "    <tr>\n",
              "      <th>4</th>\n",
              "      <td>2022-01-07</td>\n",
              "      <td>1</td>\n",
              "      <td>BIA</td>\n",
              "      <td>19</td>\n",
              "      <td>ADULTO</td>\n",
              "      <td>WHATSAPP</td>\n",
              "      <td>DANÇAS URBANAS</td>\n",
              "      <td>Não agendou</td>\n",
              "      <td>NOITE</td>\n",
              "      <td>NÃO INFORMADO</td>\n",
              "      <td>NÃO</td>\n",
              "      <td>DESISTIU</td>\n",
              "    </tr>\n",
              "  </tbody>\n",
              "</table>\n",
              "</div>\n",
              "    <div class=\"colab-df-buttons\">\n",
              "\n",
              "  <div class=\"colab-df-container\">\n",
              "    <button class=\"colab-df-convert\" onclick=\"convertToInteractive('df-28e8f826-f993-477e-bb57-455f08285675')\"\n",
              "            title=\"Convert this dataframe to an interactive table.\"\n",
              "            style=\"display:none;\">\n",
              "\n",
              "  <svg xmlns=\"http://www.w3.org/2000/svg\" height=\"24px\" viewBox=\"0 -960 960 960\">\n",
              "    <path d=\"M120-120v-720h720v720H120Zm60-500h600v-160H180v160Zm220 220h160v-160H400v160Zm0 220h160v-160H400v160ZM180-400h160v-160H180v160Zm440 0h160v-160H620v160ZM180-180h160v-160H180v160Zm440 0h160v-160H620v160Z\"/>\n",
              "  </svg>\n",
              "    </button>\n",
              "\n",
              "  <style>\n",
              "    .colab-df-container {\n",
              "      display:flex;\n",
              "      gap: 12px;\n",
              "    }\n",
              "\n",
              "    .colab-df-convert {\n",
              "      background-color: #E8F0FE;\n",
              "      border: none;\n",
              "      border-radius: 50%;\n",
              "      cursor: pointer;\n",
              "      display: none;\n",
              "      fill: #1967D2;\n",
              "      height: 32px;\n",
              "      padding: 0 0 0 0;\n",
              "      width: 32px;\n",
              "    }\n",
              "\n",
              "    .colab-df-convert:hover {\n",
              "      background-color: #E2EBFA;\n",
              "      box-shadow: 0px 1px 2px rgba(60, 64, 67, 0.3), 0px 1px 3px 1px rgba(60, 64, 67, 0.15);\n",
              "      fill: #174EA6;\n",
              "    }\n",
              "\n",
              "    .colab-df-buttons div {\n",
              "      margin-bottom: 4px;\n",
              "    }\n",
              "\n",
              "    [theme=dark] .colab-df-convert {\n",
              "      background-color: #3B4455;\n",
              "      fill: #D2E3FC;\n",
              "    }\n",
              "\n",
              "    [theme=dark] .colab-df-convert:hover {\n",
              "      background-color: #434B5C;\n",
              "      box-shadow: 0px 1px 3px 1px rgba(0, 0, 0, 0.15);\n",
              "      filter: drop-shadow(0px 1px 2px rgba(0, 0, 0, 0.3));\n",
              "      fill: #FFFFFF;\n",
              "    }\n",
              "  </style>\n",
              "\n",
              "    <script>\n",
              "      const buttonEl =\n",
              "        document.querySelector('#df-28e8f826-f993-477e-bb57-455f08285675 button.colab-df-convert');\n",
              "      buttonEl.style.display =\n",
              "        google.colab.kernel.accessAllowed ? 'block' : 'none';\n",
              "\n",
              "      async function convertToInteractive(key) {\n",
              "        const element = document.querySelector('#df-28e8f826-f993-477e-bb57-455f08285675');\n",
              "        const dataTable =\n",
              "          await google.colab.kernel.invokeFunction('convertToInteractive',\n",
              "                                                    [key], {});\n",
              "        if (!dataTable) return;\n",
              "\n",
              "        const docLinkHtml = 'Like what you see? Visit the ' +\n",
              "          '<a target=\"_blank\" href=https://colab.research.google.com/notebooks/data_table.ipynb>data table notebook</a>'\n",
              "          + ' to learn more about interactive tables.';\n",
              "        element.innerHTML = '';\n",
              "        dataTable['output_type'] = 'display_data';\n",
              "        await google.colab.output.renderOutput(dataTable, element);\n",
              "        const docLink = document.createElement('div');\n",
              "        docLink.innerHTML = docLinkHtml;\n",
              "        element.appendChild(docLink);\n",
              "      }\n",
              "    </script>\n",
              "  </div>\n",
              "\n",
              "\n",
              "<div id=\"df-f71e9e91-8107-4a41-a3bc-bb2570758047\">\n",
              "  <button class=\"colab-df-quickchart\" onclick=\"quickchart('df-f71e9e91-8107-4a41-a3bc-bb2570758047')\"\n",
              "            title=\"Suggest charts\"\n",
              "            style=\"display:none;\">\n",
              "\n",
              "<svg xmlns=\"http://www.w3.org/2000/svg\" height=\"24px\"viewBox=\"0 0 24 24\"\n",
              "     width=\"24px\">\n",
              "    <g>\n",
              "        <path d=\"M19 3H5c-1.1 0-2 .9-2 2v14c0 1.1.9 2 2 2h14c1.1 0 2-.9 2-2V5c0-1.1-.9-2-2-2zM9 17H7v-7h2v7zm4 0h-2V7h2v10zm4 0h-2v-4h2v4z\"/>\n",
              "    </g>\n",
              "</svg>\n",
              "  </button>\n",
              "\n",
              "<style>\n",
              "  .colab-df-quickchart {\n",
              "      --bg-color: #E8F0FE;\n",
              "      --fill-color: #1967D2;\n",
              "      --hover-bg-color: #E2EBFA;\n",
              "      --hover-fill-color: #174EA6;\n",
              "      --disabled-fill-color: #AAA;\n",
              "      --disabled-bg-color: #DDD;\n",
              "  }\n",
              "\n",
              "  [theme=dark] .colab-df-quickchart {\n",
              "      --bg-color: #3B4455;\n",
              "      --fill-color: #D2E3FC;\n",
              "      --hover-bg-color: #434B5C;\n",
              "      --hover-fill-color: #FFFFFF;\n",
              "      --disabled-bg-color: #3B4455;\n",
              "      --disabled-fill-color: #666;\n",
              "  }\n",
              "\n",
              "  .colab-df-quickchart {\n",
              "    background-color: var(--bg-color);\n",
              "    border: none;\n",
              "    border-radius: 50%;\n",
              "    cursor: pointer;\n",
              "    display: none;\n",
              "    fill: var(--fill-color);\n",
              "    height: 32px;\n",
              "    padding: 0;\n",
              "    width: 32px;\n",
              "  }\n",
              "\n",
              "  .colab-df-quickchart:hover {\n",
              "    background-color: var(--hover-bg-color);\n",
              "    box-shadow: 0 1px 2px rgba(60, 64, 67, 0.3), 0 1px 3px 1px rgba(60, 64, 67, 0.15);\n",
              "    fill: var(--button-hover-fill-color);\n",
              "  }\n",
              "\n",
              "  .colab-df-quickchart-complete:disabled,\n",
              "  .colab-df-quickchart-complete:disabled:hover {\n",
              "    background-color: var(--disabled-bg-color);\n",
              "    fill: var(--disabled-fill-color);\n",
              "    box-shadow: none;\n",
              "  }\n",
              "\n",
              "  .colab-df-spinner {\n",
              "    border: 2px solid var(--fill-color);\n",
              "    border-color: transparent;\n",
              "    border-bottom-color: var(--fill-color);\n",
              "    animation:\n",
              "      spin 1s steps(1) infinite;\n",
              "  }\n",
              "\n",
              "  @keyframes spin {\n",
              "    0% {\n",
              "      border-color: transparent;\n",
              "      border-bottom-color: var(--fill-color);\n",
              "      border-left-color: var(--fill-color);\n",
              "    }\n",
              "    20% {\n",
              "      border-color: transparent;\n",
              "      border-left-color: var(--fill-color);\n",
              "      border-top-color: var(--fill-color);\n",
              "    }\n",
              "    30% {\n",
              "      border-color: transparent;\n",
              "      border-left-color: var(--fill-color);\n",
              "      border-top-color: var(--fill-color);\n",
              "      border-right-color: var(--fill-color);\n",
              "    }\n",
              "    40% {\n",
              "      border-color: transparent;\n",
              "      border-right-color: var(--fill-color);\n",
              "      border-top-color: var(--fill-color);\n",
              "    }\n",
              "    60% {\n",
              "      border-color: transparent;\n",
              "      border-right-color: var(--fill-color);\n",
              "    }\n",
              "    80% {\n",
              "      border-color: transparent;\n",
              "      border-right-color: var(--fill-color);\n",
              "      border-bottom-color: var(--fill-color);\n",
              "    }\n",
              "    90% {\n",
              "      border-color: transparent;\n",
              "      border-bottom-color: var(--fill-color);\n",
              "    }\n",
              "  }\n",
              "</style>\n",
              "\n",
              "  <script>\n",
              "    async function quickchart(key) {\n",
              "      const quickchartButtonEl =\n",
              "        document.querySelector('#' + key + ' button');\n",
              "      quickchartButtonEl.disabled = true;  // To prevent multiple clicks.\n",
              "      quickchartButtonEl.classList.add('colab-df-spinner');\n",
              "      try {\n",
              "        const charts = await google.colab.kernel.invokeFunction(\n",
              "            'suggestCharts', [key], {});\n",
              "      } catch (error) {\n",
              "        console.error('Error during call to suggestCharts:', error);\n",
              "      }\n",
              "      quickchartButtonEl.classList.remove('colab-df-spinner');\n",
              "      quickchartButtonEl.classList.add('colab-df-quickchart-complete');\n",
              "    }\n",
              "    (() => {\n",
              "      let quickchartButtonEl =\n",
              "        document.querySelector('#df-f71e9e91-8107-4a41-a3bc-bb2570758047 button');\n",
              "      quickchartButtonEl.style.display =\n",
              "        google.colab.kernel.accessAllowed ? 'block' : 'none';\n",
              "    })();\n",
              "  </script>\n",
              "</div>\n",
              "\n",
              "    </div>\n",
              "  </div>\n"
            ],
            "application/vnd.google.colaboratory.intrinsic+json": {
              "type": "dataframe",
              "variable_name": "df",
              "summary": "{\n  \"name\": \"df\",\n  \"rows\": 1666,\n  \"fields\": [\n    {\n      \"column\": \"DATA 1\\u00ba CONTATO\",\n      \"properties\": {\n        \"dtype\": \"date\",\n        \"min\": \"2021-01-05 00:00:00\",\n        \"max\": \"2024-03-07 00:00:00\",\n        \"num_unique_values\": 529,\n        \"samples\": [\n          \"2022-03-16 00:00:00\",\n          \"2023-05-08 00:00:00\",\n          \"2021-01-14 00:00:00\"\n        ],\n        \"semantic_type\": \"\",\n        \"description\": \"\"\n      }\n    },\n    {\n      \"column\": \"TRIMESTRE\",\n      \"properties\": {\n        \"dtype\": \"number\",\n        \"std\": 0,\n        \"min\": 1,\n        \"max\": 4,\n        \"num_unique_values\": 4,\n        \"samples\": [\n          2,\n          4,\n          1\n        ],\n        \"semantic_type\": \"\",\n        \"description\": \"\"\n      }\n    },\n    {\n      \"column\": \"NOME COMPLETO\",\n      \"properties\": {\n        \"dtype\": \"string\",\n        \"num_unique_values\": 1416,\n        \"samples\": [\n          \"BRUNA LEITE\",\n          \"ISABELA M\\u00c3E FLAVIANA\",\n          \"JU PARA FILHA\"\n        ],\n        \"semantic_type\": \"\",\n        \"description\": \"\"\n      }\n    },\n    {\n      \"column\": \"IDADE\",\n      \"properties\": {\n        \"dtype\": \"number\",\n        \"std\": 9,\n        \"min\": 1,\n        \"max\": 75,\n        \"num_unique_values\": 63,\n        \"samples\": [\n          68,\n          57,\n          22\n        ],\n        \"semantic_type\": \"\",\n        \"description\": \"\"\n      }\n    },\n    {\n      \"column\": \"FAIXA ETARIA\",\n      \"properties\": {\n        \"dtype\": \"category\",\n        \"num_unique_values\": 3,\n        \"samples\": [\n          \"ADULTO\",\n          \"ADOLESCENTE\",\n          \"CRIAN\\u00c7A\"\n        ],\n        \"semantic_type\": \"\",\n        \"description\": \"\"\n      }\n    },\n    {\n      \"column\": \"VIA\",\n      \"properties\": {\n        \"dtype\": \"category\",\n        \"num_unique_values\": 8,\n        \"samples\": [\n          \"WHATS\",\n          \"SITE\",\n          \"WHATSAPP\"\n        ],\n        \"semantic_type\": \"\",\n        \"description\": \"\"\n      }\n    },\n    {\n      \"column\": \"ESTILOS\",\n      \"properties\": {\n        \"dtype\": \"category\",\n        \"num_unique_values\": 8,\n        \"samples\": [\n          \"JAZZ\",\n          \"BALLET CL\\u00c1SSICO\",\n          \"JAZZFUNK\"\n        ],\n        \"semantic_type\": \"\",\n        \"description\": \"\"\n      }\n    },\n    {\n      \"column\": \"DATA AGENDAMENTO\",\n      \"properties\": {\n        \"dtype\": \"category\",\n        \"num_unique_values\": 103,\n        \"samples\": [\n          \"2023-08-30 00:00:00\",\n          \"2024-01-16 00:00:00\",\n          \"2023-12-12 00:00:00\"\n        ],\n        \"semantic_type\": \"\",\n        \"description\": \"\"\n      }\n    },\n    {\n      \"column\": \"TURNO\",\n      \"properties\": {\n        \"dtype\": \"category\",\n        \"num_unique_values\": 3,\n        \"samples\": [\n          \"NOITE\",\n          \"TARDE\",\n          \"MANH\\u00c3\"\n        ],\n        \"semantic_type\": \"\",\n        \"description\": \"\"\n      }\n    },\n    {\n      \"column\": \"PROFESSOR\",\n      \"properties\": {\n        \"dtype\": \"category\",\n        \"num_unique_values\": 19,\n        \"samples\": [\n          \"ALISSON\",\n          \"FERNANDO\",\n          \"ISABELLY\"\n        ],\n        \"semantic_type\": \"\",\n        \"description\": \"\"\n      }\n    },\n    {\n      \"column\": \"COMPARECEU\",\n      \"properties\": {\n        \"dtype\": \"category\",\n        \"num_unique_values\": 2,\n        \"samples\": [\n          \"N\\u00c3O\",\n          \"SIM\"\n        ],\n        \"semantic_type\": \"\",\n        \"description\": \"\"\n      }\n    },\n    {\n      \"column\": \"SITUA\\u00c7\\u00c3O\",\n      \"properties\": {\n        \"dtype\": \"category\",\n        \"num_unique_values\": 3,\n        \"samples\": [\n          \"MATRICULADO\",\n          \"DESISTIU\"\n        ],\n        \"semantic_type\": \"\",\n        \"description\": \"\"\n      }\n    }\n  ]\n}"
            }
          },
          "metadata": {},
          "execution_count": 71
        }
      ]
    },
    {
      "cell_type": "code",
      "source": [
        "# Tipar as colunas\n",
        "df['TRIMESTRE'] = df['TRIMESTRE'].astype(int)\n",
        "df['IDADE'] = df['IDADE'].astype(int)\n",
        "df['NOME COMPLETO'] = df['NOME COMPLETO'].astype(str)\n",
        "df['FAIXA ETARIA'] = df['FAIXA ETARIA'].astype(str)\n",
        "df['VIA'] = df['VIA'].astype(str)\n",
        "df['ESTILOS'] = df['ESTILOS'].astype(str)\n",
        "df['TURNO'] = df['TURNO'].astype(str)\n",
        "df['PROFESSOR'] = df['PROFESSOR'].astype(str)\n",
        "df['COMPARECEU'] = df['COMPARECEU'].astype(bool)\n",
        "df['SITUAÇÃO'] = df['SITUAÇÃO'].astype(str)"
      ],
      "metadata": {
        "id": "HYTt187UAdP2"
      },
      "execution_count": 72,
      "outputs": []
    },
    {
      "cell_type": "code",
      "source": [
        "df.info()"
      ],
      "metadata": {
        "colab": {
          "base_uri": "https://localhost:8080/"
        },
        "id": "iO-FK5H0AlXc",
        "outputId": "f43c3c7d-b3e9-4b31-aa5d-6674d5373980"
      },
      "execution_count": 73,
      "outputs": [
        {
          "output_type": "stream",
          "name": "stdout",
          "text": [
            "<class 'pandas.core.frame.DataFrame'>\n",
            "Int64Index: 1666 entries, 0 to 1673\n",
            "Data columns (total 12 columns):\n",
            " #   Column            Non-Null Count  Dtype         \n",
            "---  ------            --------------  -----         \n",
            " 0   DATA 1º CONTATO   1666 non-null   datetime64[ns]\n",
            " 1   TRIMESTRE         1666 non-null   int64         \n",
            " 2   NOME COMPLETO     1666 non-null   object        \n",
            " 3   IDADE             1666 non-null   int64         \n",
            " 4   FAIXA ETARIA      1666 non-null   object        \n",
            " 5   VIA               1666 non-null   object        \n",
            " 6   ESTILOS           1666 non-null   object        \n",
            " 7   DATA AGENDAMENTO  1666 non-null   object        \n",
            " 8   TURNO             1666 non-null   object        \n",
            " 9   PROFESSOR         1666 non-null   object        \n",
            " 10  COMPARECEU        1666 non-null   bool          \n",
            " 11  SITUAÇÃO          1666 non-null   object        \n",
            "dtypes: bool(1), datetime64[ns](1), int64(2), object(8)\n",
            "memory usage: 222.4+ KB\n"
          ]
        }
      ]
    },
    {
      "cell_type": "code",
      "source": [
        "df.head(5)"
      ],
      "metadata": {
        "colab": {
          "base_uri": "https://localhost:8080/",
          "height": 276
        },
        "id": "zKyUCj_yfq21",
        "outputId": "910e9d75-0b02-4e0e-c3ed-a62e92a745de"
      },
      "execution_count": 74,
      "outputs": [
        {
          "output_type": "execute_result",
          "data": {
            "text/plain": [
              "  DATA 1º CONTATO  TRIMESTRE                     NOME COMPLETO  IDADE  \\\n",
              "0      2022-01-07          1                          GRAZIELE     22   \n",
              "1      2022-01-07          1                            CAMILA     19   \n",
              "2      2021-01-05          1                     MAIARA GOUVEA     16   \n",
              "3      2021-01-05          1  ENIALE RAMOS QUINTINO MÃE ELAINE     11   \n",
              "4      2022-01-07          1                               BIA     19   \n",
              "\n",
              "  FAIXA ETARIA       VIA         ESTILOS DATA AGENDAMENTO  TURNO  \\\n",
              "0       ADULTO  WHATSAPP        JAZZFUNK      Não agendou  NOITE   \n",
              "1       ADULTO  WHATSAPP            JAZZ      Não agendou  NOITE   \n",
              "2       ADULTO     WHATS  DANÇAS URBANAS      Não agendou  NOITE   \n",
              "3  ADOLESCENTE     WHATS            JAZZ      Não agendou  TARDE   \n",
              "4       ADULTO  WHATSAPP  DANÇAS URBANAS      Não agendou  NOITE   \n",
              "\n",
              "       PROFESSOR  COMPARECEU     SITUAÇÃO  \n",
              "0        ALISSON        True  MATRICULADO  \n",
              "1            LIA        True     DESISTIU  \n",
              "2        ALISSON        True     DESISTIU  \n",
              "3            LIA        True  MATRICULADO  \n",
              "4  NÃO INFORMADO        True     DESISTIU  "
            ],
            "text/html": [
              "\n",
              "  <div id=\"df-7b5a98aa-738a-41a5-aa7f-f8ff1fed4d8d\" class=\"colab-df-container\">\n",
              "    <div>\n",
              "<style scoped>\n",
              "    .dataframe tbody tr th:only-of-type {\n",
              "        vertical-align: middle;\n",
              "    }\n",
              "\n",
              "    .dataframe tbody tr th {\n",
              "        vertical-align: top;\n",
              "    }\n",
              "\n",
              "    .dataframe thead th {\n",
              "        text-align: right;\n",
              "    }\n",
              "</style>\n",
              "<table border=\"1\" class=\"dataframe\">\n",
              "  <thead>\n",
              "    <tr style=\"text-align: right;\">\n",
              "      <th></th>\n",
              "      <th>DATA 1º CONTATO</th>\n",
              "      <th>TRIMESTRE</th>\n",
              "      <th>NOME COMPLETO</th>\n",
              "      <th>IDADE</th>\n",
              "      <th>FAIXA ETARIA</th>\n",
              "      <th>VIA</th>\n",
              "      <th>ESTILOS</th>\n",
              "      <th>DATA AGENDAMENTO</th>\n",
              "      <th>TURNO</th>\n",
              "      <th>PROFESSOR</th>\n",
              "      <th>COMPARECEU</th>\n",
              "      <th>SITUAÇÃO</th>\n",
              "    </tr>\n",
              "  </thead>\n",
              "  <tbody>\n",
              "    <tr>\n",
              "      <th>0</th>\n",
              "      <td>2022-01-07</td>\n",
              "      <td>1</td>\n",
              "      <td>GRAZIELE</td>\n",
              "      <td>22</td>\n",
              "      <td>ADULTO</td>\n",
              "      <td>WHATSAPP</td>\n",
              "      <td>JAZZFUNK</td>\n",
              "      <td>Não agendou</td>\n",
              "      <td>NOITE</td>\n",
              "      <td>ALISSON</td>\n",
              "      <td>True</td>\n",
              "      <td>MATRICULADO</td>\n",
              "    </tr>\n",
              "    <tr>\n",
              "      <th>1</th>\n",
              "      <td>2022-01-07</td>\n",
              "      <td>1</td>\n",
              "      <td>CAMILA</td>\n",
              "      <td>19</td>\n",
              "      <td>ADULTO</td>\n",
              "      <td>WHATSAPP</td>\n",
              "      <td>JAZZ</td>\n",
              "      <td>Não agendou</td>\n",
              "      <td>NOITE</td>\n",
              "      <td>LIA</td>\n",
              "      <td>True</td>\n",
              "      <td>DESISTIU</td>\n",
              "    </tr>\n",
              "    <tr>\n",
              "      <th>2</th>\n",
              "      <td>2021-01-05</td>\n",
              "      <td>1</td>\n",
              "      <td>MAIARA GOUVEA</td>\n",
              "      <td>16</td>\n",
              "      <td>ADULTO</td>\n",
              "      <td>WHATS</td>\n",
              "      <td>DANÇAS URBANAS</td>\n",
              "      <td>Não agendou</td>\n",
              "      <td>NOITE</td>\n",
              "      <td>ALISSON</td>\n",
              "      <td>True</td>\n",
              "      <td>DESISTIU</td>\n",
              "    </tr>\n",
              "    <tr>\n",
              "      <th>3</th>\n",
              "      <td>2021-01-05</td>\n",
              "      <td>1</td>\n",
              "      <td>ENIALE RAMOS QUINTINO MÃE ELAINE</td>\n",
              "      <td>11</td>\n",
              "      <td>ADOLESCENTE</td>\n",
              "      <td>WHATS</td>\n",
              "      <td>JAZZ</td>\n",
              "      <td>Não agendou</td>\n",
              "      <td>TARDE</td>\n",
              "      <td>LIA</td>\n",
              "      <td>True</td>\n",
              "      <td>MATRICULADO</td>\n",
              "    </tr>\n",
              "    <tr>\n",
              "      <th>4</th>\n",
              "      <td>2022-01-07</td>\n",
              "      <td>1</td>\n",
              "      <td>BIA</td>\n",
              "      <td>19</td>\n",
              "      <td>ADULTO</td>\n",
              "      <td>WHATSAPP</td>\n",
              "      <td>DANÇAS URBANAS</td>\n",
              "      <td>Não agendou</td>\n",
              "      <td>NOITE</td>\n",
              "      <td>NÃO INFORMADO</td>\n",
              "      <td>True</td>\n",
              "      <td>DESISTIU</td>\n",
              "    </tr>\n",
              "  </tbody>\n",
              "</table>\n",
              "</div>\n",
              "    <div class=\"colab-df-buttons\">\n",
              "\n",
              "  <div class=\"colab-df-container\">\n",
              "    <button class=\"colab-df-convert\" onclick=\"convertToInteractive('df-7b5a98aa-738a-41a5-aa7f-f8ff1fed4d8d')\"\n",
              "            title=\"Convert this dataframe to an interactive table.\"\n",
              "            style=\"display:none;\">\n",
              "\n",
              "  <svg xmlns=\"http://www.w3.org/2000/svg\" height=\"24px\" viewBox=\"0 -960 960 960\">\n",
              "    <path d=\"M120-120v-720h720v720H120Zm60-500h600v-160H180v160Zm220 220h160v-160H400v160Zm0 220h160v-160H400v160ZM180-400h160v-160H180v160Zm440 0h160v-160H620v160ZM180-180h160v-160H180v160Zm440 0h160v-160H620v160Z\"/>\n",
              "  </svg>\n",
              "    </button>\n",
              "\n",
              "  <style>\n",
              "    .colab-df-container {\n",
              "      display:flex;\n",
              "      gap: 12px;\n",
              "    }\n",
              "\n",
              "    .colab-df-convert {\n",
              "      background-color: #E8F0FE;\n",
              "      border: none;\n",
              "      border-radius: 50%;\n",
              "      cursor: pointer;\n",
              "      display: none;\n",
              "      fill: #1967D2;\n",
              "      height: 32px;\n",
              "      padding: 0 0 0 0;\n",
              "      width: 32px;\n",
              "    }\n",
              "\n",
              "    .colab-df-convert:hover {\n",
              "      background-color: #E2EBFA;\n",
              "      box-shadow: 0px 1px 2px rgba(60, 64, 67, 0.3), 0px 1px 3px 1px rgba(60, 64, 67, 0.15);\n",
              "      fill: #174EA6;\n",
              "    }\n",
              "\n",
              "    .colab-df-buttons div {\n",
              "      margin-bottom: 4px;\n",
              "    }\n",
              "\n",
              "    [theme=dark] .colab-df-convert {\n",
              "      background-color: #3B4455;\n",
              "      fill: #D2E3FC;\n",
              "    }\n",
              "\n",
              "    [theme=dark] .colab-df-convert:hover {\n",
              "      background-color: #434B5C;\n",
              "      box-shadow: 0px 1px 3px 1px rgba(0, 0, 0, 0.15);\n",
              "      filter: drop-shadow(0px 1px 2px rgba(0, 0, 0, 0.3));\n",
              "      fill: #FFFFFF;\n",
              "    }\n",
              "  </style>\n",
              "\n",
              "    <script>\n",
              "      const buttonEl =\n",
              "        document.querySelector('#df-7b5a98aa-738a-41a5-aa7f-f8ff1fed4d8d button.colab-df-convert');\n",
              "      buttonEl.style.display =\n",
              "        google.colab.kernel.accessAllowed ? 'block' : 'none';\n",
              "\n",
              "      async function convertToInteractive(key) {\n",
              "        const element = document.querySelector('#df-7b5a98aa-738a-41a5-aa7f-f8ff1fed4d8d');\n",
              "        const dataTable =\n",
              "          await google.colab.kernel.invokeFunction('convertToInteractive',\n",
              "                                                    [key], {});\n",
              "        if (!dataTable) return;\n",
              "\n",
              "        const docLinkHtml = 'Like what you see? Visit the ' +\n",
              "          '<a target=\"_blank\" href=https://colab.research.google.com/notebooks/data_table.ipynb>data table notebook</a>'\n",
              "          + ' to learn more about interactive tables.';\n",
              "        element.innerHTML = '';\n",
              "        dataTable['output_type'] = 'display_data';\n",
              "        await google.colab.output.renderOutput(dataTable, element);\n",
              "        const docLink = document.createElement('div');\n",
              "        docLink.innerHTML = docLinkHtml;\n",
              "        element.appendChild(docLink);\n",
              "      }\n",
              "    </script>\n",
              "  </div>\n",
              "\n",
              "\n",
              "<div id=\"df-2a2a4244-aac4-441d-9b07-06c3a6834b68\">\n",
              "  <button class=\"colab-df-quickchart\" onclick=\"quickchart('df-2a2a4244-aac4-441d-9b07-06c3a6834b68')\"\n",
              "            title=\"Suggest charts\"\n",
              "            style=\"display:none;\">\n",
              "\n",
              "<svg xmlns=\"http://www.w3.org/2000/svg\" height=\"24px\"viewBox=\"0 0 24 24\"\n",
              "     width=\"24px\">\n",
              "    <g>\n",
              "        <path d=\"M19 3H5c-1.1 0-2 .9-2 2v14c0 1.1.9 2 2 2h14c1.1 0 2-.9 2-2V5c0-1.1-.9-2-2-2zM9 17H7v-7h2v7zm4 0h-2V7h2v10zm4 0h-2v-4h2v4z\"/>\n",
              "    </g>\n",
              "</svg>\n",
              "  </button>\n",
              "\n",
              "<style>\n",
              "  .colab-df-quickchart {\n",
              "      --bg-color: #E8F0FE;\n",
              "      --fill-color: #1967D2;\n",
              "      --hover-bg-color: #E2EBFA;\n",
              "      --hover-fill-color: #174EA6;\n",
              "      --disabled-fill-color: #AAA;\n",
              "      --disabled-bg-color: #DDD;\n",
              "  }\n",
              "\n",
              "  [theme=dark] .colab-df-quickchart {\n",
              "      --bg-color: #3B4455;\n",
              "      --fill-color: #D2E3FC;\n",
              "      --hover-bg-color: #434B5C;\n",
              "      --hover-fill-color: #FFFFFF;\n",
              "      --disabled-bg-color: #3B4455;\n",
              "      --disabled-fill-color: #666;\n",
              "  }\n",
              "\n",
              "  .colab-df-quickchart {\n",
              "    background-color: var(--bg-color);\n",
              "    border: none;\n",
              "    border-radius: 50%;\n",
              "    cursor: pointer;\n",
              "    display: none;\n",
              "    fill: var(--fill-color);\n",
              "    height: 32px;\n",
              "    padding: 0;\n",
              "    width: 32px;\n",
              "  }\n",
              "\n",
              "  .colab-df-quickchart:hover {\n",
              "    background-color: var(--hover-bg-color);\n",
              "    box-shadow: 0 1px 2px rgba(60, 64, 67, 0.3), 0 1px 3px 1px rgba(60, 64, 67, 0.15);\n",
              "    fill: var(--button-hover-fill-color);\n",
              "  }\n",
              "\n",
              "  .colab-df-quickchart-complete:disabled,\n",
              "  .colab-df-quickchart-complete:disabled:hover {\n",
              "    background-color: var(--disabled-bg-color);\n",
              "    fill: var(--disabled-fill-color);\n",
              "    box-shadow: none;\n",
              "  }\n",
              "\n",
              "  .colab-df-spinner {\n",
              "    border: 2px solid var(--fill-color);\n",
              "    border-color: transparent;\n",
              "    border-bottom-color: var(--fill-color);\n",
              "    animation:\n",
              "      spin 1s steps(1) infinite;\n",
              "  }\n",
              "\n",
              "  @keyframes spin {\n",
              "    0% {\n",
              "      border-color: transparent;\n",
              "      border-bottom-color: var(--fill-color);\n",
              "      border-left-color: var(--fill-color);\n",
              "    }\n",
              "    20% {\n",
              "      border-color: transparent;\n",
              "      border-left-color: var(--fill-color);\n",
              "      border-top-color: var(--fill-color);\n",
              "    }\n",
              "    30% {\n",
              "      border-color: transparent;\n",
              "      border-left-color: var(--fill-color);\n",
              "      border-top-color: var(--fill-color);\n",
              "      border-right-color: var(--fill-color);\n",
              "    }\n",
              "    40% {\n",
              "      border-color: transparent;\n",
              "      border-right-color: var(--fill-color);\n",
              "      border-top-color: var(--fill-color);\n",
              "    }\n",
              "    60% {\n",
              "      border-color: transparent;\n",
              "      border-right-color: var(--fill-color);\n",
              "    }\n",
              "    80% {\n",
              "      border-color: transparent;\n",
              "      border-right-color: var(--fill-color);\n",
              "      border-bottom-color: var(--fill-color);\n",
              "    }\n",
              "    90% {\n",
              "      border-color: transparent;\n",
              "      border-bottom-color: var(--fill-color);\n",
              "    }\n",
              "  }\n",
              "</style>\n",
              "\n",
              "  <script>\n",
              "    async function quickchart(key) {\n",
              "      const quickchartButtonEl =\n",
              "        document.querySelector('#' + key + ' button');\n",
              "      quickchartButtonEl.disabled = true;  // To prevent multiple clicks.\n",
              "      quickchartButtonEl.classList.add('colab-df-spinner');\n",
              "      try {\n",
              "        const charts = await google.colab.kernel.invokeFunction(\n",
              "            'suggestCharts', [key], {});\n",
              "      } catch (error) {\n",
              "        console.error('Error during call to suggestCharts:', error);\n",
              "      }\n",
              "      quickchartButtonEl.classList.remove('colab-df-spinner');\n",
              "      quickchartButtonEl.classList.add('colab-df-quickchart-complete');\n",
              "    }\n",
              "    (() => {\n",
              "      let quickchartButtonEl =\n",
              "        document.querySelector('#df-2a2a4244-aac4-441d-9b07-06c3a6834b68 button');\n",
              "      quickchartButtonEl.style.display =\n",
              "        google.colab.kernel.accessAllowed ? 'block' : 'none';\n",
              "    })();\n",
              "  </script>\n",
              "</div>\n",
              "\n",
              "    </div>\n",
              "  </div>\n"
            ],
            "application/vnd.google.colaboratory.intrinsic+json": {
              "type": "dataframe",
              "variable_name": "df",
              "summary": "{\n  \"name\": \"df\",\n  \"rows\": 1666,\n  \"fields\": [\n    {\n      \"column\": \"DATA 1\\u00ba CONTATO\",\n      \"properties\": {\n        \"dtype\": \"date\",\n        \"min\": \"2021-01-05 00:00:00\",\n        \"max\": \"2024-03-07 00:00:00\",\n        \"num_unique_values\": 529,\n        \"samples\": [\n          \"2022-03-16 00:00:00\",\n          \"2023-05-08 00:00:00\",\n          \"2021-01-14 00:00:00\"\n        ],\n        \"semantic_type\": \"\",\n        \"description\": \"\"\n      }\n    },\n    {\n      \"column\": \"TRIMESTRE\",\n      \"properties\": {\n        \"dtype\": \"number\",\n        \"std\": 0,\n        \"min\": 1,\n        \"max\": 4,\n        \"num_unique_values\": 4,\n        \"samples\": [\n          2,\n          4,\n          1\n        ],\n        \"semantic_type\": \"\",\n        \"description\": \"\"\n      }\n    },\n    {\n      \"column\": \"NOME COMPLETO\",\n      \"properties\": {\n        \"dtype\": \"string\",\n        \"num_unique_values\": 1416,\n        \"samples\": [\n          \"BRUNA LEITE\",\n          \"ISABELA M\\u00c3E FLAVIANA\",\n          \"JU PARA FILHA\"\n        ],\n        \"semantic_type\": \"\",\n        \"description\": \"\"\n      }\n    },\n    {\n      \"column\": \"IDADE\",\n      \"properties\": {\n        \"dtype\": \"number\",\n        \"std\": 9,\n        \"min\": 1,\n        \"max\": 75,\n        \"num_unique_values\": 63,\n        \"samples\": [\n          68,\n          57,\n          22\n        ],\n        \"semantic_type\": \"\",\n        \"description\": \"\"\n      }\n    },\n    {\n      \"column\": \"FAIXA ETARIA\",\n      \"properties\": {\n        \"dtype\": \"category\",\n        \"num_unique_values\": 3,\n        \"samples\": [\n          \"ADULTO\",\n          \"ADOLESCENTE\",\n          \"CRIAN\\u00c7A\"\n        ],\n        \"semantic_type\": \"\",\n        \"description\": \"\"\n      }\n    },\n    {\n      \"column\": \"VIA\",\n      \"properties\": {\n        \"dtype\": \"category\",\n        \"num_unique_values\": 8,\n        \"samples\": [\n          \"WHATS\",\n          \"SITE\",\n          \"WHATSAPP\"\n        ],\n        \"semantic_type\": \"\",\n        \"description\": \"\"\n      }\n    },\n    {\n      \"column\": \"ESTILOS\",\n      \"properties\": {\n        \"dtype\": \"category\",\n        \"num_unique_values\": 8,\n        \"samples\": [\n          \"JAZZ\",\n          \"BALLET CL\\u00c1SSICO\",\n          \"JAZZFUNK\"\n        ],\n        \"semantic_type\": \"\",\n        \"description\": \"\"\n      }\n    },\n    {\n      \"column\": \"DATA AGENDAMENTO\",\n      \"properties\": {\n        \"dtype\": \"category\",\n        \"num_unique_values\": 103,\n        \"samples\": [\n          \"2023-08-30 00:00:00\",\n          \"2024-01-16 00:00:00\",\n          \"2023-12-12 00:00:00\"\n        ],\n        \"semantic_type\": \"\",\n        \"description\": \"\"\n      }\n    },\n    {\n      \"column\": \"TURNO\",\n      \"properties\": {\n        \"dtype\": \"category\",\n        \"num_unique_values\": 3,\n        \"samples\": [\n          \"NOITE\",\n          \"TARDE\",\n          \"MANH\\u00c3\"\n        ],\n        \"semantic_type\": \"\",\n        \"description\": \"\"\n      }\n    },\n    {\n      \"column\": \"PROFESSOR\",\n      \"properties\": {\n        \"dtype\": \"category\",\n        \"num_unique_values\": 19,\n        \"samples\": [\n          \"ALISSON\",\n          \"FERNANDO\",\n          \"ISABELLY\"\n        ],\n        \"semantic_type\": \"\",\n        \"description\": \"\"\n      }\n    },\n    {\n      \"column\": \"COMPARECEU\",\n      \"properties\": {\n        \"dtype\": \"boolean\",\n        \"num_unique_values\": 1,\n        \"samples\": [\n          true\n        ],\n        \"semantic_type\": \"\",\n        \"description\": \"\"\n      }\n    },\n    {\n      \"column\": \"SITUA\\u00c7\\u00c3O\",\n      \"properties\": {\n        \"dtype\": \"category\",\n        \"num_unique_values\": 3,\n        \"samples\": [\n          \"MATRICULADO\"\n        ],\n        \"semantic_type\": \"\",\n        \"description\": \"\"\n      }\n    }\n  ]\n}"
            }
          },
          "metadata": {},
          "execution_count": 74
        }
      ]
    },
    {
      "cell_type": "markdown",
      "source": [
        "<h1><font size=\"5\" color=\"#FF69B4\">Exportação arquivo</font></h1>\n",
        "\n",
        "<p><font size=\"4\">Exportar o arquivo com as formatações e filtros.</font></p>"
      ],
      "metadata": {
        "id": "tayZo8LwToQF"
      }
    },
    {
      "cell_type": "code",
      "source": [
        "# Exportar um arquivo xlsx com as formatações/filtros\n",
        "# Configurações de formatação\n",
        "header_format = {\n",
        "    'bold': True,\n",
        "    'font_size': 12,\n",
        "    'align': 'center',\n",
        "    'valign': 'vcenter',\n",
        "    'fg_color': '#D3D3D3',\n",
        "    'border': 1\n",
        "}\n",
        "\n",
        "cell_format = {\n",
        "    'font_size': 11,\n",
        "    'align': 'center',\n",
        "    'valign': 'vcenter',\n",
        "    'border': 1\n",
        "}\n",
        "\n",
        "# Crie o objeto ExcelWriter\n",
        "with pd.ExcelWriter('CRM.xlsx', engine='xlsxwriter') as writer:\n",
        "    # Exporte o DataFrame para o arquivo xlsx\n",
        "    df.to_excel(writer, sheet_name='CRM', index=False)\n",
        "\n",
        "    # Formate a planilha\n",
        "    workbook = writer.book\n",
        "    worksheet = writer.sheets['CRM']\n",
        "\n",
        "    # Adicione o filtro ao cabeçalho\n",
        "    worksheet.autofilter(0, 0, 0, len(df.columns) - 1)\n",
        "\n",
        "    # Formatação do cabeçalho\n",
        "    header_format_obj = workbook.add_format(header_format)\n",
        "    for col_num, value in enumerate(df.columns.values):\n",
        "        worksheet.write(0, col_num, value, header_format_obj)\n",
        "\n",
        "    # Formatação das células\n",
        "    cell_format_obj = workbook.add_format(cell_format)\n",
        "    date_format_obj = workbook.add_format({'num_format': 'yyyy-mm-dd', 'border': 1})\n",
        "\n",
        "    for row_num, row_data in enumerate(df.values):\n",
        "        for col_num, value in enumerate(row_data):\n",
        "            if pd.isnull(value):\n",
        "                worksheet.write(row_num + 1, col_num, '', cell_format_obj)\n",
        "            elif col_num == 0:\n",
        "                worksheet.write(row_num + 1, col_num, value, date_format_obj)\n",
        "            else:\n",
        "                worksheet.write(row_num + 1, col_num, value, cell_format_obj)\n",
        "\n",
        "    # Ajuste a largura das colunas\n",
        "    for col_num, col_width in enumerate([20, 20, 20]):\n",
        "        worksheet.set_column(col_num, col_num, col_width)\n",
        "\n",
        "    # Descomente a linha abaixo se você tiver outro DataFrame para exportar\n",
        "    # df_pc.to_excel(writer, sheet_name='Plano de contas', index=False)"
      ],
      "metadata": {
        "id": "In8H9oObU7qP"
      },
      "execution_count": 75,
      "outputs": []
    },
    {
      "cell_type": "code",
      "source": [
        "dfC =pd.read_excel('MatriculaCEP.xlsx')"
      ],
      "metadata": {
        "id": "m8drfQ9QPWZF"
      },
      "execution_count": 76,
      "outputs": []
    },
    {
      "cell_type": "code",
      "source": [
        "dfC"
      ],
      "metadata": {
        "colab": {
          "base_uri": "https://localhost:8080/",
          "height": 424
        },
        "id": "Md7UjFOoQDVt",
        "outputId": "362b2264-e82f-49d8-d562-73d5a8c5603f"
      },
      "execution_count": 77,
      "outputs": [
        {
          "output_type": "execute_result",
          "data": {
            "text/plain": [
              "    Matrícula                               Nome        CEP\n",
              "0       23001               Clara Yumi Shiraishi  12242-431\n",
              "1       23002  Luisa Mendes Hypolito Neves Pires  12243-710\n",
              "2       23003  Sofia Mendes Hypolito Neves Pires  12243-710\n",
              "3       23008        Maria Eduarda Guedes Santos  12231-070\n",
              "4       23009                 Maria Clara Coelho  12242-410\n",
              "..        ...                                ...        ...\n",
              "86      24030          Henrique Fernandes Veloso  12243-630\n",
              "87      24031       Priscilla Pereira Figueiredo  12233-002\n",
              "88      24032     Rafaela Luchi Marques Penteado  12237-410\n",
              "89      24033                Leticia Akemi Kague  12246-021\n",
              "90      24034            Dominic Pereira Barrios  12244-481\n",
              "\n",
              "[91 rows x 3 columns]"
            ],
            "text/html": [
              "\n",
              "  <div id=\"df-293c19ed-1e8d-4639-af96-78d2b06b3dd4\" class=\"colab-df-container\">\n",
              "    <div>\n",
              "<style scoped>\n",
              "    .dataframe tbody tr th:only-of-type {\n",
              "        vertical-align: middle;\n",
              "    }\n",
              "\n",
              "    .dataframe tbody tr th {\n",
              "        vertical-align: top;\n",
              "    }\n",
              "\n",
              "    .dataframe thead th {\n",
              "        text-align: right;\n",
              "    }\n",
              "</style>\n",
              "<table border=\"1\" class=\"dataframe\">\n",
              "  <thead>\n",
              "    <tr style=\"text-align: right;\">\n",
              "      <th></th>\n",
              "      <th>Matrícula</th>\n",
              "      <th>Nome</th>\n",
              "      <th>CEP</th>\n",
              "    </tr>\n",
              "  </thead>\n",
              "  <tbody>\n",
              "    <tr>\n",
              "      <th>0</th>\n",
              "      <td>23001</td>\n",
              "      <td>Clara Yumi Shiraishi</td>\n",
              "      <td>12242-431</td>\n",
              "    </tr>\n",
              "    <tr>\n",
              "      <th>1</th>\n",
              "      <td>23002</td>\n",
              "      <td>Luisa Mendes Hypolito Neves Pires</td>\n",
              "      <td>12243-710</td>\n",
              "    </tr>\n",
              "    <tr>\n",
              "      <th>2</th>\n",
              "      <td>23003</td>\n",
              "      <td>Sofia Mendes Hypolito Neves Pires</td>\n",
              "      <td>12243-710</td>\n",
              "    </tr>\n",
              "    <tr>\n",
              "      <th>3</th>\n",
              "      <td>23008</td>\n",
              "      <td>Maria Eduarda Guedes Santos</td>\n",
              "      <td>12231-070</td>\n",
              "    </tr>\n",
              "    <tr>\n",
              "      <th>4</th>\n",
              "      <td>23009</td>\n",
              "      <td>Maria Clara Coelho</td>\n",
              "      <td>12242-410</td>\n",
              "    </tr>\n",
              "    <tr>\n",
              "      <th>...</th>\n",
              "      <td>...</td>\n",
              "      <td>...</td>\n",
              "      <td>...</td>\n",
              "    </tr>\n",
              "    <tr>\n",
              "      <th>86</th>\n",
              "      <td>24030</td>\n",
              "      <td>Henrique Fernandes Veloso</td>\n",
              "      <td>12243-630</td>\n",
              "    </tr>\n",
              "    <tr>\n",
              "      <th>87</th>\n",
              "      <td>24031</td>\n",
              "      <td>Priscilla Pereira Figueiredo</td>\n",
              "      <td>12233-002</td>\n",
              "    </tr>\n",
              "    <tr>\n",
              "      <th>88</th>\n",
              "      <td>24032</td>\n",
              "      <td>Rafaela Luchi Marques Penteado</td>\n",
              "      <td>12237-410</td>\n",
              "    </tr>\n",
              "    <tr>\n",
              "      <th>89</th>\n",
              "      <td>24033</td>\n",
              "      <td>Leticia Akemi Kague</td>\n",
              "      <td>12246-021</td>\n",
              "    </tr>\n",
              "    <tr>\n",
              "      <th>90</th>\n",
              "      <td>24034</td>\n",
              "      <td>Dominic Pereira Barrios</td>\n",
              "      <td>12244-481</td>\n",
              "    </tr>\n",
              "  </tbody>\n",
              "</table>\n",
              "<p>91 rows × 3 columns</p>\n",
              "</div>\n",
              "    <div class=\"colab-df-buttons\">\n",
              "\n",
              "  <div class=\"colab-df-container\">\n",
              "    <button class=\"colab-df-convert\" onclick=\"convertToInteractive('df-293c19ed-1e8d-4639-af96-78d2b06b3dd4')\"\n",
              "            title=\"Convert this dataframe to an interactive table.\"\n",
              "            style=\"display:none;\">\n",
              "\n",
              "  <svg xmlns=\"http://www.w3.org/2000/svg\" height=\"24px\" viewBox=\"0 -960 960 960\">\n",
              "    <path d=\"M120-120v-720h720v720H120Zm60-500h600v-160H180v160Zm220 220h160v-160H400v160Zm0 220h160v-160H400v160ZM180-400h160v-160H180v160Zm440 0h160v-160H620v160ZM180-180h160v-160H180v160Zm440 0h160v-160H620v160Z\"/>\n",
              "  </svg>\n",
              "    </button>\n",
              "\n",
              "  <style>\n",
              "    .colab-df-container {\n",
              "      display:flex;\n",
              "      gap: 12px;\n",
              "    }\n",
              "\n",
              "    .colab-df-convert {\n",
              "      background-color: #E8F0FE;\n",
              "      border: none;\n",
              "      border-radius: 50%;\n",
              "      cursor: pointer;\n",
              "      display: none;\n",
              "      fill: #1967D2;\n",
              "      height: 32px;\n",
              "      padding: 0 0 0 0;\n",
              "      width: 32px;\n",
              "    }\n",
              "\n",
              "    .colab-df-convert:hover {\n",
              "      background-color: #E2EBFA;\n",
              "      box-shadow: 0px 1px 2px rgba(60, 64, 67, 0.3), 0px 1px 3px 1px rgba(60, 64, 67, 0.15);\n",
              "      fill: #174EA6;\n",
              "    }\n",
              "\n",
              "    .colab-df-buttons div {\n",
              "      margin-bottom: 4px;\n",
              "    }\n",
              "\n",
              "    [theme=dark] .colab-df-convert {\n",
              "      background-color: #3B4455;\n",
              "      fill: #D2E3FC;\n",
              "    }\n",
              "\n",
              "    [theme=dark] .colab-df-convert:hover {\n",
              "      background-color: #434B5C;\n",
              "      box-shadow: 0px 1px 3px 1px rgba(0, 0, 0, 0.15);\n",
              "      filter: drop-shadow(0px 1px 2px rgba(0, 0, 0, 0.3));\n",
              "      fill: #FFFFFF;\n",
              "    }\n",
              "  </style>\n",
              "\n",
              "    <script>\n",
              "      const buttonEl =\n",
              "        document.querySelector('#df-293c19ed-1e8d-4639-af96-78d2b06b3dd4 button.colab-df-convert');\n",
              "      buttonEl.style.display =\n",
              "        google.colab.kernel.accessAllowed ? 'block' : 'none';\n",
              "\n",
              "      async function convertToInteractive(key) {\n",
              "        const element = document.querySelector('#df-293c19ed-1e8d-4639-af96-78d2b06b3dd4');\n",
              "        const dataTable =\n",
              "          await google.colab.kernel.invokeFunction('convertToInteractive',\n",
              "                                                    [key], {});\n",
              "        if (!dataTable) return;\n",
              "\n",
              "        const docLinkHtml = 'Like what you see? Visit the ' +\n",
              "          '<a target=\"_blank\" href=https://colab.research.google.com/notebooks/data_table.ipynb>data table notebook</a>'\n",
              "          + ' to learn more about interactive tables.';\n",
              "        element.innerHTML = '';\n",
              "        dataTable['output_type'] = 'display_data';\n",
              "        await google.colab.output.renderOutput(dataTable, element);\n",
              "        const docLink = document.createElement('div');\n",
              "        docLink.innerHTML = docLinkHtml;\n",
              "        element.appendChild(docLink);\n",
              "      }\n",
              "    </script>\n",
              "  </div>\n",
              "\n",
              "\n",
              "<div id=\"df-8ca6077b-331b-480e-8046-dff93b483361\">\n",
              "  <button class=\"colab-df-quickchart\" onclick=\"quickchart('df-8ca6077b-331b-480e-8046-dff93b483361')\"\n",
              "            title=\"Suggest charts\"\n",
              "            style=\"display:none;\">\n",
              "\n",
              "<svg xmlns=\"http://www.w3.org/2000/svg\" height=\"24px\"viewBox=\"0 0 24 24\"\n",
              "     width=\"24px\">\n",
              "    <g>\n",
              "        <path d=\"M19 3H5c-1.1 0-2 .9-2 2v14c0 1.1.9 2 2 2h14c1.1 0 2-.9 2-2V5c0-1.1-.9-2-2-2zM9 17H7v-7h2v7zm4 0h-2V7h2v10zm4 0h-2v-4h2v4z\"/>\n",
              "    </g>\n",
              "</svg>\n",
              "  </button>\n",
              "\n",
              "<style>\n",
              "  .colab-df-quickchart {\n",
              "      --bg-color: #E8F0FE;\n",
              "      --fill-color: #1967D2;\n",
              "      --hover-bg-color: #E2EBFA;\n",
              "      --hover-fill-color: #174EA6;\n",
              "      --disabled-fill-color: #AAA;\n",
              "      --disabled-bg-color: #DDD;\n",
              "  }\n",
              "\n",
              "  [theme=dark] .colab-df-quickchart {\n",
              "      --bg-color: #3B4455;\n",
              "      --fill-color: #D2E3FC;\n",
              "      --hover-bg-color: #434B5C;\n",
              "      --hover-fill-color: #FFFFFF;\n",
              "      --disabled-bg-color: #3B4455;\n",
              "      --disabled-fill-color: #666;\n",
              "  }\n",
              "\n",
              "  .colab-df-quickchart {\n",
              "    background-color: var(--bg-color);\n",
              "    border: none;\n",
              "    border-radius: 50%;\n",
              "    cursor: pointer;\n",
              "    display: none;\n",
              "    fill: var(--fill-color);\n",
              "    height: 32px;\n",
              "    padding: 0;\n",
              "    width: 32px;\n",
              "  }\n",
              "\n",
              "  .colab-df-quickchart:hover {\n",
              "    background-color: var(--hover-bg-color);\n",
              "    box-shadow: 0 1px 2px rgba(60, 64, 67, 0.3), 0 1px 3px 1px rgba(60, 64, 67, 0.15);\n",
              "    fill: var(--button-hover-fill-color);\n",
              "  }\n",
              "\n",
              "  .colab-df-quickchart-complete:disabled,\n",
              "  .colab-df-quickchart-complete:disabled:hover {\n",
              "    background-color: var(--disabled-bg-color);\n",
              "    fill: var(--disabled-fill-color);\n",
              "    box-shadow: none;\n",
              "  }\n",
              "\n",
              "  .colab-df-spinner {\n",
              "    border: 2px solid var(--fill-color);\n",
              "    border-color: transparent;\n",
              "    border-bottom-color: var(--fill-color);\n",
              "    animation:\n",
              "      spin 1s steps(1) infinite;\n",
              "  }\n",
              "\n",
              "  @keyframes spin {\n",
              "    0% {\n",
              "      border-color: transparent;\n",
              "      border-bottom-color: var(--fill-color);\n",
              "      border-left-color: var(--fill-color);\n",
              "    }\n",
              "    20% {\n",
              "      border-color: transparent;\n",
              "      border-left-color: var(--fill-color);\n",
              "      border-top-color: var(--fill-color);\n",
              "    }\n",
              "    30% {\n",
              "      border-color: transparent;\n",
              "      border-left-color: var(--fill-color);\n",
              "      border-top-color: var(--fill-color);\n",
              "      border-right-color: var(--fill-color);\n",
              "    }\n",
              "    40% {\n",
              "      border-color: transparent;\n",
              "      border-right-color: var(--fill-color);\n",
              "      border-top-color: var(--fill-color);\n",
              "    }\n",
              "    60% {\n",
              "      border-color: transparent;\n",
              "      border-right-color: var(--fill-color);\n",
              "    }\n",
              "    80% {\n",
              "      border-color: transparent;\n",
              "      border-right-color: var(--fill-color);\n",
              "      border-bottom-color: var(--fill-color);\n",
              "    }\n",
              "    90% {\n",
              "      border-color: transparent;\n",
              "      border-bottom-color: var(--fill-color);\n",
              "    }\n",
              "  }\n",
              "</style>\n",
              "\n",
              "  <script>\n",
              "    async function quickchart(key) {\n",
              "      const quickchartButtonEl =\n",
              "        document.querySelector('#' + key + ' button');\n",
              "      quickchartButtonEl.disabled = true;  // To prevent multiple clicks.\n",
              "      quickchartButtonEl.classList.add('colab-df-spinner');\n",
              "      try {\n",
              "        const charts = await google.colab.kernel.invokeFunction(\n",
              "            'suggestCharts', [key], {});\n",
              "      } catch (error) {\n",
              "        console.error('Error during call to suggestCharts:', error);\n",
              "      }\n",
              "      quickchartButtonEl.classList.remove('colab-df-spinner');\n",
              "      quickchartButtonEl.classList.add('colab-df-quickchart-complete');\n",
              "    }\n",
              "    (() => {\n",
              "      let quickchartButtonEl =\n",
              "        document.querySelector('#df-8ca6077b-331b-480e-8046-dff93b483361 button');\n",
              "      quickchartButtonEl.style.display =\n",
              "        google.colab.kernel.accessAllowed ? 'block' : 'none';\n",
              "    })();\n",
              "  </script>\n",
              "</div>\n",
              "\n",
              "  <div id=\"id_3d0a54c6-c0a9-46f7-85fa-a39e96f2be12\">\n",
              "    <style>\n",
              "      .colab-df-generate {\n",
              "        background-color: #E8F0FE;\n",
              "        border: none;\n",
              "        border-radius: 50%;\n",
              "        cursor: pointer;\n",
              "        display: none;\n",
              "        fill: #1967D2;\n",
              "        height: 32px;\n",
              "        padding: 0 0 0 0;\n",
              "        width: 32px;\n",
              "      }\n",
              "\n",
              "      .colab-df-generate:hover {\n",
              "        background-color: #E2EBFA;\n",
              "        box-shadow: 0px 1px 2px rgba(60, 64, 67, 0.3), 0px 1px 3px 1px rgba(60, 64, 67, 0.15);\n",
              "        fill: #174EA6;\n",
              "      }\n",
              "\n",
              "      [theme=dark] .colab-df-generate {\n",
              "        background-color: #3B4455;\n",
              "        fill: #D2E3FC;\n",
              "      }\n",
              "\n",
              "      [theme=dark] .colab-df-generate:hover {\n",
              "        background-color: #434B5C;\n",
              "        box-shadow: 0px 1px 3px 1px rgba(0, 0, 0, 0.15);\n",
              "        filter: drop-shadow(0px 1px 2px rgba(0, 0, 0, 0.3));\n",
              "        fill: #FFFFFF;\n",
              "      }\n",
              "    </style>\n",
              "    <button class=\"colab-df-generate\" onclick=\"generateWithVariable('dfC')\"\n",
              "            title=\"Generate code using this dataframe.\"\n",
              "            style=\"display:none;\">\n",
              "\n",
              "  <svg xmlns=\"http://www.w3.org/2000/svg\" height=\"24px\"viewBox=\"0 0 24 24\"\n",
              "       width=\"24px\">\n",
              "    <path d=\"M7,19H8.4L18.45,9,17,7.55,7,17.6ZM5,21V16.75L18.45,3.32a2,2,0,0,1,2.83,0l1.4,1.43a1.91,1.91,0,0,1,.58,1.4,1.91,1.91,0,0,1-.58,1.4L9.25,21ZM18.45,9,17,7.55Zm-12,3A5.31,5.31,0,0,0,4.9,8.1,5.31,5.31,0,0,0,1,6.5,5.31,5.31,0,0,0,4.9,4.9,5.31,5.31,0,0,0,6.5,1,5.31,5.31,0,0,0,8.1,4.9,5.31,5.31,0,0,0,12,6.5,5.46,5.46,0,0,0,6.5,12Z\"/>\n",
              "  </svg>\n",
              "    </button>\n",
              "    <script>\n",
              "      (() => {\n",
              "      const buttonEl =\n",
              "        document.querySelector('#id_3d0a54c6-c0a9-46f7-85fa-a39e96f2be12 button.colab-df-generate');\n",
              "      buttonEl.style.display =\n",
              "        google.colab.kernel.accessAllowed ? 'block' : 'none';\n",
              "\n",
              "      buttonEl.onclick = () => {\n",
              "        google.colab.notebook.generateWithVariable('dfC');\n",
              "      }\n",
              "      })();\n",
              "    </script>\n",
              "  </div>\n",
              "\n",
              "    </div>\n",
              "  </div>\n"
            ],
            "application/vnd.google.colaboratory.intrinsic+json": {
              "type": "dataframe",
              "variable_name": "dfC",
              "summary": "{\n  \"name\": \"dfC\",\n  \"rows\": 91,\n  \"fields\": [\n    {\n      \"column\": \"Matr\\u00edcula\",\n      \"properties\": {\n        \"dtype\": \"number\",\n        \"std\": 459,\n        \"min\": 23001,\n        \"max\": 24034,\n        \"num_unique_values\": 91,\n        \"samples\": [\n          23070,\n          23038,\n          23112\n        ],\n        \"semantic_type\": \"\",\n        \"description\": \"\"\n      }\n    },\n    {\n      \"column\": \"Nome\",\n      \"properties\": {\n        \"dtype\": \"string\",\n        \"num_unique_values\": 91,\n        \"samples\": [\n          \"Meire Nakamura Yamamoto\",\n          \"Livia Marchesi Natale\",\n          \"Joyce Cruz Ponte\"\n        ],\n        \"semantic_type\": \"\",\n        \"description\": \"\"\n      }\n    },\n    {\n      \"column\": \"CEP\",\n      \"properties\": {\n        \"dtype\": \"string\",\n        \"num_unique_values\": 70,\n        \"samples\": [\n          \"12246-150\",\n          \"12242-431\",\n          \"12241-180\"\n        ],\n        \"semantic_type\": \"\",\n        \"description\": \"\"\n      }\n    }\n  ]\n}"
            }
          },
          "metadata": {},
          "execution_count": 77
        }
      ]
    },
    {
      "cell_type": "code",
      "source": [
        "# Deixe a coluna \"Nome\" em caixa alta\n",
        "dfC['Nome'] = dfC['Nome'].str.upper()"
      ],
      "metadata": {
        "id": "5zokpxRdQwep"
      },
      "execution_count": 78,
      "outputs": []
    },
    {
      "cell_type": "code",
      "source": [
        "nomes_comuns = dfC['Nome'][dfC['Nome'].isin(df['NOME COMPLETO'])]\n",
        "nomes_comuns"
      ],
      "metadata": {
        "colab": {
          "base_uri": "https://localhost:8080/"
        },
        "id": "S5pTDbntRA6q",
        "outputId": "744ed752-681f-4231-d8f2-f49fb099536d"
      },
      "execution_count": 79,
      "outputs": [
        {
          "output_type": "execute_result",
          "data": {
            "text/plain": [
              "31         GIOVANNA PEREIRA FLORES\n",
              "40         MEIRE NAKAMURA YAMAMOTO\n",
              "45      MARIA RITA BARROS MEDEIROS\n",
              "53      BENJAMIN PONTE DE OLIVEIRA\n",
              "55                JOYCE CRUZ PONTE\n",
              "57        CLARA KRUSCHEWSKY FRANCO\n",
              "58     MYLENA RODRIGUES GOMES ARÃO\n",
              "59    ISABELLY CRISTINA REIS SILVA\n",
              "63             CLARA ARRUDA COELHO\n",
              "72     ISABELLA IRIE TEIXEIRA REIS\n",
              "80          ANA CLARA MELO JARONES\n",
              "Name: Nome, dtype: object"
            ]
          },
          "metadata": {},
          "execution_count": 79
        }
      ]
    },
    {
      "cell_type": "code",
      "source": [
        "# Encontre os nomes parecidos em ambas as colunas\n",
        "nomes_parecidos = []\n",
        "for nome in dfC['Nome']:\n",
        "    for outro_nome in df['NOME COMPLETO']:\n",
        "        if fuzz.ratio(nome, outro_nome) > 80:  # ajuste o valor de threshold aqui\n",
        "            nomes_parecidos.append((nome, outro_nome))\n",
        "nomes_parecidos"
      ],
      "metadata": {
        "colab": {
          "base_uri": "https://localhost:8080/"
        },
        "id": "YXQdex2PR5As",
        "outputId": "eb27d49e-d18a-416c-e693-d00a83e2af1e"
      },
      "execution_count": 80,
      "outputs": [
        {
          "output_type": "execute_result",
          "data": {
            "text/plain": [
              "[('SOFIA MENDES HYPOLITO NEVES PIRES',\n",
              "  'SOFIA MENDES HYPOLITO NEVES PIRES JÁ É ALUNA'),\n",
              " ('FERNANDA SAYURI YKEDA', 'FERNANDA SAYURI'),\n",
              " ('BEATRIZ SCHIMIDT BARONI', 'BEATRIZ SCHIMIDT BARONI JÁ É ALUNA'),\n",
              " ('ANA CLARA RAMOS CASIMIRO', 'ANA CLARA RAMOS CASEMIRO'),\n",
              " ('GIOVANNA PEREIRA FLORES', 'GIOVANNA PEREIRA FLORES'),\n",
              " ('VANESSA DE ALMEIDA VITÓRIA', 'VANESSA DE ALMEIDA VITORIA'),\n",
              " ('THALITA DIAS FERREIRA', 'TALITHA MORAES FERREIRA'),\n",
              " ('MEIRE NAKAMURA YAMAMOTO', 'MEIRE NAKAMURA YAMAMOTO'),\n",
              " ('MARIA RITA BARROS MEDEIROS', 'MARIA RITA BARROS MEDEIROS'),\n",
              " ('MARIA RITA BARROS MEDEIROS', 'MARIA RITA BARROS MEDEIROS'),\n",
              " ('MARIA RITA BARROS MEDEIROS', 'MARIA RITA BARROS MEDEIROS'),\n",
              " ('MANUELA NASCIMENTO DE ARAÚJO', 'MANUELA NASCIMENTO MÃE RENATA'),\n",
              " ('ELIS HELENA CRUZ PUNTO DE OLIVEIRA', 'ELIS HELENA CRUZ PONTE DE OLIVEIRA'),\n",
              " ('BENJAMIN PONTE DE OLIVEIRA', 'BENJAMIN PONTE DE OLIVEIRA'),\n",
              " ('JOYCE CRUZ PONTE', 'JOYCE CRUZ PONTE'),\n",
              " ('CLARA KRUSCHEWSKY FRANCO', 'CLARA KRUSCHEWSKY FRANCO'),\n",
              " ('MYLENA RODRIGUES GOMES ARÃO', 'MYLENA RODRIGUES GOMES ARÃO'),\n",
              " ('ISABELLY CRISTINA REIS SILVA', 'ISABELLY CRISTINA REIS SILVA'),\n",
              " ('AMANDA VENEGAS DOS ANJOS', 'AMANDA VENEGAS DOS ANJOS CASSIANA'),\n",
              " ('AMANDA VENEGAS DOS ANJOS', 'AMANDA VENEGAS DOS ANJOS CASSIANA'),\n",
              " ('ALINE DE FÁTIMA DE CARVALHO VIEIRA', 'ALINE DE FATIMA DE CARVALHO VIEIRA'),\n",
              " ('ALINE DE FÁTIMA DE CARVALHO VIEIRA', 'ALINE DE FATIMA DE CARVALHO VIEIRA'),\n",
              " ('ALINE DE FÁTIMA DE CARVALHO VIEIRA', 'ALINE DE FATIMA DE CARVALHO VIEIRA'),\n",
              " ('ALINE DE FÁTIMA DE CARVALHO VIEIRA', 'ALINE DE FATIMA DE CARVALHO VIEIRA'),\n",
              " ('CLARA ARRUDA COELHO', 'CLARA ARRUDA COELHO'),\n",
              " ('CLARA ARRUDA COELHO', 'CLARA ARRUDA COELHO'),\n",
              " ('MARIA EDUARDA DA ROSA VIEIRA', 'MARIA EDUARDA DA ROSA'),\n",
              " ('ISABELLA IRIE TEIXEIRA REIS', 'ISABELLA IRIE TEIXEIRA REIS'),\n",
              " ('ISABELLA IRIE TEIXEIRA REIS', 'ISABELLA IRIE TEIXEIRA REIS'),\n",
              " ('ISABELLA IRIE TEIXEIRA REIS', 'ISABELLA IRIE TEIXEIRA REIS'),\n",
              " ('YASMIN CHU ALVES DA SILVA', 'YASMIN CHU ALVES DA SILVA MÃE CHU'),\n",
              " ('ANA CLARA MELO JARONES', 'ANA CLARA MELO JARONES')]"
            ]
          },
          "metadata": {},
          "execution_count": 80
        }
      ]
    },
    {
      "cell_type": "code",
      "source": [
        "nomes_parecidos = pd.Series(nomes_parecidos)\n",
        "nomes_parecidos.value_counts()"
      ],
      "metadata": {
        "colab": {
          "base_uri": "https://localhost:8080/"
        },
        "id": "XSlE3xrvmx8K",
        "outputId": "2bc13251-3d4e-4a07-af18-7e879c357a30"
      },
      "execution_count": 81,
      "outputs": [
        {
          "output_type": "execute_result",
          "data": {
            "text/plain": [
              "(ALINE DE FÁTIMA DE CARVALHO VIEIRA, ALINE DE FATIMA DE CARVALHO VIEIRA)             4\n",
              "(ISABELLA IRIE TEIXEIRA REIS, ISABELLA IRIE TEIXEIRA REIS)                           3\n",
              "(MARIA RITA BARROS MEDEIROS, MARIA RITA BARROS MEDEIROS)                             3\n",
              "(CLARA ARRUDA COELHO, CLARA ARRUDA COELHO)                                           2\n",
              "(AMANDA VENEGAS DOS ANJOS, AMANDA VENEGAS DOS ANJOS CASSIANA)                        2\n",
              "(SOFIA MENDES HYPOLITO NEVES PIRES, SOFIA MENDES HYPOLITO NEVES PIRES JÁ É ALUNA)    1\n",
              "(JOYCE CRUZ PONTE, JOYCE CRUZ PONTE)                                                 1\n",
              "(YASMIN CHU ALVES DA SILVA, YASMIN CHU ALVES DA SILVA MÃE CHU)                       1\n",
              "(MARIA EDUARDA DA ROSA VIEIRA, MARIA EDUARDA DA ROSA)                                1\n",
              "(ISABELLY CRISTINA REIS SILVA, ISABELLY CRISTINA REIS SILVA)                         1\n",
              "(MYLENA RODRIGUES GOMES ARÃO, MYLENA RODRIGUES GOMES ARÃO)                           1\n",
              "(CLARA KRUSCHEWSKY FRANCO, CLARA KRUSCHEWSKY FRANCO)                                 1\n",
              "(BENJAMIN PONTE DE OLIVEIRA, BENJAMIN PONTE DE OLIVEIRA)                             1\n",
              "(FERNANDA SAYURI YKEDA, FERNANDA SAYURI)                                             1\n",
              "(ELIS HELENA CRUZ PUNTO DE OLIVEIRA, ELIS HELENA CRUZ PONTE DE OLIVEIRA)             1\n",
              "(MANUELA NASCIMENTO DE ARAÚJO, MANUELA NASCIMENTO MÃE RENATA)                        1\n",
              "(MEIRE NAKAMURA YAMAMOTO, MEIRE NAKAMURA YAMAMOTO)                                   1\n",
              "(THALITA DIAS FERREIRA, TALITHA MORAES FERREIRA)                                     1\n",
              "(VANESSA DE ALMEIDA VITÓRIA, VANESSA DE ALMEIDA VITORIA)                             1\n",
              "(GIOVANNA PEREIRA FLORES, GIOVANNA PEREIRA FLORES)                                   1\n",
              "(ANA CLARA RAMOS CASIMIRO, ANA CLARA RAMOS CASEMIRO)                                 1\n",
              "(BEATRIZ SCHIMIDT BARONI, BEATRIZ SCHIMIDT BARONI JÁ É ALUNA)                        1\n",
              "(ANA CLARA MELO JARONES, ANA CLARA MELO JARONES)                                     1\n",
              "dtype: int64"
            ]
          },
          "metadata": {},
          "execution_count": 81
        }
      ]
    },
    {
      "cell_type": "code",
      "source": [
        "# Ler o arquivo PDF com configurações de leitura ajustadas\n",
        "ReceitaSet23 = tabula.read_pdf('Relatório de receitas - Set 23.pdf', pages='all',\n",
        "                              guess=False,\n",
        "                              lattice=True,\n",
        "                              stream=True,\n",
        "                              multiple_tables=True,\n",
        "                              pandas_options={'header': None,\n",
        "                                              'parse_dates': False})\n",
        "\n",
        "# Substitua os valores vazios por NaN\n",
        "ReceitaSet23 = ReceitaSet23.replace('', pd.NA)"
      ],
      "metadata": {
        "colab": {
          "base_uri": "https://localhost:8080/",
          "height": 349
        },
        "id": "xalvxYLhWEuT",
        "outputId": "7bfedf73-d416-471b-dd52-0865fead2aa8"
      },
      "execution_count": 82,
      "outputs": [
        {
          "output_type": "error",
          "ename": "FileNotFoundError",
          "evalue": "[Errno 2] No such file or directory: 'Relatório de receitas - Set 23.pdf'",
          "traceback": [
            "\u001b[0;31m---------------------------------------------------------------------------\u001b[0m",
            "\u001b[0;31mFileNotFoundError\u001b[0m                         Traceback (most recent call last)",
            "\u001b[0;32m<ipython-input-82-04a9eb7a868d>\u001b[0m in \u001b[0;36m<cell line: 2>\u001b[0;34m()\u001b[0m\n\u001b[1;32m      1\u001b[0m \u001b[0;31m# Ler o arquivo PDF com configurações de leitura ajustadas\u001b[0m\u001b[0;34m\u001b[0m\u001b[0;34m\u001b[0m\u001b[0m\n\u001b[0;32m----> 2\u001b[0;31m ReceitaSet23 = tabula.read_pdf('Relatório de receitas - Set 23.pdf', pages='all',\n\u001b[0m\u001b[1;32m      3\u001b[0m                               \u001b[0mguess\u001b[0m\u001b[0;34m=\u001b[0m\u001b[0;32mFalse\u001b[0m\u001b[0;34m,\u001b[0m\u001b[0;34m\u001b[0m\u001b[0;34m\u001b[0m\u001b[0m\n\u001b[1;32m      4\u001b[0m                               \u001b[0mlattice\u001b[0m\u001b[0;34m=\u001b[0m\u001b[0;32mTrue\u001b[0m\u001b[0;34m,\u001b[0m\u001b[0;34m\u001b[0m\u001b[0;34m\u001b[0m\u001b[0m\n\u001b[1;32m      5\u001b[0m                               \u001b[0mstream\u001b[0m\u001b[0;34m=\u001b[0m\u001b[0;32mTrue\u001b[0m\u001b[0;34m,\u001b[0m\u001b[0;34m\u001b[0m\u001b[0;34m\u001b[0m\u001b[0m\n",
            "\u001b[0;32m/usr/local/lib/python3.10/dist-packages/tabula/io.py\u001b[0m in \u001b[0;36mread_pdf\u001b[0;34m(input_path, output_format, encoding, java_options, pandas_options, multiple_tables, user_agent, use_raw_url, pages, guess, area, relative_area, lattice, stream, password, silent, columns, relative_columns, format, batch, output_path, force_subprocess, options)\u001b[0m\n\u001b[1;32m    392\u001b[0m \u001b[0;34m\u001b[0m\u001b[0m\n\u001b[1;32m    393\u001b[0m     \u001b[0;32mif\u001b[0m \u001b[0;32mnot\u001b[0m \u001b[0mos\u001b[0m\u001b[0;34m.\u001b[0m\u001b[0mpath\u001b[0m\u001b[0;34m.\u001b[0m\u001b[0mexists\u001b[0m\u001b[0;34m(\u001b[0m\u001b[0mpath\u001b[0m\u001b[0;34m)\u001b[0m\u001b[0;34m:\u001b[0m\u001b[0;34m\u001b[0m\u001b[0;34m\u001b[0m\u001b[0m\n\u001b[0;32m--> 394\u001b[0;31m         \u001b[0;32mraise\u001b[0m \u001b[0mFileNotFoundError\u001b[0m\u001b[0;34m(\u001b[0m\u001b[0merrno\u001b[0m\u001b[0;34m.\u001b[0m\u001b[0mENOENT\u001b[0m\u001b[0;34m,\u001b[0m \u001b[0mos\u001b[0m\u001b[0;34m.\u001b[0m\u001b[0mstrerror\u001b[0m\u001b[0;34m(\u001b[0m\u001b[0merrno\u001b[0m\u001b[0;34m.\u001b[0m\u001b[0mENOENT\u001b[0m\u001b[0;34m)\u001b[0m\u001b[0;34m,\u001b[0m \u001b[0mpath\u001b[0m\u001b[0;34m)\u001b[0m\u001b[0;34m\u001b[0m\u001b[0;34m\u001b[0m\u001b[0m\n\u001b[0m\u001b[1;32m    395\u001b[0m \u001b[0;34m\u001b[0m\u001b[0m\n\u001b[1;32m    396\u001b[0m     \u001b[0;32mif\u001b[0m \u001b[0mos\u001b[0m\u001b[0;34m.\u001b[0m\u001b[0mpath\u001b[0m\u001b[0;34m.\u001b[0m\u001b[0mgetsize\u001b[0m\u001b[0;34m(\u001b[0m\u001b[0mpath\u001b[0m\u001b[0;34m)\u001b[0m \u001b[0;34m==\u001b[0m \u001b[0;36m0\u001b[0m\u001b[0;34m:\u001b[0m\u001b[0;34m\u001b[0m\u001b[0;34m\u001b[0m\u001b[0m\n",
            "\u001b[0;31mFileNotFoundError\u001b[0m: [Errno 2] No such file or directory: 'Relatório de receitas - Set 23.pdf'"
          ]
        }
      ]
    },
    {
      "cell_type": "markdown",
      "source": [],
      "metadata": {
        "id": "8_I9waHCVAYA"
      }
    }
  ]
}