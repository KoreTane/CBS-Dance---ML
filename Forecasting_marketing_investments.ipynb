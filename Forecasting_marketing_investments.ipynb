{
  "nbformat": 4,
  "nbformat_minor": 0,
  "metadata": {
    "colab": {
      "provenance": [],
      "authorship_tag": "ABX9TyPZW5g5JiZHE5F+xuAYgxja",
      "include_colab_link": true
    },
    "kernelspec": {
      "name": "python3",
      "display_name": "Python 3"
    },
    "language_info": {
      "name": "python"
    }
  },
  "cells": [
    {
      "cell_type": "markdown",
      "metadata": {
        "id": "view-in-github",
        "colab_type": "text"
      },
      "source": [
        "<a href=\"https://colab.research.google.com/github/KoreTane/PredictiveLeadManagement/blob/main/Forecasting_marketing_investments.ipynb\" target=\"_parent\"><img src=\"https://colab.research.google.com/assets/colab-badge.svg\" alt=\"Open In Colab\"/></a>"
      ]
    },
    {
      "cell_type": "code",
      "execution_count": 2,
      "metadata": {
        "id": "fpXycWhOrmbX"
      },
      "outputs": [],
      "source": [
        "import pandas as pd\n",
        "import numpy as np\n",
        "import warnings"
      ]
    },
    {
      "cell_type": "code",
      "source": [
        "#dfm = pd.read_excel('MatriculaCEP.xlsx')\n",
        "#dfc = pd.read_excel('fluxo_caixa_cbs.xlsx')\n",
        "df = pd.read_excel('CrmAgendaClientes.xlsx')"
      ],
      "metadata": {
        "id": "WJmTYqDJr0GC"
      },
      "execution_count": 3,
      "outputs": []
    },
    {
      "cell_type": "code",
      "source": [
        "# Extrair a coluna a partir do 2 delimitador '#'\n",
        "#dfc['Matricula'] = dfc['Descrição'].str.split('#', expand=True)[2]\n",
        "# Remover os caracteres '#\\d+' da coluna 'Descrição'\n",
        "#dfc['Aluno'] = dfc['Descrição'].str.replace(r'#\\d+', '', regex=True)\n",
        "#dfc = dfc[['Matricula', 'Data', 'Aluno', 'Valor', 'Tipo']]\n",
        "warnings.filterwarnings('ignore')"
      ],
      "metadata": {
        "id": "omF2F_AgtDIp"
      },
      "execution_count": null,
      "outputs": []
    },
    {
      "cell_type": "code",
      "source": [
        "# Dados dos investimentos em MKT\n",
        "trimestre = ['1º trimestre de 2023', '2º trimestre de 2023', '3º trimestre de 2023', '4º trimestre de 2023', '1º trimestre de 2024', '2º trimestre de 2024']\n",
        "cliques = [303, 1179, 1654, 841, 1666, 812]\n",
        "impressoes = [9917, 29871, 51773, 27408, 37411, 12657]\n",
        "cpc_medio = ['R$Â 0,60', 'R$Â 0,66', 'R$Â 0,55', 'R$Â 0,73', 'R$Â 0,55', 'R$Â 0,44']\n",
        "custo = ['R$Â 181,82', 'R$Â 780,94', 'R$Â 917,74', 'R$Â 612,22', 'R$Â 919,50', 'R$Â 357,89']\n",
        "\n",
        "# Criar DataFrame\n",
        "dfm = pd.DataFrame({\n",
        "    'Trimestre': trimestre,\n",
        "    'Cliques': cliques,\n",
        "    'Impressões': impressoes,\n",
        "    'CPC Médio': cpc_medio,\n",
        "    'Custo': custo\n",
        "})\n"
      ],
      "metadata": {
        "id": "ASLbwVIGGQph"
      },
      "execution_count": null,
      "outputs": []
    },
    {
      "cell_type": "code",
      "source": [
        "df['SITUAÇÃO_FINAL'].value_counts()"
      ],
      "metadata": {
        "id": "DqQhbhD7z7rV",
        "colab": {
          "base_uri": "https://localhost:8080/"
        },
        "outputId": "0a3d6f6f-95bc-4310-d532-b0186ea1fde2"
      },
      "execution_count": 7,
      "outputs": [
        {
          "output_type": "execute_result",
          "data": {
            "text/plain": [
              "SITUAÇÃO_FINAL\n",
              "DESISTIU       1247\n",
              "MATRICULADO     277\n",
              "EM ABERTO       142\n",
              "Name: count, dtype: int64"
            ]
          },
          "metadata": {},
          "execution_count": 7
        }
      ]
    },
    {
      "cell_type": "code",
      "source": [
        "df.info()"
      ],
      "metadata": {
        "colab": {
          "base_uri": "https://localhost:8080/"
        },
        "id": "iXuKFqxqDqEB",
        "outputId": "77f9f388-77a8-4bc3-9323-394d6a98544f"
      },
      "execution_count": 5,
      "outputs": [
        {
          "output_type": "stream",
          "name": "stdout",
          "text": [
            "<class 'pandas.core.frame.DataFrame'>\n",
            "RangeIndex: 1666 entries, 0 to 1665\n",
            "Data columns (total 15 columns):\n",
            " #   Column            Non-Null Count  Dtype         \n",
            "---  ------            --------------  -----         \n",
            " 0   DATA 1º CONTATO   1666 non-null   datetime64[ns]\n",
            " 1   TRIMESTRE         1666 non-null   int64         \n",
            " 2   NOME COMPLETO     1664 non-null   object        \n",
            " 3   IDADE             1666 non-null   int64         \n",
            " 4   FAIXA ETARIA      1666 non-null   object        \n",
            " 5   GENERO            1666 non-null   object        \n",
            " 6   TELEFONE          1666 non-null   object        \n",
            " 7   STATUS            1666 non-null   object        \n",
            " 8   VIA               1666 non-null   object        \n",
            " 9   ESTILOS           1666 non-null   object        \n",
            " 10  DATA AGENDAMENTO  1666 non-null   object        \n",
            " 11  TURNO             1666 non-null   object        \n",
            " 12  PROFESSOR         1666 non-null   object        \n",
            " 13  COMPARECEU        1666 non-null   object        \n",
            " 14  SITUAÇÃO_FINAL    1666 non-null   object        \n",
            "dtypes: datetime64[ns](1), int64(2), object(12)\n",
            "memory usage: 195.4+ KB\n"
          ]
        }
      ]
    },
    {
      "cell_type": "code",
      "source": [
        "df[df['DATA'].dt.year == 2023]"
      ],
      "metadata": {
        "id": "_529M9omFMRq"
      },
      "execution_count": null,
      "outputs": []
    },
    {
      "cell_type": "code",
      "source": [
        "# Filtrar o DataFrame para incluir apenas as linhas que correspondem ao trimestre 1 do ano 2023 e ao tipo de contato \"1º Contato\"\n",
        "df_filtered = df[(df['TRIMESTRE'] == 1) & (df['DATA 1º CONTATO'].dt.year == 2023)]\n",
        "\n",
        "# Contar a quantidade de situações finais em cada tipo\n",
        "situacao_final_counts = df_filtered['SITUAÇÃO_FINAL'].value_counts()"
      ],
      "metadata": {
        "id": "5Xul_mkMFPwY"
      },
      "execution_count": 10,
      "outputs": []
    },
    {
      "cell_type": "code",
      "source": [
        "situacao_final_counts"
      ],
      "metadata": {
        "colab": {
          "base_uri": "https://localhost:8080/"
        },
        "id": "W5XhkERbF1ma",
        "outputId": "45b2e65d-a542-4247-8a39-e29c4f1bc11f"
      },
      "execution_count": 11,
      "outputs": [
        {
          "output_type": "execute_result",
          "data": {
            "text/plain": [
              "SITUAÇÃO_FINAL\n",
              "DESISTIU       216\n",
              "EM ABERTO       40\n",
              "MATRICULADO     31\n",
              "Name: count, dtype: int64"
            ]
          },
          "metadata": {},
          "execution_count": 11
        }
      ]
    }
  ]
}