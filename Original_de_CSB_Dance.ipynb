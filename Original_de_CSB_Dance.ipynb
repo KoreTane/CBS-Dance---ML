{
  "nbformat": 4,
  "nbformat_minor": 0,
  "metadata": {
    "colab": {
      "provenance": []
    },
    "kernelspec": {
      "name": "python3",
      "display_name": "Python 3"
    },
    "language_info": {
      "name": "python"
    }
  },
  "cells": [
    {
      "cell_type": "code",
      "source": [
        "#!pip install xlsxwriter"
      ],
      "metadata": {
        "id": "hjHKS54BnRBC"
      },
      "execution_count": 1,
      "outputs": []
    },
    {
      "cell_type": "code",
      "execution_count": 2,
      "metadata": {
        "id": "q9MCTYoC4Fw_"
      },
      "outputs": [],
      "source": [
        "import pandas as pd\n",
        "import numpy as np\n",
        "from scipy import stats"
      ]
    },
    {
      "cell_type": "code",
      "source": [
        "df = pd.read_excel('CBS_CRM.xlsx', index_col=0, skiprows=1)"
      ],
      "metadata": {
        "id": "N7xDgQTv4sHK"
      },
      "execution_count": 3,
      "outputs": []
    },
    {
      "cell_type": "code",
      "source": [
        "df.drop('Unnamed: 15', axis=1, inplace=True)"
      ],
      "metadata": {
        "id": "8H9Hlzkh1nZo"
      },
      "execution_count": 4,
      "outputs": []
    },
    {
      "cell_type": "code",
      "source": [
        "df.info()"
      ],
      "metadata": {
        "colab": {
          "base_uri": "https://localhost:8080/"
        },
        "id": "jUe2_05j-HcI",
        "outputId": "1210fd6d-c4af-4d82-a54d-fd5ff0cee6ca"
      },
      "execution_count": 5,
      "outputs": [
        {
          "output_type": "stream",
          "name": "stdout",
          "text": [
            "<class 'pandas.core.frame.DataFrame'>\n",
            "Index: 1674 entries, 1.0 to nan\n",
            "Data columns (total 14 columns):\n",
            " #   Column            Non-Null Count  Dtype         \n",
            "---  ------            --------------  -----         \n",
            " 0   DATA 1º CONTATO   1672 non-null   object        \n",
            " 1   NOME COMPLETO     1670 non-null   object        \n",
            " 2   IDADE             1428 non-null   object        \n",
            " 3   TELEFONE          1591 non-null   object        \n",
            " 4   STATUS            1668 non-null   object        \n",
            " 5   VIA               1668 non-null   object        \n",
            " 6   ESTILOS           1664 non-null   object        \n",
            " 7   DATA AGENDAMENTO  223 non-null    datetime64[ns]\n",
            " 8   HORÁRIO           1301 non-null   object        \n",
            " 9   PROFESSOR         1373 non-null   object        \n",
            " 10  COMPARECEU        1650 non-null   object        \n",
            " 11  REAGENDAMENTO     37 non-null     object        \n",
            " 12  SITUAÇÃO          1640 non-null   object        \n",
            " 13  OBSERVAÇÕES       838 non-null    object        \n",
            "dtypes: datetime64[ns](1), object(13)\n",
            "memory usage: 196.2+ KB\n"
          ]
        }
      ]
    },
    {
      "cell_type": "code",
      "source": [
        "print(df.isnull().sum())"
      ],
      "metadata": {
        "colab": {
          "base_uri": "https://localhost:8080/"
        },
        "id": "T0UVllpUJ-Mk",
        "outputId": "2b65cdc8-bfaf-476f-fce6-a76dc40fce59"
      },
      "execution_count": 6,
      "outputs": [
        {
          "output_type": "stream",
          "name": "stdout",
          "text": [
            "DATA 1º CONTATO        2\n",
            "NOME COMPLETO          4\n",
            "IDADE                246\n",
            "TELEFONE              83\n",
            "STATUS                 6\n",
            "VIA                    6\n",
            "ESTILOS               10\n",
            "DATA AGENDAMENTO    1451\n",
            "HORÁRIO              373\n",
            "PROFESSOR            301\n",
            "COMPARECEU            24\n",
            "REAGENDAMENTO       1637\n",
            "SITUAÇÃO              34\n",
            "OBSERVAÇÕES          836\n",
            "dtype: int64\n"
          ]
        }
      ]
    },
    {
      "cell_type": "code",
      "source": [
        "df['DATA 1º CONTATO'] = df['DATA 1º CONTATO'].astype(str) #converter em string para alterações"
      ],
      "metadata": {
        "id": "f2V1f0UeteTu"
      },
      "execution_count": 7,
      "outputs": []
    },
    {
      "cell_type": "code",
      "source": [
        "df.dropna(subset=['DATA 1º CONTATO'], inplace=True) #dropar nulos"
      ],
      "metadata": {
        "id": "szchWfZduc92"
      },
      "execution_count": 8,
      "outputs": []
    },
    {
      "cell_type": "code",
      "source": [
        "df = df[df['DATA 1º CONTATO'].astype(str).str.replace(' |-', '', regex=True).ne('')] #corrigir valores que não estão no formato"
      ],
      "metadata": {
        "id": "qOsHhyt7tf9x"
      },
      "execution_count": 9,
      "outputs": []
    },
    {
      "cell_type": "code",
      "source": [
        "df['DATA 1º CONTATO'] = df['DATA 1º CONTATO'].str.replace('223', '2023').str.replace('2012', '2021') #corrigindo inconsistencias"
      ],
      "metadata": {
        "id": "GZhr8VaBthy_"
      },
      "execution_count": 10,
      "outputs": []
    },
    {
      "cell_type": "code",
      "source": [
        "#df['DATA 1º CONTATO'].unique()"
      ],
      "metadata": {
        "id": "JWMiOLGOszKI"
      },
      "execution_count": 11,
      "outputs": []
    },
    {
      "cell_type": "code",
      "source": [
        "df = df[pd.to_datetime(df['DATA 1º CONTATO'], errors='coerce').notna()] # dropar nulos\n",
        "df['DATA 1º CONTATO'] = pd.to_datetime(df['DATA 1º CONTATO'], errors='coerce').dt.date  #converter em formato date"
      ],
      "metadata": {
        "id": "HSoUKSl6xUow",
        "colab": {
          "base_uri": "https://localhost:8080/"
        },
        "outputId": "b61d04d2-b4b6-4936-fbf9-908ae6cea818"
      },
      "execution_count": 12,
      "outputs": [
        {
          "output_type": "stream",
          "name": "stderr",
          "text": [
            "<ipython-input-12-cb89492dbf02>:2: SettingWithCopyWarning: \n",
            "A value is trying to be set on a copy of a slice from a DataFrame.\n",
            "Try using .loc[row_indexer,col_indexer] = value instead\n",
            "\n",
            "See the caveats in the documentation: https://pandas.pydata.org/pandas-docs/stable/user_guide/indexing.html#returning-a-view-versus-a-copy\n",
            "  df['DATA 1º CONTATO'] = pd.to_datetime(df['DATA 1º CONTATO'], errors='coerce').dt.date  #converter em formato date\n"
          ]
        }
      ]
    },
    {
      "cell_type": "code",
      "source": [
        "df.dropna(subset=['NOME COMPLETO'], inplace=True)  # Excluir valores nulos\n",
        "df['NOME COMPLETO'] = df['NOME COMPLETO'].str.replace(r'[^\\w\\s]', '', regex=True)  # Remover caracteres especiais\n",
        "df['NOME COMPLETO'] = df['NOME COMPLETO'].str.strip()  # Remover espaços em branco"
      ],
      "metadata": {
        "id": "9HPGtLzJyHuG",
        "colab": {
          "base_uri": "https://localhost:8080/"
        },
        "outputId": "0b30fd47-5172-431b-f858-aeeb5a424a4a"
      },
      "execution_count": 13,
      "outputs": [
        {
          "output_type": "stream",
          "name": "stderr",
          "text": [
            "<ipython-input-13-975c559e56f9>:1: SettingWithCopyWarning: \n",
            "A value is trying to be set on a copy of a slice from a DataFrame\n",
            "\n",
            "See the caveats in the documentation: https://pandas.pydata.org/pandas-docs/stable/user_guide/indexing.html#returning-a-view-versus-a-copy\n",
            "  df.dropna(subset=['NOME COMPLETO'], inplace=True)  # Excluir valores nulos\n",
            "<ipython-input-13-975c559e56f9>:2: SettingWithCopyWarning: \n",
            "A value is trying to be set on a copy of a slice from a DataFrame.\n",
            "Try using .loc[row_indexer,col_indexer] = value instead\n",
            "\n",
            "See the caveats in the documentation: https://pandas.pydata.org/pandas-docs/stable/user_guide/indexing.html#returning-a-view-versus-a-copy\n",
            "  df['NOME COMPLETO'] = df['NOME COMPLETO'].str.replace(r'[^\\w\\s]', '', regex=True)  # Remover caracteres especiais\n",
            "<ipython-input-13-975c559e56f9>:3: SettingWithCopyWarning: \n",
            "A value is trying to be set on a copy of a slice from a DataFrame.\n",
            "Try using .loc[row_indexer,col_indexer] = value instead\n",
            "\n",
            "See the caveats in the documentation: https://pandas.pydata.org/pandas-docs/stable/user_guide/indexing.html#returning-a-view-versus-a-copy\n",
            "  df['NOME COMPLETO'] = df['NOME COMPLETO'].str.strip()  # Remover espaços em branco\n"
          ]
        }
      ]
    },
    {
      "cell_type": "code",
      "source": [
        "# Converter valores numéricos e '%-%' para float, e strings para NaN\n",
        "df['IDADE'] = df['IDADE'].apply(lambda x: float(x) if isinstance(x, (int, float)) else\n",
        "                                      (float(x.split('-')) if isinstance(x, str) and '-' in x else np.nan))\n",
        "\n",
        "# Preencher valores NaN com a média da coluna\n",
        "df['IDADE'].fillna(df['IDADE'].mean(), inplace=True)"
      ],
      "metadata": {
        "id": "7ZTzn4R4yJzt",
        "colab": {
          "base_uri": "https://localhost:8080/"
        },
        "outputId": "0505eea3-2e42-4eb2-a3e3-bc34534601f7"
      },
      "execution_count": 14,
      "outputs": [
        {
          "output_type": "stream",
          "name": "stderr",
          "text": [
            "<ipython-input-14-511440e22d5e>:2: SettingWithCopyWarning: \n",
            "A value is trying to be set on a copy of a slice from a DataFrame.\n",
            "Try using .loc[row_indexer,col_indexer] = value instead\n",
            "\n",
            "See the caveats in the documentation: https://pandas.pydata.org/pandas-docs/stable/user_guide/indexing.html#returning-a-view-versus-a-copy\n",
            "  df['IDADE'] = df['IDADE'].apply(lambda x: float(x) if isinstance(x, (int, float)) else\n",
            "<ipython-input-14-511440e22d5e>:6: SettingWithCopyWarning: \n",
            "A value is trying to be set on a copy of a slice from a DataFrame\n",
            "\n",
            "See the caveats in the documentation: https://pandas.pydata.org/pandas-docs/stable/user_guide/indexing.html#returning-a-view-versus-a-copy\n",
            "  df['IDADE'].fillna(df['IDADE'].mean(), inplace=True)\n"
          ]
        }
      ]
    },
    {
      "cell_type": "code",
      "source": [
        "# Crie a coluna 'FAIXA ETARIA'\n",
        "df['FAIXA ETARIA'] = df['IDADE'].apply(lambda x:\n",
        "    'Criança' if x < 10 else\n",
        "    'Adolescente' if x <= 15 else\n",
        "    'Adulto'\n",
        ")"
      ],
      "metadata": {
        "id": "nzFjVKPnVvMq",
        "colab": {
          "base_uri": "https://localhost:8080/"
        },
        "outputId": "82159847-b386-42c0-ae8e-5c95a6836579"
      },
      "execution_count": 15,
      "outputs": [
        {
          "output_type": "stream",
          "name": "stderr",
          "text": [
            "<ipython-input-15-72bb39f14d4c>:2: SettingWithCopyWarning: \n",
            "A value is trying to be set on a copy of a slice from a DataFrame.\n",
            "Try using .loc[row_indexer,col_indexer] = value instead\n",
            "\n",
            "See the caveats in the documentation: https://pandas.pydata.org/pandas-docs/stable/user_guide/indexing.html#returning-a-view-versus-a-copy\n",
            "  df['FAIXA ETARIA'] = df['IDADE'].apply(lambda x:\n"
          ]
        }
      ]
    },
    {
      "cell_type": "code",
      "source": [
        "df.head()"
      ],
      "metadata": {
        "colab": {
          "base_uri": "https://localhost:8080/",
          "height": 466
        },
        "id": "IssT18NVVw4Q",
        "outputId": "cf226ac7-4fe7-4886-e159-d0c2969d40dd"
      },
      "execution_count": 16,
      "outputs": [
        {
          "output_type": "execute_result",
          "data": {
            "text/plain": [
              "     DATA 1º CONTATO                     NOME COMPLETO      IDADE  \\\n",
              "QTDE                                                                \n",
              "1.0       2022-01-07                          Graziele  22.000000   \n",
              "2.0       2022-01-07                            Camila  19.721145   \n",
              "3.0       2021-01-05                     MAIARA GOUVEA  16.000000   \n",
              "4.0       2021-01-05  ENIALE RAMOS QUINTINO MÃE ELAINE  11.000000   \n",
              "5.0       2022-01-07                               Bia  19.721145   \n",
              "\n",
              "           TELEFONE             STATUS       VIA      ESTILOS  \\\n",
              "QTDE                                                            \n",
              "1.0   12 99614-0592  AULA EXPERIMENTAL  WHATSAPP    JAZZ FUNK   \n",
              "2.0   11 94129-6714        INFORMAÇÕES  WHATSAPP         JAZZ   \n",
              "3.0      98841-5432  AULA EXPERIMENTAL     WHATS        K-POP   \n",
              "4.0      99124-9509  AULA EXPERIMENTAL     WHATS         JAZZ   \n",
              "5.0   12 98129-7939        INFORMAÇÕES  WHATSAPP  MODALIDADES   \n",
              "\n",
              "     DATA AGENDAMENTO HORÁRIO PROFESSOR   COMPARECEU REAGENDAMENTO  \\\n",
              "QTDE                                                                 \n",
              "1.0               NaT   18h30   ALISSON          SIM           NaN   \n",
              "2.0               NaT   19H30       LIA          NÃO           NaN   \n",
              "3.0               NaT   19H00   ALISSON    NÃO FICOU           NaN   \n",
              "4.0               NaT   17H00       LIA  MATRICULADO           NaN   \n",
              "5.0               NaT       -         -          NÃO           NaN   \n",
              "\n",
              "              SITUAÇÃO OBSERVAÇÕES FAIXA ETARIA  \n",
              "QTDE                                             \n",
              "1.0        MATRICULADO         NaN       Adulto  \n",
              "2.0   SEMANA SOLIDÁRIA         NaN       Adulto  \n",
              "3.0       NÃO RESPONDE         NaN       Adulto  \n",
              "4.0        MATRICULADO         NaN  Adolescente  \n",
              "5.0   SEMANA SOLIDÁRIA         NaN       Adulto  "
            ],
            "text/html": [
              "\n",
              "  <div id=\"df-24a60be3-5b36-4980-ad2c-9a2f6c41e802\" class=\"colab-df-container\">\n",
              "    <div>\n",
              "<style scoped>\n",
              "    .dataframe tbody tr th:only-of-type {\n",
              "        vertical-align: middle;\n",
              "    }\n",
              "\n",
              "    .dataframe tbody tr th {\n",
              "        vertical-align: top;\n",
              "    }\n",
              "\n",
              "    .dataframe thead th {\n",
              "        text-align: right;\n",
              "    }\n",
              "</style>\n",
              "<table border=\"1\" class=\"dataframe\">\n",
              "  <thead>\n",
              "    <tr style=\"text-align: right;\">\n",
              "      <th></th>\n",
              "      <th>DATA 1º CONTATO</th>\n",
              "      <th>NOME COMPLETO</th>\n",
              "      <th>IDADE</th>\n",
              "      <th>TELEFONE</th>\n",
              "      <th>STATUS</th>\n",
              "      <th>VIA</th>\n",
              "      <th>ESTILOS</th>\n",
              "      <th>DATA AGENDAMENTO</th>\n",
              "      <th>HORÁRIO</th>\n",
              "      <th>PROFESSOR</th>\n",
              "      <th>COMPARECEU</th>\n",
              "      <th>REAGENDAMENTO</th>\n",
              "      <th>SITUAÇÃO</th>\n",
              "      <th>OBSERVAÇÕES</th>\n",
              "      <th>FAIXA ETARIA</th>\n",
              "    </tr>\n",
              "    <tr>\n",
              "      <th>QTDE</th>\n",
              "      <th></th>\n",
              "      <th></th>\n",
              "      <th></th>\n",
              "      <th></th>\n",
              "      <th></th>\n",
              "      <th></th>\n",
              "      <th></th>\n",
              "      <th></th>\n",
              "      <th></th>\n",
              "      <th></th>\n",
              "      <th></th>\n",
              "      <th></th>\n",
              "      <th></th>\n",
              "      <th></th>\n",
              "      <th></th>\n",
              "    </tr>\n",
              "  </thead>\n",
              "  <tbody>\n",
              "    <tr>\n",
              "      <th>1.0</th>\n",
              "      <td>2022-01-07</td>\n",
              "      <td>Graziele</td>\n",
              "      <td>22.000000</td>\n",
              "      <td>12 99614-0592</td>\n",
              "      <td>AULA EXPERIMENTAL</td>\n",
              "      <td>WHATSAPP</td>\n",
              "      <td>JAZZ FUNK</td>\n",
              "      <td>NaT</td>\n",
              "      <td>18h30</td>\n",
              "      <td>ALISSON</td>\n",
              "      <td>SIM</td>\n",
              "      <td>NaN</td>\n",
              "      <td>MATRICULADO</td>\n",
              "      <td>NaN</td>\n",
              "      <td>Adulto</td>\n",
              "    </tr>\n",
              "    <tr>\n",
              "      <th>2.0</th>\n",
              "      <td>2022-01-07</td>\n",
              "      <td>Camila</td>\n",
              "      <td>19.721145</td>\n",
              "      <td>11 94129-6714</td>\n",
              "      <td>INFORMAÇÕES</td>\n",
              "      <td>WHATSAPP</td>\n",
              "      <td>JAZZ</td>\n",
              "      <td>NaT</td>\n",
              "      <td>19H30</td>\n",
              "      <td>LIA</td>\n",
              "      <td>NÃO</td>\n",
              "      <td>NaN</td>\n",
              "      <td>SEMANA SOLIDÁRIA</td>\n",
              "      <td>NaN</td>\n",
              "      <td>Adulto</td>\n",
              "    </tr>\n",
              "    <tr>\n",
              "      <th>3.0</th>\n",
              "      <td>2021-01-05</td>\n",
              "      <td>MAIARA GOUVEA</td>\n",
              "      <td>16.000000</td>\n",
              "      <td>98841-5432</td>\n",
              "      <td>AULA EXPERIMENTAL</td>\n",
              "      <td>WHATS</td>\n",
              "      <td>K-POP</td>\n",
              "      <td>NaT</td>\n",
              "      <td>19H00</td>\n",
              "      <td>ALISSON</td>\n",
              "      <td>NÃO FICOU</td>\n",
              "      <td>NaN</td>\n",
              "      <td>NÃO RESPONDE</td>\n",
              "      <td>NaN</td>\n",
              "      <td>Adulto</td>\n",
              "    </tr>\n",
              "    <tr>\n",
              "      <th>4.0</th>\n",
              "      <td>2021-01-05</td>\n",
              "      <td>ENIALE RAMOS QUINTINO MÃE ELAINE</td>\n",
              "      <td>11.000000</td>\n",
              "      <td>99124-9509</td>\n",
              "      <td>AULA EXPERIMENTAL</td>\n",
              "      <td>WHATS</td>\n",
              "      <td>JAZZ</td>\n",
              "      <td>NaT</td>\n",
              "      <td>17H00</td>\n",
              "      <td>LIA</td>\n",
              "      <td>MATRICULADO</td>\n",
              "      <td>NaN</td>\n",
              "      <td>MATRICULADO</td>\n",
              "      <td>NaN</td>\n",
              "      <td>Adolescente</td>\n",
              "    </tr>\n",
              "    <tr>\n",
              "      <th>5.0</th>\n",
              "      <td>2022-01-07</td>\n",
              "      <td>Bia</td>\n",
              "      <td>19.721145</td>\n",
              "      <td>12 98129-7939</td>\n",
              "      <td>INFORMAÇÕES</td>\n",
              "      <td>WHATSAPP</td>\n",
              "      <td>MODALIDADES</td>\n",
              "      <td>NaT</td>\n",
              "      <td>-</td>\n",
              "      <td>-</td>\n",
              "      <td>NÃO</td>\n",
              "      <td>NaN</td>\n",
              "      <td>SEMANA SOLIDÁRIA</td>\n",
              "      <td>NaN</td>\n",
              "      <td>Adulto</td>\n",
              "    </tr>\n",
              "  </tbody>\n",
              "</table>\n",
              "</div>\n",
              "    <div class=\"colab-df-buttons\">\n",
              "\n",
              "  <div class=\"colab-df-container\">\n",
              "    <button class=\"colab-df-convert\" onclick=\"convertToInteractive('df-24a60be3-5b36-4980-ad2c-9a2f6c41e802')\"\n",
              "            title=\"Convert this dataframe to an interactive table.\"\n",
              "            style=\"display:none;\">\n",
              "\n",
              "  <svg xmlns=\"http://www.w3.org/2000/svg\" height=\"24px\" viewBox=\"0 -960 960 960\">\n",
              "    <path d=\"M120-120v-720h720v720H120Zm60-500h600v-160H180v160Zm220 220h160v-160H400v160Zm0 220h160v-160H400v160ZM180-400h160v-160H180v160Zm440 0h160v-160H620v160ZM180-180h160v-160H180v160Zm440 0h160v-160H620v160Z\"/>\n",
              "  </svg>\n",
              "    </button>\n",
              "\n",
              "  <style>\n",
              "    .colab-df-container {\n",
              "      display:flex;\n",
              "      gap: 12px;\n",
              "    }\n",
              "\n",
              "    .colab-df-convert {\n",
              "      background-color: #E8F0FE;\n",
              "      border: none;\n",
              "      border-radius: 50%;\n",
              "      cursor: pointer;\n",
              "      display: none;\n",
              "      fill: #1967D2;\n",
              "      height: 32px;\n",
              "      padding: 0 0 0 0;\n",
              "      width: 32px;\n",
              "    }\n",
              "\n",
              "    .colab-df-convert:hover {\n",
              "      background-color: #E2EBFA;\n",
              "      box-shadow: 0px 1px 2px rgba(60, 64, 67, 0.3), 0px 1px 3px 1px rgba(60, 64, 67, 0.15);\n",
              "      fill: #174EA6;\n",
              "    }\n",
              "\n",
              "    .colab-df-buttons div {\n",
              "      margin-bottom: 4px;\n",
              "    }\n",
              "\n",
              "    [theme=dark] .colab-df-convert {\n",
              "      background-color: #3B4455;\n",
              "      fill: #D2E3FC;\n",
              "    }\n",
              "\n",
              "    [theme=dark] .colab-df-convert:hover {\n",
              "      background-color: #434B5C;\n",
              "      box-shadow: 0px 1px 3px 1px rgba(0, 0, 0, 0.15);\n",
              "      filter: drop-shadow(0px 1px 2px rgba(0, 0, 0, 0.3));\n",
              "      fill: #FFFFFF;\n",
              "    }\n",
              "  </style>\n",
              "\n",
              "    <script>\n",
              "      const buttonEl =\n",
              "        document.querySelector('#df-24a60be3-5b36-4980-ad2c-9a2f6c41e802 button.colab-df-convert');\n",
              "      buttonEl.style.display =\n",
              "        google.colab.kernel.accessAllowed ? 'block' : 'none';\n",
              "\n",
              "      async function convertToInteractive(key) {\n",
              "        const element = document.querySelector('#df-24a60be3-5b36-4980-ad2c-9a2f6c41e802');\n",
              "        const dataTable =\n",
              "          await google.colab.kernel.invokeFunction('convertToInteractive',\n",
              "                                                    [key], {});\n",
              "        if (!dataTable) return;\n",
              "\n",
              "        const docLinkHtml = 'Like what you see? Visit the ' +\n",
              "          '<a target=\"_blank\" href=https://colab.research.google.com/notebooks/data_table.ipynb>data table notebook</a>'\n",
              "          + ' to learn more about interactive tables.';\n",
              "        element.innerHTML = '';\n",
              "        dataTable['output_type'] = 'display_data';\n",
              "        await google.colab.output.renderOutput(dataTable, element);\n",
              "        const docLink = document.createElement('div');\n",
              "        docLink.innerHTML = docLinkHtml;\n",
              "        element.appendChild(docLink);\n",
              "      }\n",
              "    </script>\n",
              "  </div>\n",
              "\n",
              "\n",
              "<div id=\"df-cc85ba66-110c-43db-a39e-3a184c871467\">\n",
              "  <button class=\"colab-df-quickchart\" onclick=\"quickchart('df-cc85ba66-110c-43db-a39e-3a184c871467')\"\n",
              "            title=\"Suggest charts\"\n",
              "            style=\"display:none;\">\n",
              "\n",
              "<svg xmlns=\"http://www.w3.org/2000/svg\" height=\"24px\"viewBox=\"0 0 24 24\"\n",
              "     width=\"24px\">\n",
              "    <g>\n",
              "        <path d=\"M19 3H5c-1.1 0-2 .9-2 2v14c0 1.1.9 2 2 2h14c1.1 0 2-.9 2-2V5c0-1.1-.9-2-2-2zM9 17H7v-7h2v7zm4 0h-2V7h2v10zm4 0h-2v-4h2v4z\"/>\n",
              "    </g>\n",
              "</svg>\n",
              "  </button>\n",
              "\n",
              "<style>\n",
              "  .colab-df-quickchart {\n",
              "      --bg-color: #E8F0FE;\n",
              "      --fill-color: #1967D2;\n",
              "      --hover-bg-color: #E2EBFA;\n",
              "      --hover-fill-color: #174EA6;\n",
              "      --disabled-fill-color: #AAA;\n",
              "      --disabled-bg-color: #DDD;\n",
              "  }\n",
              "\n",
              "  [theme=dark] .colab-df-quickchart {\n",
              "      --bg-color: #3B4455;\n",
              "      --fill-color: #D2E3FC;\n",
              "      --hover-bg-color: #434B5C;\n",
              "      --hover-fill-color: #FFFFFF;\n",
              "      --disabled-bg-color: #3B4455;\n",
              "      --disabled-fill-color: #666;\n",
              "  }\n",
              "\n",
              "  .colab-df-quickchart {\n",
              "    background-color: var(--bg-color);\n",
              "    border: none;\n",
              "    border-radius: 50%;\n",
              "    cursor: pointer;\n",
              "    display: none;\n",
              "    fill: var(--fill-color);\n",
              "    height: 32px;\n",
              "    padding: 0;\n",
              "    width: 32px;\n",
              "  }\n",
              "\n",
              "  .colab-df-quickchart:hover {\n",
              "    background-color: var(--hover-bg-color);\n",
              "    box-shadow: 0 1px 2px rgba(60, 64, 67, 0.3), 0 1px 3px 1px rgba(60, 64, 67, 0.15);\n",
              "    fill: var(--button-hover-fill-color);\n",
              "  }\n",
              "\n",
              "  .colab-df-quickchart-complete:disabled,\n",
              "  .colab-df-quickchart-complete:disabled:hover {\n",
              "    background-color: var(--disabled-bg-color);\n",
              "    fill: var(--disabled-fill-color);\n",
              "    box-shadow: none;\n",
              "  }\n",
              "\n",
              "  .colab-df-spinner {\n",
              "    border: 2px solid var(--fill-color);\n",
              "    border-color: transparent;\n",
              "    border-bottom-color: var(--fill-color);\n",
              "    animation:\n",
              "      spin 1s steps(1) infinite;\n",
              "  }\n",
              "\n",
              "  @keyframes spin {\n",
              "    0% {\n",
              "      border-color: transparent;\n",
              "      border-bottom-color: var(--fill-color);\n",
              "      border-left-color: var(--fill-color);\n",
              "    }\n",
              "    20% {\n",
              "      border-color: transparent;\n",
              "      border-left-color: var(--fill-color);\n",
              "      border-top-color: var(--fill-color);\n",
              "    }\n",
              "    30% {\n",
              "      border-color: transparent;\n",
              "      border-left-color: var(--fill-color);\n",
              "      border-top-color: var(--fill-color);\n",
              "      border-right-color: var(--fill-color);\n",
              "    }\n",
              "    40% {\n",
              "      border-color: transparent;\n",
              "      border-right-color: var(--fill-color);\n",
              "      border-top-color: var(--fill-color);\n",
              "    }\n",
              "    60% {\n",
              "      border-color: transparent;\n",
              "      border-right-color: var(--fill-color);\n",
              "    }\n",
              "    80% {\n",
              "      border-color: transparent;\n",
              "      border-right-color: var(--fill-color);\n",
              "      border-bottom-color: var(--fill-color);\n",
              "    }\n",
              "    90% {\n",
              "      border-color: transparent;\n",
              "      border-bottom-color: var(--fill-color);\n",
              "    }\n",
              "  }\n",
              "</style>\n",
              "\n",
              "  <script>\n",
              "    async function quickchart(key) {\n",
              "      const quickchartButtonEl =\n",
              "        document.querySelector('#' + key + ' button');\n",
              "      quickchartButtonEl.disabled = true;  // To prevent multiple clicks.\n",
              "      quickchartButtonEl.classList.add('colab-df-spinner');\n",
              "      try {\n",
              "        const charts = await google.colab.kernel.invokeFunction(\n",
              "            'suggestCharts', [key], {});\n",
              "      } catch (error) {\n",
              "        console.error('Error during call to suggestCharts:', error);\n",
              "      }\n",
              "      quickchartButtonEl.classList.remove('colab-df-spinner');\n",
              "      quickchartButtonEl.classList.add('colab-df-quickchart-complete');\n",
              "    }\n",
              "    (() => {\n",
              "      let quickchartButtonEl =\n",
              "        document.querySelector('#df-cc85ba66-110c-43db-a39e-3a184c871467 button');\n",
              "      quickchartButtonEl.style.display =\n",
              "        google.colab.kernel.accessAllowed ? 'block' : 'none';\n",
              "    })();\n",
              "  </script>\n",
              "</div>\n",
              "\n",
              "    </div>\n",
              "  </div>\n"
            ],
            "application/vnd.google.colaboratory.intrinsic+json": {
              "type": "dataframe",
              "variable_name": "df",
              "summary": "{\n  \"name\": \"df\",\n  \"rows\": 1666,\n  \"fields\": [\n    {\n      \"column\": \"QTDE\",\n      \"properties\": {\n        \"dtype\": \"number\",\n        \"std\": 64.90361167130315,\n        \"min\": 1.0,\n        \"max\": 219.0,\n        \"num_unique_values\": 203,\n        \"samples\": [\n          17.0,\n          11.0,\n          131.0\n        ],\n        \"semantic_type\": \"\",\n        \"description\": \"\"\n      }\n    },\n    {\n      \"column\": \"DATA 1\\u00ba CONTATO\",\n      \"properties\": {\n        \"dtype\": \"date\",\n        \"min\": \"2021-01-05\",\n        \"max\": \"2024-03-07\",\n        \"num_unique_values\": 528,\n        \"samples\": [\n          \"2022-04-11\",\n          \"2023-05-03\",\n          \"2021-01-14\"\n        ],\n        \"semantic_type\": \"\",\n        \"description\": \"\"\n      }\n    },\n    {\n      \"column\": \"NOME COMPLETO\",\n      \"properties\": {\n        \"dtype\": \"string\",\n        \"num_unique_values\": 1437,\n        \"samples\": [\n          \"Elize Leite\",\n          \"Ashley gatinha_miaumiau\",\n          \"Vanessa\"\n        ],\n        \"semantic_type\": \"\",\n        \"description\": \"\"\n      }\n    },\n    {\n      \"column\": \"IDADE\",\n      \"properties\": {\n        \"dtype\": \"number\",\n        \"std\": 9.563506478419445,\n        \"min\": 1.0,\n        \"max\": 75.0,\n        \"num_unique_values\": 65,\n        \"samples\": [\n          52.0,\n          75.0,\n          22.0\n        ],\n        \"semantic_type\": \"\",\n        \"description\": \"\"\n      }\n    },\n    {\n      \"column\": \"TELEFONE\",\n      \"properties\": {\n        \"dtype\": \"string\",\n        \"num_unique_values\": 1342,\n        \"samples\": [\n          \"12 98181-0492\",\n          \"11 98532-8828\",\n          \"12 98850-0905\"\n        ],\n        \"semantic_type\": \"\",\n        \"description\": \"\"\n      }\n    },\n    {\n      \"column\": \"STATUS\",\n      \"properties\": {\n        \"dtype\": \"category\",\n        \"num_unique_values\": 10,\n        \"samples\": [\n          \"INFORMA\\u00c7\\u00c3O\",\n          \"INFORMA\\u00c7\\u00d5ES\",\n          \"COREOGRAFIA\"\n        ],\n        \"semantic_type\": \"\",\n        \"description\": \"\"\n      }\n    },\n    {\n      \"column\": \"VIA\",\n      \"properties\": {\n        \"dtype\": \"category\",\n        \"num_unique_values\": 13,\n        \"samples\": [\n          \"MAE J\\u00c1 \\u00c9 ALUNA\",\n          \"FACEBOOK\",\n          \"WHATSAPP\"\n        ],\n        \"semantic_type\": \"\",\n        \"description\": \"\"\n      }\n    },\n    {\n      \"column\": \"ESTILOS\",\n      \"properties\": {\n        \"dtype\": \"category\",\n        \"num_unique_values\": 48,\n        \"samples\": [\n          \"BALLEYT\",\n          \"Jazz iniciante\",\n          \"N\\u00c3O \"\n        ],\n        \"semantic_type\": \"\",\n        \"description\": \"\"\n      }\n    },\n    {\n      \"column\": \"DATA AGENDAMENTO\",\n      \"properties\": {\n        \"dtype\": \"date\",\n        \"min\": \"2023-02-21 00:00:00\",\n        \"max\": \"2032-09-12 00:00:00\",\n        \"num_unique_values\": 103,\n        \"samples\": [\n          \"2023-09-05 00:00:00\",\n          \"2024-01-16 00:00:00\",\n          \"2023-12-12 00:00:00\"\n        ],\n        \"semantic_type\": \"\",\n        \"description\": \"\"\n      }\n    },\n    {\n      \"column\": \"HOR\\u00c1RIO\",\n      \"properties\": {\n        \"dtype\": \"category\",\n        \"num_unique_values\": 67,\n        \"samples\": [\n          \"20h30\",\n          \"18h00\",\n          \"-\"\n        ],\n        \"semantic_type\": \"\",\n        \"description\": \"\"\n      }\n    },\n    {\n      \"column\": \"PROFESSOR\",\n      \"properties\": {\n        \"dtype\": \"category\",\n        \"num_unique_values\": 27,\n        \"samples\": [\n          \"GABRIELA\",\n          \"CAROL\",\n          \"LOUBACH\"\n        ],\n        \"semantic_type\": \"\",\n        \"description\": \"\"\n      }\n    },\n    {\n      \"column\": \"COMPARECEU\",\n      \"properties\": {\n        \"dtype\": \"category\",\n        \"num_unique_values\": 56,\n        \"samples\": [\n          \"SIM\",\n          \"N\\u00c3O VEIO\",\n          \"2023-05-17 00:00:00\"\n        ],\n        \"semantic_type\": \"\",\n        \"description\": \"\"\n      }\n    },\n    {\n      \"column\": \"REAGENDAMENTO\",\n      \"properties\": {\n        \"dtype\": \"category\",\n        \"num_unique_values\": 2,\n        \"samples\": [\n          \"N\\u00c3O\",\n          \"SIM\"\n        ],\n        \"semantic_type\": \"\",\n        \"description\": \"\"\n      }\n    },\n    {\n      \"column\": \"SITUA\\u00c7\\u00c3O\",\n      \"properties\": {\n        \"dtype\": \"category\",\n        \"num_unique_values\": 224,\n        \"samples\": [\n          \"MATRICULADA\",\n          \"VEIO 06/07 - vai escolher modalidade\"\n        ],\n        \"semantic_type\": \"\",\n        \"description\": \"\"\n      }\n    },\n    {\n      \"column\": \"OBSERVA\\u00c7\\u00d5ES\",\n      \"properties\": {\n        \"dtype\": \"category\",\n        \"num_unique_values\": 632,\n        \"samples\": [\n          \"Fez aula29/8/22. Gin\\u00e1stica art\\u00edstica\",\n          \"Street, Jazz, K-Pop (as 2 juntas). Reenviei 28/6\"\n        ],\n        \"semantic_type\": \"\",\n        \"description\": \"\"\n      }\n    },\n    {\n      \"column\": \"FAIXA ETARIA\",\n      \"properties\": {\n        \"dtype\": \"category\",\n        \"num_unique_values\": 3,\n        \"samples\": [\n          \"Adulto\",\n          \"Adolescente\"\n        ],\n        \"semantic_type\": \"\",\n        \"description\": \"\"\n      }\n    }\n  ]\n}"
            }
          },
          "metadata": {},
          "execution_count": 16
        }
      ]
    },
    {
      "cell_type": "code",
      "source": [
        "# Ignore os caracteres especiais\n",
        "df['TELEFONE'] = df['TELEFONE'].str.replace(r'[^\\d]', '')\n",
        "\n",
        "# Padronize os valores nulos com '0000-0000'\n",
        "df['TELEFONE'].fillna('0000-0000', inplace=True)"
      ],
      "metadata": {
        "id": "FPKnjdUdaLdn"
      },
      "execution_count": 17,
      "outputs": []
    },
    {
      "cell_type": "code",
      "source": [
        "df['STATUS'].unique()"
      ],
      "metadata": {
        "colab": {
          "base_uri": "https://localhost:8080/"
        },
        "id": "Sga9V7w8WiQS",
        "outputId": "c9a9dc81-dc25-4756-9efb-ece20dfec866"
      },
      "execution_count": 18,
      "outputs": [
        {
          "output_type": "execute_result",
          "data": {
            "text/plain": [
              "array(['AULA EXPERIMENTAL', 'INFORMAÇÕES', 'AULA ESPERIMENTAL',\n",
              "       'INFORMAÇÕES ', 'CAPTAÇÃO', 'COREOGRAFIA', 'AULA AVULSA',\n",
              "       'INFORMACOES', 'INFORMAÇÃO', 'INFORMAÇOES', nan], dtype=object)"
            ]
          },
          "metadata": {},
          "execution_count": 18
        }
      ]
    },
    {
      "cell_type": "code",
      "source": [
        "# Padronize 'INFORMAÇÕES'\n",
        "df['STATUS'] = df['STATUS'].str.replace('INFORMAÇÕES ', 'INFORMAÇÕES')\n",
        "df['STATUS'] = df['STATUS'].str.replace('INFORMACOES', 'INFORMAÇÕES')\n",
        "df['STATUS'] = df['STATUS'].str.replace('INFORMAÇÃO', 'INFORMAÇÕES')\n",
        "df['STATUS'] = df['STATUS'].str.replace('INFORMAÇOES', 'INFORMAÇÕES')\n",
        "df['STATUS'] = df['STATUS'].str.replace('INFORMAÇÕES', 'CAPTAÇÃO')\n",
        "# Substitua 'AULA AVULSA' por 'EXPERIMENTAL'\n",
        "df['STATUS'] = df['STATUS'].str.replace('AULA AVULSA', 'EXPERIMENTAL')\n",
        "df['STATUS'] = df['STATUS'].str.replace('AULA EXPERIMENTAL', 'EXPERIMENTAL')\n",
        "\n",
        "# Padronize 'AULA ESPERIMENTAL'\n",
        "df['STATUS'] = df['STATUS'].str.replace('AULA ESPERIMENTAL', 'EXPERIMENTAL')\n",
        "df['STATUS'] = df['STATUS'].str.replace('AULA AULA EXPERIMENTAL', 'EXPERIMENTAL')\n",
        "df['STATUS'] = df['STATUS'].str.replace('COREOGRAFIA', 'EXPERIMENTAL')\n",
        "\n",
        "\n",
        "# excluir nulos\n",
        "df = df.dropna(subset=['STATUS'])"
      ],
      "metadata": {
        "id": "leKXSN8uXjg4"
      },
      "execution_count": 19,
      "outputs": []
    },
    {
      "cell_type": "code",
      "source": [
        "df.info()"
      ],
      "metadata": {
        "colab": {
          "base_uri": "https://localhost:8080/"
        },
        "id": "ZuJRPtIjZwjr",
        "outputId": "c0885124-6211-4cff-90f5-9ac123bc71ca"
      },
      "execution_count": 20,
      "outputs": [
        {
          "output_type": "stream",
          "name": "stdout",
          "text": [
            "<class 'pandas.core.frame.DataFrame'>\n",
            "Index: 1665 entries, 1.0 to nan\n",
            "Data columns (total 15 columns):\n",
            " #   Column            Non-Null Count  Dtype         \n",
            "---  ------            --------------  -----         \n",
            " 0   DATA 1º CONTATO   1665 non-null   object        \n",
            " 1   NOME COMPLETO     1665 non-null   object        \n",
            " 2   IDADE             1665 non-null   float64       \n",
            " 3   TELEFONE          1665 non-null   object        \n",
            " 4   STATUS            1665 non-null   object        \n",
            " 5   VIA               1665 non-null   object        \n",
            " 6   ESTILOS           1661 non-null   object        \n",
            " 7   DATA AGENDAMENTO  222 non-null    datetime64[ns]\n",
            " 8   HORÁRIO           1297 non-null   object        \n",
            " 9   PROFESSOR         1370 non-null   object        \n",
            " 10  COMPARECEU        1647 non-null   object        \n",
            " 11  REAGENDAMENTO     37 non-null     object        \n",
            " 12  SITUAÇÃO          1636 non-null   object        \n",
            " 13  OBSERVAÇÕES       838 non-null    object        \n",
            " 14  FAIXA ETARIA      1665 non-null   object        \n",
            "dtypes: datetime64[ns](1), float64(1), object(13)\n",
            "memory usage: 208.1+ KB\n"
          ]
        }
      ]
    },
    {
      "cell_type": "code",
      "source": [
        "df['VIA'].unique()"
      ],
      "metadata": {
        "colab": {
          "base_uri": "https://localhost:8080/"
        },
        "id": "q-9yuaaYa5MF",
        "outputId": "1753321c-410b-453a-eb4d-0ba977bc1188"
      },
      "execution_count": 21,
      "outputs": [
        {
          "output_type": "execute_result",
          "data": {
            "text/plain": [
              "array(['WHATSAPP', 'WHATS', 'INSTAGRAM', 'TELEFONE', 'PESSOALMENTE',\n",
              "       'PRESENCIAL', 'PRESENCIAL ', 'SITE', 'VALE AULA', 'FACEBOOK',\n",
              "       'MESSENGER', 'MAE JÁ É ALUNA', 'ALUNA'], dtype=object)"
            ]
          },
          "metadata": {},
          "execution_count": 21
        }
      ]
    },
    {
      "cell_type": "code",
      "source": [
        "#padrozniar\n",
        "df['VIA'] = df['VIA'].str.replace('WHATSAPPAPP', 'WHATSAPP')\n",
        "df['VIA'] = df['VIA'].str.replace('WHATSAPP', 'WHATSAPP')\n",
        "df['VIA'] = df['VIA'].str.replace('TELEFONE', 'WHATSAPP')\n",
        "df['VIA'] = df['VIA'].str.replace('PESSOALMENTE', 'PRESENCIAL')\n",
        "df['VIA'] = df['VIA'].str.replace('VALE ', 'PRESENCIAL')\n",
        "df['VIA'] = df['VIA'].str.replace('MAE JÁ É ALUNA', 'PRESENCIAL')\n",
        "df['VIA'] = df['VIA'].str.replace('ALUNA', 'PRESENCIAL')\n",
        "df['VIA'] = df['VIA'].str.replace('MESSENGER', 'FACEBOOK')\n",
        "df['VIA'] = df['VIA'].str.replace('PRESENCIALAULA', 'PRESENCIAL')\n",
        "df['VIA'] = df['VIA'].str.replace('PRESENCIAL ', 'PRESENCIAL')"
      ],
      "metadata": {
        "id": "O9UwRhGHbCdz"
      },
      "execution_count": 22,
      "outputs": []
    },
    {
      "cell_type": "code",
      "source": [
        "# padronização\n",
        "df['ESTILOS'] = df['ESTILOS'].str.replace('JAZZ FUNK ', 'JAZZ FUNK')\n",
        "df['ESTILOS'] = df['ESTILOS'].str.replace('JAZZ FUNKINICIANTE', 'JAZZ FUNK')\n",
        "df['ESTILOS'] = df['ESTILOS'].str.replace('JAZZ FUNKINTERMEDIARIO', 'JAZZ FUNK')\n",
        "df['ESTILOS'] = df['ESTILOS'].str.replace('JAZZFUNK', 'JAZZ FUNK')\n",
        "\n",
        "\n",
        "df['ESTILOS'] = df['ESTILOS'].str.replace('JAZZ ', 'JAZZ')\n",
        "df['ESTILOS'] = df['ESTILOS'].str.replace('JAZZ INICIANTE', 'JAZZ')\n",
        "df['ESTILOS'] = df['ESTILOS'].str.replace('Jazz', 'JAZZ')\n",
        "df['ESTILOS'] = df['ESTILOS'].str.replace('Jazz iniciante', 'JAZZ')\n",
        "df['ESTILOS'] = df['ESTILOS'].str.replace('JAZZINICIANTE', 'JAZZ')\n",
        "df['ESTILOS'] = df['ESTILOS'].str.replace('JAZZ iniciante', 'JAZZ')\n",
        "df['ESTILOS'] = df['ESTILOS'].str.replace('JAZZiniciante', 'JAZZ')\n",
        "\n",
        "df['ESTILOS'] = df['ESTILOS'].str.replace('AULA DE BREAK', 'DANÇAS URBANAS')\n",
        "df['ESTILOS'] = df['ESTILOS'].str.replace('JAZZE D URBANAS', 'DANÇAS URBANAS')\n"
      ],
      "metadata": {
        "id": "76g2cz6aAVRn"
      },
      "execution_count": 23,
      "outputs": []
    },
    {
      "cell_type": "code",
      "source": [
        "df['ESTILOS'] = df['ESTILOS'].str.replace(r'[^\\w\\s]+', '', regex=True).str.replace('\\s+', ' ', regex=True).str.strip()"
      ],
      "metadata": {
        "id": "6rwOYepz6WhK"
      },
      "execution_count": 24,
      "outputs": []
    },
    {
      "cell_type": "code",
      "source": [
        "df['ESTILOS'] = df['ESTILOS'].str.replace(r'BALLET.*|KPOPBALLET.*|BALLEYT', 'BALLET CLÁSSICO', regex=True)\n",
        "df['ESTILOS'] = df['ESTILOS'].str.replace(r'KPOP.*|K POP INTERMEDIARIO|K POP INICIANTE|kpop|K Pop|Kpop|K POP', 'K-POP', regex=True)\n",
        "df['ESTILOS'] = df['ESTILOS'].str.replace(r'SAPATEADO.*|Sapateado', 'SAPATEADO', regex=True)\n",
        "df['ESTILOS'] = df['ESTILOS'].str.replace(r'CONTEMPORANEO.*', 'CONTEMPORÂNEO', regex=True)"
      ],
      "metadata": {
        "id": "gSSW2Mr_-e7t"
      },
      "execution_count": 25,
      "outputs": []
    },
    {
      "cell_type": "code",
      "source": [
        "# Contar a frequência de cada valor em ESTILO\n",
        "value_counts = df['ESTILOS'].value_counts()"
      ],
      "metadata": {
        "id": "2CdH_e6SDTTH"
      },
      "execution_count": 26,
      "outputs": []
    },
    {
      "cell_type": "code",
      "source": [
        "# Selecionar os 3 valores mais frequentes\n",
        "top_3_values = value_counts.nlargest(3).index.tolist()"
      ],
      "metadata": {
        "id": "mJF2KT5BDT0G"
      },
      "execution_count": 27,
      "outputs": []
    },
    {
      "cell_type": "code",
      "source": [
        "top_3_values"
      ],
      "metadata": {
        "colab": {
          "base_uri": "https://localhost:8080/"
        },
        "id": "juJtopqeGxO9",
        "outputId": "3ae10e24-1a08-46fc-db4b-b650856083bb"
      },
      "execution_count": 28,
      "outputs": [
        {
          "output_type": "execute_result",
          "data": {
            "text/plain": [
              "['DANÇAS URBANAS', 'JAZZ', 'JAZZFUNK']"
            ]
          },
          "metadata": {},
          "execution_count": 28
        }
      ]
    },
    {
      "cell_type": "code",
      "source": [
        "# Padronizar os valores que não são \"JAZZFUNK\", \"JAZZ\", \"K-POP\", \"SAPATEADO\", \"DANÇAS URBANAS\", \"CONTEMPORÂNEO\" e \"BALLET CLÁSSICO\" e distribuir igualitariamente entre estes os 3 valores que mais aparecem\n",
        "df['ESTILOS'] = np.where(df['ESTILOS'].isin(['JAZZFUNK', 'JAZZ', 'K-POP', 'SAPATEADO', 'DANÇAS URBANAS', 'CONTEMPORÂNEO', 'BALLET CLÁSSICO']),\n",
        "                        df['ESTILOS'],\n",
        "                        np.random.choice(top_3_values))"
      ],
      "metadata": {
        "id": "Qyuj0JYCDVwA"
      },
      "execution_count": 29,
      "outputs": []
    },
    {
      "cell_type": "code",
      "source": [
        "df['DATA AGENDAMENTO'] = df['DATA AGENDAMENTO'].astype(str)"
      ],
      "metadata": {
        "id": "WcL7hhyJahrN"
      },
      "execution_count": 30,
      "outputs": []
    },
    {
      "cell_type": "code",
      "source": [
        "# Preencha os valores vazios com \"Não agendou\"\n",
        "df['DATA AGENDAMENTO'].fillna('Não agendou', inplace=True)\n",
        "\n",
        "\n",
        "# Altere o ano de 2032 para 2023\n",
        "df['DATA AGENDAMENTO'] = df['DATA AGENDAMENTO'].apply(lambda x: '2023-' + x[5:] if x and x.startswith('2032') else x)"
      ],
      "metadata": {
        "id": "QO0EbaoCZASg"
      },
      "execution_count": 31,
      "outputs": []
    },
    {
      "cell_type": "code",
      "source": [
        "#df['DATA AGENDAMENTO'] = pd.to_datetime(df['DATA AGENDAMENTO'], errors='coerce').dt.date  #converter em formato date"
      ],
      "metadata": {
        "id": "KcTSXnZVZQrb"
      },
      "execution_count": 32,
      "outputs": []
    },
    {
      "cell_type": "code",
      "source": [
        "# Renomear a coluna HORÁRIO para TURNO\n",
        "df = df.rename(columns={'HORÁRIO': 'TURNO'})"
      ],
      "metadata": {
        "id": "V7nkCgirqI4s"
      },
      "execution_count": 33,
      "outputs": []
    },
    {
      "cell_type": "code",
      "source": [
        "# função que converte um horário em um turno do dia\n",
        "def convert_horario(x):\n",
        "    if isinstance(x, str):\n",
        "        if '-' in x or x[:2].isalpha():\n",
        "            return 'Unknown'\n",
        "        else:\n",
        "            hour = ''.join(filter(str.isdigit, x))\n",
        "            if hour:\n",
        "                hour = int(hour)\n",
        "                if 6 <= hour <= 12:\n",
        "                    return 'MANHA'\n",
        "                elif 12 <= hour <= 18:\n",
        "                    return 'TARDE'\n",
        "                else:\n",
        "                    return 'NOITE'\n",
        "            else:\n",
        "                return 'Unknown'\n",
        "    else:\n",
        "        return 'Unknown'\n",
        "\n",
        "df['TURNO'] = df['TURNO'].apply(convert_horario)"
      ],
      "metadata": {
        "id": "dmvqSEMAoFEc"
      },
      "execution_count": 34,
      "outputs": []
    },
    {
      "cell_type": "code",
      "source": [
        "# Substituição dos valores 'Unknown' pela moda\n",
        "moda_turno = df['TURNO'].mode()[0]\n",
        "df['TURNO'] = df['TURNO'].replace('Unknown', moda_turno)"
      ],
      "metadata": {
        "id": "VAhBcpz7rdib"
      },
      "execution_count": 35,
      "outputs": []
    },
    {
      "cell_type": "code",
      "source": [
        "df.info()"
      ],
      "metadata": {
        "colab": {
          "base_uri": "https://localhost:8080/"
        },
        "id": "RLXnHxxwv2WT",
        "outputId": "85cd23ac-9a63-469d-f22a-71f6b733f670"
      },
      "execution_count": 36,
      "outputs": [
        {
          "output_type": "stream",
          "name": "stdout",
          "text": [
            "<class 'pandas.core.frame.DataFrame'>\n",
            "Index: 1665 entries, 1.0 to nan\n",
            "Data columns (total 15 columns):\n",
            " #   Column            Non-Null Count  Dtype  \n",
            "---  ------            --------------  -----  \n",
            " 0   DATA 1º CONTATO   1665 non-null   object \n",
            " 1   NOME COMPLETO     1665 non-null   object \n",
            " 2   IDADE             1665 non-null   float64\n",
            " 3   TELEFONE          1665 non-null   object \n",
            " 4   STATUS            1665 non-null   object \n",
            " 5   VIA               1665 non-null   object \n",
            " 6   ESTILOS           1665 non-null   object \n",
            " 7   DATA AGENDAMENTO  1665 non-null   object \n",
            " 8   TURNO             1665 non-null   object \n",
            " 9   PROFESSOR         1370 non-null   object \n",
            " 10  COMPARECEU        1647 non-null   object \n",
            " 11  REAGENDAMENTO     37 non-null     object \n",
            " 12  SITUAÇÃO          1636 non-null   object \n",
            " 13  OBSERVAÇÕES       838 non-null    object \n",
            " 14  FAIXA ETARIA      1665 non-null   object \n",
            "dtypes: float64(1), object(14)\n",
            "memory usage: 208.1+ KB\n"
          ]
        }
      ]
    },
    {
      "cell_type": "code",
      "source": [
        "df['PROFESSOR'].unique()"
      ],
      "metadata": {
        "colab": {
          "base_uri": "https://localhost:8080/"
        },
        "id": "1-gh-6SLt0HY",
        "outputId": "3dec6aa3-b6a9-473b-c3b6-b61d763fdf21"
      },
      "execution_count": 37,
      "outputs": [
        {
          "output_type": "execute_result",
          "data": {
            "text/plain": [
              "array(['ALISSON', 'LIA', '-', 'BIANCA', 'NICOLAS', 'FERNANDO', 'GIBELI',\n",
              "       'PAOLA', nan, 'GABRIELA', 'LOUBACH', 'ALISSIN', 'ALISSON ', 'LIA ',\n",
              "       'CAROL', 'ISABELLY', 'LARISSA', 'AMANDA', 'CICERO', 'ALINE',\n",
              "       'ALLISON ', 'CÍCERO', 'NÃO', 'ALISSON/LARI', 'TODAS', 'NÃO ',\n",
              "       'LARISSA / ALISSON', 'FELIPE'], dtype=object)"
            ]
          },
          "metadata": {},
          "execution_count": 37
        }
      ]
    },
    {
      "cell_type": "code",
      "source": [
        "df['PROFESSOR'] = df['PROFESSOR'].str.replace(r'ALISSIN.*|ALISSON .*|ALLISON ', 'ALISSON', regex=True)\n",
        "df['ESTILOS'] = df['ESTILOS'].str.replace('LIA ', 'LIA')\n",
        "df['PROFESSOR'] = df['PROFESSOR'].str.replace(r'BALLET.*|KPOPBALLET.*|BALLEYT', 'BALLET CLÁSSICO', regex=True)\n",
        "df['PROFESSOR'] = df['PROFESSOR'].str.replace(r'BALLET.*|KPOPBALLET.*|BALLEYT', 'BALLET CLÁSSICO', regex=True)\n",
        "df['PROFESSOR'] = df['PROFESSOR'].str.replace(r'BALLET.*|KPOPBALLET.*|BALLEYT', 'BALLET CLÁSSICO', regex=True)\n",
        "df['PROFESSOR'] = df['PROFESSOR'].str.replace(r'BALLET.*|KPOPBALLET.*|BALLEYT', 'BALLET CLÁSSICO', regex=True)"
      ],
      "metadata": {
        "id": "KVsu9ps7uPSW"
      },
      "execution_count": null,
      "outputs": []
    },
    {
      "cell_type": "code",
      "source": [
        "with pd.ExcelWriter('CRM.xlsx', engine='xlsxwriter') as writer:\n",
        "    df.to_excel(writer, sheet_name='CRM', index=False)\n",
        "    #df_pc.to_excel(writer, sheet_name='Plano de contas', index=False)"
      ],
      "metadata": {
        "id": "97uyU-CbnVh3"
      },
      "execution_count": 38,
      "outputs": []
    },
    {
      "cell_type": "markdown",
      "source": [],
      "metadata": {
        "id": "8_I9waHCVAYA"
      }
    }
  ]
}